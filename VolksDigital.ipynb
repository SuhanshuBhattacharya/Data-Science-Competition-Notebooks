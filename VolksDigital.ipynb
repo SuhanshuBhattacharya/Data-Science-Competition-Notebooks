{
 "cells": [
  {
   "cell_type": "code",
   "execution_count": 1,
   "id": "bc8ae3f4",
   "metadata": {},
   "outputs": [],
   "source": [
    "# Importing Important Libraries\n",
    "import numpy as np\n",
    "import pandas as pd\n",
    "from matplotlib import pyplot as plt\n",
    "import seaborn as sns\n",
    "import warnings\n",
    "warnings.filterwarnings('ignore')\n",
    "pd.set_option('display.max_columns',None)\n",
    "import scipy.stats as stats"
   ]
  },
  {
   "cell_type": "markdown",
   "id": "d42b9a80",
   "metadata": {},
   "source": [
    "\n",
    "# Data Dictionary :\n",
    "------------------\n",
    "\n",
    "1) index\t\t-\tIndex No/Row No\n",
    "\n",
    "2) year_of_poll\t\t-\tYear for the conducted poll\n",
    "\n",
    "3) own_self_emp\t\t-\tBusiness Status( Unemployed - 0 , Business Owned - 1 , Self Employed - 2)\n",
    "\n",
    "4) veteran benefits\t-\tVeteran Benefits (0 - No Benefits, 1 - Cadre1 Benefits, 2- Cadre2 Benefits)\t\n",
    "\n",
    "5) currently_enrolled\t-\tCurrent enrolled in college/school.\n",
    "\n",
    "6) race\t\t\t-\tRace of people in the poll\n",
    "\n",
    "7) father_country\t-\tBirth country of father \n",
    "\n",
    "8) educ\t\t\t-\tSpecific education status \n",
    "\n",
    "9) house_stat\t\t-\tDemography in person's house \n",
    "\n",
    "10) major_ind_code\t-\tDifferent Industries where a person is working \n",
    "\n",
    "11) labour_union\t-\tMember of Labour Union \n",
    "\n",
    "12) self_country\t-\tCountry of oneself\n",
    "\n",
    "13) major_occ_code\t-\tOccupation a person performs in specific industry \n",
    "\n",
    "14) age\t\t\t-\tage of a person\n",
    "\n",
    "15) mother_country\t-\tBirth country of mother \n",
    "\n",
    "16) house_summary\t-\tdetailed household summary\n",
    "\n",
    "17) gender\t\t-\tGender of a person\n",
    "\n",
    "18) hisp_origin\t\t-\tOrigins of people in South America\n",
    "\n",
    "19) gains\t\t-\tcapital gains on investments\n",
    "\n",
    "20) dividends\t\t-\tdividends earned from stocks \n",
    "\n",
    "21) marriage_status\t-\tCurrent marital status\n",
    "\n",
    "22) losses\t\t-   \tcapital losses on investments\n",
    "\n",
    "23) employer_of\t\t-\tNumber of people employed under an employer\n",
    "\n",
    "24) house_1yr_ago\t-\tLiving in house for under 1 yr\n",
    "\n",
    "25) income_filled\t-\tIncome filled for tax\n",
    "\n",
    "26) weeks_worked\t-\tweeks worked in year\n",
    "\n",
    "27) under18\t\t-\tfamily members under 18\n",
    "\n",
    "28) hourly_wage\t\t-\twage earned hourly\n",
    "\n",
    "29) unemp_reason\t- \treason for unemployment \n",
    "\n",
    "30) citizenship\t\t-\tCitizenship of a person ( ' Foreign born- Not a citizen of U S ':'FB',\n",
    "\t\t\t\t' Native- Born in Puerto Rico or U S Outlying':'NB_PR',' Native- Born in the United States':'NB_US',\n",
    "\t\t\t\t' Foreign born- U S citizen by naturalization':'FB_US',' Native- Born abroad of American Parent(s)':'NB_US_Parents') \n",
    "\n",
    "31) woker_type\t\t-\tKind of worker \n",
    "\n",
    "32) fed_liability\t-\tFederal tax liability for people \n",
    "\n",
    "33) full_partime_job\t-\ttype of full/part-time job\n",
    "\n",
    "34) income\t\t-\tLess/More than 50k$ year"
   ]
  },
  {
   "cell_type": "markdown",
   "id": "b487d7b5",
   "metadata": {},
   "source": [
    "# Basic Data Reading and Eyeballing"
   ]
  },
  {
   "cell_type": "code",
   "execution_count": 2,
   "id": "a9e35fc6",
   "metadata": {},
   "outputs": [],
   "source": [
    "# Reading the train and test data and concating them together\n",
    "train=pd.read_csv('train (2).csv')\n",
    "test=pd.read_csv('test (2).csv')\n",
    "df=pd.concat([train,test],axis=0,ignore_index=True)"
   ]
  },
  {
   "cell_type": "code",
   "execution_count": 3,
   "id": "9dec73a7",
   "metadata": {},
   "outputs": [
    {
     "data": {
      "text/html": [
       "<div>\n",
       "<style scoped>\n",
       "    .dataframe tbody tr th:only-of-type {\n",
       "        vertical-align: middle;\n",
       "    }\n",
       "\n",
       "    .dataframe tbody tr th {\n",
       "        vertical-align: top;\n",
       "    }\n",
       "\n",
       "    .dataframe thead th {\n",
       "        text-align: right;\n",
       "    }\n",
       "</style>\n",
       "<table border=\"1\" class=\"dataframe\">\n",
       "  <thead>\n",
       "    <tr style=\"text-align: right;\">\n",
       "      <th></th>\n",
       "      <th>ID</th>\n",
       "      <th>year_of_poll</th>\n",
       "      <th>own_self_emp</th>\n",
       "      <th>veteran benefits</th>\n",
       "      <th>currently_enrolled</th>\n",
       "      <th>race</th>\n",
       "      <th>father_country</th>\n",
       "      <th>educ</th>\n",
       "      <th>house_stat</th>\n",
       "      <th>major_ind_code</th>\n",
       "      <th>labour_union</th>\n",
       "      <th>self_country</th>\n",
       "      <th>major_occ_code</th>\n",
       "      <th>age</th>\n",
       "      <th>mother_country</th>\n",
       "      <th>house_summary</th>\n",
       "      <th>gender</th>\n",
       "      <th>hisp_origin</th>\n",
       "      <th>gains</th>\n",
       "      <th>dividends</th>\n",
       "      <th>marriage_status</th>\n",
       "      <th>losses</th>\n",
       "      <th>employer_of</th>\n",
       "      <th>house_1yr_ago</th>\n",
       "      <th>income_filled</th>\n",
       "      <th>weeks_worked</th>\n",
       "      <th>under18</th>\n",
       "      <th>hourly_wage</th>\n",
       "      <th>unemp_reason</th>\n",
       "      <th>citizenship</th>\n",
       "      <th>woker_type</th>\n",
       "      <th>fed_liability</th>\n",
       "      <th>full_partime_job</th>\n",
       "      <th>income</th>\n",
       "    </tr>\n",
       "  </thead>\n",
       "  <tbody>\n",
       "    <tr>\n",
       "      <th>0</th>\n",
       "      <td>0</td>\n",
       "      <td>2004</td>\n",
       "      <td>0</td>\n",
       "      <td>2</td>\n",
       "      <td>High school</td>\n",
       "      <td>White</td>\n",
       "      <td>United-States</td>\n",
       "      <td>Associates degree-academic program</td>\n",
       "      <td>Householder</td>\n",
       "      <td>Business and repair services</td>\n",
       "      <td>no</td>\n",
       "      <td>United-States</td>\n",
       "      <td>Protective services</td>\n",
       "      <td>42.0</td>\n",
       "      <td>United-States</td>\n",
       "      <td>Householder</td>\n",
       "      <td>M</td>\n",
       "      <td>All_Other</td>\n",
       "      <td>0.0</td>\n",
       "      <td>0.0</td>\n",
       "      <td>Married_civilian_Sp_Pr</td>\n",
       "      <td>0.0</td>\n",
       "      <td>1</td>\n",
       "      <td>No</td>\n",
       "      <td>No</td>\n",
       "      <td>47</td>\n",
       "      <td>NaN</td>\n",
       "      <td>0.0</td>\n",
       "      <td>NaN</td>\n",
       "      <td>NB_US</td>\n",
       "      <td>Pvt</td>\n",
       "      <td>Joint_both_under65</td>\n",
       "      <td>Children/Armed_Forces</td>\n",
       "      <td>More than 50K $</td>\n",
       "    </tr>\n",
       "    <tr>\n",
       "      <th>1</th>\n",
       "      <td>1</td>\n",
       "      <td>2005</td>\n",
       "      <td>0</td>\n",
       "      <td>0</td>\n",
       "      <td>College/University</td>\n",
       "      <td>White</td>\n",
       "      <td>Japan</td>\n",
       "      <td>Children</td>\n",
       "      <td>Child &lt;18 never marr not in subfamily</td>\n",
       "      <td>Not in universe or children</td>\n",
       "      <td>NaN</td>\n",
       "      <td>United-States</td>\n",
       "      <td>NaN</td>\n",
       "      <td>10.0</td>\n",
       "      <td>United-States</td>\n",
       "      <td>Child_U18_Unmarried</td>\n",
       "      <td>M</td>\n",
       "      <td>Mex_Amer</td>\n",
       "      <td>0.0</td>\n",
       "      <td>0.0</td>\n",
       "      <td>Unmarried</td>\n",
       "      <td>0.0</td>\n",
       "      <td>0</td>\n",
       "      <td>NaN</td>\n",
       "      <td>No</td>\n",
       "      <td>0</td>\n",
       "      <td>Both_Pr</td>\n",
       "      <td>0.0</td>\n",
       "      <td>NaN</td>\n",
       "      <td>NB_US</td>\n",
       "      <td>NaN</td>\n",
       "      <td>Nonfiler</td>\n",
       "      <td>Children/Armed_Forces</td>\n",
       "      <td>More than 50K $</td>\n",
       "    </tr>\n",
       "    <tr>\n",
       "      <th>2</th>\n",
       "      <td>2</td>\n",
       "      <td>2004</td>\n",
       "      <td>0</td>\n",
       "      <td>2</td>\n",
       "      <td>NaN</td>\n",
       "      <td>White</td>\n",
       "      <td>United-States</td>\n",
       "      <td>Some college but no degree</td>\n",
       "      <td>Secondary individual</td>\n",
       "      <td>Manufacturing-durable goods</td>\n",
       "      <td>NaN</td>\n",
       "      <td>United-States</td>\n",
       "      <td>Machine operators assmblrs &amp; inspctrs</td>\n",
       "      <td>46.0</td>\n",
       "      <td>United-States</td>\n",
       "      <td>Non_Relative</td>\n",
       "      <td>M</td>\n",
       "      <td>All_Other</td>\n",
       "      <td>0.0</td>\n",
       "      <td>0.0</td>\n",
       "      <td>Divorced</td>\n",
       "      <td>0.0</td>\n",
       "      <td>6</td>\n",
       "      <td>No</td>\n",
       "      <td>Yes</td>\n",
       "      <td>47</td>\n",
       "      <td>NaN</td>\n",
       "      <td>0.0</td>\n",
       "      <td>NaN</td>\n",
       "      <td>NB_US</td>\n",
       "      <td>Pvt</td>\n",
       "      <td>Single</td>\n",
       "      <td>Children/Armed_Forces</td>\n",
       "      <td>More than 50K $</td>\n",
       "    </tr>\n",
       "    <tr>\n",
       "      <th>3</th>\n",
       "      <td>3</td>\n",
       "      <td>2004</td>\n",
       "      <td>0</td>\n",
       "      <td>2</td>\n",
       "      <td>College/University</td>\n",
       "      <td>Amer/Indian/Aleut/Eskimo</td>\n",
       "      <td>United-States</td>\n",
       "      <td>High school graduate</td>\n",
       "      <td>Householder</td>\n",
       "      <td>Wholesale trade</td>\n",
       "      <td>no</td>\n",
       "      <td>United-States</td>\n",
       "      <td>Handlers equip cleaners etc</td>\n",
       "      <td>35.0</td>\n",
       "      <td>United-States</td>\n",
       "      <td>Householder</td>\n",
       "      <td>M</td>\n",
       "      <td>All_Other</td>\n",
       "      <td>0.0</td>\n",
       "      <td>0.0</td>\n",
       "      <td>Married_civilian_Sp_Pr</td>\n",
       "      <td>0.0</td>\n",
       "      <td>2</td>\n",
       "      <td>Yes</td>\n",
       "      <td>NaN</td>\n",
       "      <td>47</td>\n",
       "      <td>NaN</td>\n",
       "      <td>0.0</td>\n",
       "      <td>NaN</td>\n",
       "      <td>NB_US</td>\n",
       "      <td>Pvt</td>\n",
       "      <td>Joint_both_under65</td>\n",
       "      <td>Children/Armed_Forces</td>\n",
       "      <td>More than 50K $</td>\n",
       "    </tr>\n",
       "    <tr>\n",
       "      <th>4</th>\n",
       "      <td>4</td>\n",
       "      <td>2004</td>\n",
       "      <td>0</td>\n",
       "      <td>2</td>\n",
       "      <td>NaN</td>\n",
       "      <td>White</td>\n",
       "      <td>United-States</td>\n",
       "      <td>High school graduate</td>\n",
       "      <td>Householder</td>\n",
       "      <td>Wholesale trade</td>\n",
       "      <td>no</td>\n",
       "      <td>United-States</td>\n",
       "      <td>Executive admin and managerial</td>\n",
       "      <td>61.0</td>\n",
       "      <td>United-States</td>\n",
       "      <td>Householder</td>\n",
       "      <td>F</td>\n",
       "      <td>All_Other</td>\n",
       "      <td>0.0</td>\n",
       "      <td>0.0</td>\n",
       "      <td>Divorced</td>\n",
       "      <td>0.0</td>\n",
       "      <td>3</td>\n",
       "      <td>Yes</td>\n",
       "      <td>NaN</td>\n",
       "      <td>47</td>\n",
       "      <td>NaN</td>\n",
       "      <td>0.0</td>\n",
       "      <td>NaN</td>\n",
       "      <td>NB_US</td>\n",
       "      <td>Pvt</td>\n",
       "      <td>Single</td>\n",
       "      <td>Children/Armed_Forces</td>\n",
       "      <td>More than 50K $</td>\n",
       "    </tr>\n",
       "  </tbody>\n",
       "</table>\n",
       "</div>"
      ],
      "text/plain": [
       "   ID  year_of_poll  own_self_emp  veteran benefits  currently_enrolled  \\\n",
       "0   0          2004             0                 2         High school   \n",
       "1   1          2005             0                 0  College/University   \n",
       "2   2          2004             0                 2                 NaN   \n",
       "3   3          2004             0                 2  College/University   \n",
       "4   4          2004             0                 2                 NaN   \n",
       "\n",
       "                       race  father_country  \\\n",
       "0                     White   United-States   \n",
       "1                     White           Japan   \n",
       "2                     White   United-States   \n",
       "3  Amer/Indian/Aleut/Eskimo   United-States   \n",
       "4                     White   United-States   \n",
       "\n",
       "                                  educ  \\\n",
       "0   Associates degree-academic program   \n",
       "1                             Children   \n",
       "2           Some college but no degree   \n",
       "3                 High school graduate   \n",
       "4                 High school graduate   \n",
       "\n",
       "                               house_stat                 major_ind_code  \\\n",
       "0                             Householder   Business and repair services   \n",
       "1   Child <18 never marr not in subfamily    Not in universe or children   \n",
       "2                    Secondary individual    Manufacturing-durable goods   \n",
       "3                             Householder                Wholesale trade   \n",
       "4                             Householder                Wholesale trade   \n",
       "\n",
       "  labour_union    self_country                          major_occ_code   age  \\\n",
       "0           no   United-States                     Protective services  42.0   \n",
       "1          NaN   United-States                                     NaN  10.0   \n",
       "2          NaN   United-States   Machine operators assmblrs & inspctrs  46.0   \n",
       "3           no   United-States            Handlers equip cleaners etc   35.0   \n",
       "4           no   United-States          Executive admin and managerial  61.0   \n",
       "\n",
       "   mother_country        house_summary gender hisp_origin  gains  dividends  \\\n",
       "0   United-States          Householder      M   All_Other    0.0        0.0   \n",
       "1   United-States  Child_U18_Unmarried      M    Mex_Amer    0.0        0.0   \n",
       "2   United-States         Non_Relative      M   All_Other    0.0        0.0   \n",
       "3   United-States          Householder      M   All_Other    0.0        0.0   \n",
       "4   United-States          Householder      F   All_Other    0.0        0.0   \n",
       "\n",
       "          marriage_status  losses  employer_of house_1yr_ago income_filled  \\\n",
       "0  Married_civilian_Sp_Pr     0.0            1            No            No   \n",
       "1               Unmarried     0.0            0           NaN            No   \n",
       "2                Divorced     0.0            6            No           Yes   \n",
       "3  Married_civilian_Sp_Pr     0.0            2           Yes           NaN   \n",
       "4                Divorced     0.0            3           Yes           NaN   \n",
       "\n",
       "   weeks_worked  under18  hourly_wage unemp_reason citizenship woker_type  \\\n",
       "0            47      NaN          0.0          NaN       NB_US        Pvt   \n",
       "1             0  Both_Pr          0.0          NaN       NB_US        NaN   \n",
       "2            47      NaN          0.0          NaN       NB_US        Pvt   \n",
       "3            47      NaN          0.0          NaN       NB_US        Pvt   \n",
       "4            47      NaN          0.0          NaN       NB_US        Pvt   \n",
       "\n",
       "        fed_liability       full_partime_job           income  \n",
       "0  Joint_both_under65  Children/Armed_Forces  More than 50K $  \n",
       "1            Nonfiler  Children/Armed_Forces  More than 50K $  \n",
       "2              Single  Children/Armed_Forces  More than 50K $  \n",
       "3  Joint_both_under65  Children/Armed_Forces  More than 50K $  \n",
       "4              Single  Children/Armed_Forces  More than 50K $  "
      ]
     },
     "execution_count": 3,
     "metadata": {},
     "output_type": "execute_result"
    }
   ],
   "source": [
    "# First Five rows of the Data\n",
    "df.head()"
   ]
  },
  {
   "cell_type": "code",
   "execution_count": 4,
   "id": "3dd77b18",
   "metadata": {},
   "outputs": [
    {
     "name": "stdout",
     "output_type": "stream",
     "text": [
      "<class 'pandas.core.frame.DataFrame'>\n",
      "RangeIndex: 147000 entries, 0 to 146999\n",
      "Data columns (total 34 columns):\n",
      " #   Column              Non-Null Count   Dtype  \n",
      "---  ------              --------------   -----  \n",
      " 0   ID                  147000 non-null  int64  \n",
      " 1   year_of_poll        147000 non-null  int64  \n",
      " 2   own_self_emp        147000 non-null  int64  \n",
      " 3   veteran benefits    147000 non-null  int64  \n",
      " 4   currently_enrolled  102944 non-null  object \n",
      " 5   race                147000 non-null  object \n",
      " 6   father_country      147000 non-null  object \n",
      " 7   educ                147000 non-null  object \n",
      " 8   house_stat          146986 non-null  object \n",
      " 9   major_ind_code      147000 non-null  object \n",
      " 10  labour_union        97332 non-null   object \n",
      " 11  self_country        147000 non-null  object \n",
      " 12  major_occ_code      72877 non-null   object \n",
      " 13  age                 146404 non-null  float64\n",
      " 14  mother_country      147000 non-null  object \n",
      " 15  house_summary       147000 non-null  object \n",
      " 16  gender              147000 non-null  object \n",
      " 17  hisp_origin         147000 non-null  object \n",
      " 18  gains               147000 non-null  float64\n",
      " 19  dividends           147000 non-null  float64\n",
      " 20  marriage_status     147000 non-null  object \n",
      " 21  losses              147000 non-null  float64\n",
      " 22  employer_of         147000 non-null  int64  \n",
      " 23  house_1yr_ago       72280 non-null   object \n",
      " 24  income_filled       101589 non-null  object \n",
      " 25  weeks_worked        147000 non-null  int64  \n",
      " 26  under18             40644 non-null   object \n",
      " 27  hourly_wage         147000 non-null  float64\n",
      " 28  unemp_reason        4474 non-null    object \n",
      " 29  citizenship         147000 non-null  object \n",
      " 30  woker_type          73188 non-null   object \n",
      " 31  fed_liability       147000 non-null  object \n",
      " 32  full_partime_job    145040 non-null  object \n",
      " 33  income              105000 non-null  object \n",
      "dtypes: float64(5), int64(6), object(23)\n",
      "memory usage: 38.1+ MB\n"
     ]
    }
   ],
   "source": [
    "# Info of the Data\n",
    "df.info()"
   ]
  },
  {
   "cell_type": "code",
   "execution_count": 5,
   "id": "72c702bb",
   "metadata": {},
   "outputs": [
    {
     "data": {
      "text/plain": [
       "currently_enrolled     44056\n",
       "house_stat                14\n",
       "labour_union           49668\n",
       "major_occ_code         74123\n",
       "age                      596\n",
       "house_1yr_ago          74720\n",
       "income_filled          45411\n",
       "under18               106356\n",
       "unemp_reason          142526\n",
       "woker_type             73812\n",
       "full_partime_job        1960\n",
       "income                 42000\n",
       "dtype: int64"
      ]
     },
     "execution_count": 5,
     "metadata": {},
     "output_type": "execute_result"
    }
   ],
   "source": [
    "# Checking for Missing values\n",
    "df.isnull().sum()[df.isnull().sum()>0]\n",
    "# Data Has Missing values"
   ]
  },
  {
   "cell_type": "markdown",
   "id": "f2293556",
   "metadata": {},
   "source": [
    "#### We would be doing Data Cleaning before procedding towards our Exploratory Data Analysis but first we would check for significant features before procedding"
   ]
  },
  {
   "cell_type": "markdown",
   "id": "189736b9",
   "metadata": {},
   "source": [
    "# Data Cleaning and Handling of Missing Values"
   ]
  },
  {
   "cell_type": "code",
   "execution_count": 6,
   "id": "29d7611e",
   "metadata": {},
   "outputs": [],
   "source": [
    "# We see that there are only 14 values missing in the house_stat column we would fill this with the mode of the column\n",
    "df.house_stat.fillna(df.house_stat.mode()[0],inplace=True)"
   ]
  },
  {
   "cell_type": "code",
   "execution_count": 7,
   "id": "2936b311",
   "metadata": {},
   "outputs": [
    {
     "data": {
      "text/plain": [
       "currently_enrolled     44056\n",
       "labour_union           49668\n",
       "major_occ_code         74123\n",
       "age                      596\n",
       "house_1yr_ago          74720\n",
       "income_filled          45411\n",
       "under18               106356\n",
       "unemp_reason          142526\n",
       "woker_type             73812\n",
       "full_partime_job        1960\n",
       "income                 42000\n",
       "dtype: int64"
      ]
     },
     "execution_count": 7,
     "metadata": {},
     "output_type": "execute_result"
    }
   ],
   "source": [
    "df.isnull().sum()[df.isnull().sum()>0]\n",
    "# House stat column is now filled"
   ]
  },
  {
   "cell_type": "code",
   "execution_count": 8,
   "id": "e2b824aa",
   "metadata": {},
   "outputs": [
    {
     "data": {
      "text/plain": [
       "array([' Child <18 never marr not in subfamily',\n",
       "       ' Child under 18 of RP of unrel subfamily',\n",
       "       ' Grandchild <18 never marr child of subfamily RP',\n",
       "       ' Other Rel <18 never marr child of subfamily RP',\n",
       "       ' Grandchild <18 never marr not in subfamily',\n",
       "       ' Other Rel <18 never marr not in subfamily',\n",
       "       ' Secondary individual'], dtype=object)"
      ]
     },
     "execution_count": 8,
     "metadata": {},
     "output_type": "execute_result"
    }
   ],
   "source": [
    "df.loc[df.age.isnull()]['house_stat'].unique()\n",
    "# We see that wherever the age is missing it is a record of a child\n",
    "# So we will fill the missing values in the ge column with the median age of children"
   ]
  },
  {
   "cell_type": "code",
   "execution_count": 9,
   "id": "ccf9b348",
   "metadata": {},
   "outputs": [
    {
     "data": {
      "text/plain": [
       "array([' Associates degree-academic program', ' Children',\n",
       "       ' Some college but no degree', ' High school graduate',\n",
       "       ' 10th grade', ' Prof school degree (MD DDS DVM LLB JD)',\n",
       "       ' Bachelors degree(BA AB BS)', ' 7th and 8th grade',\n",
       "       ' 5th or 6th grade', ' 9th grade', ' 11th grade',\n",
       "       ' Masters degree(MA MS MEng MEd MSW MBA)',\n",
       "       ' Associates degree-occup /vocational',\n",
       "       ' 1st 2nd 3rd or 4th grade', ' Less than 1st grade',\n",
       "       ' 12th grade no diploma', ' Doctorate degree(PhD EdD)'],\n",
       "      dtype=object)"
      ]
     },
     "execution_count": 9,
     "metadata": {},
     "output_type": "execute_result"
    }
   ],
   "source": [
    "df.educ.unique()"
   ]
  },
  {
   "cell_type": "code",
   "execution_count": 10,
   "id": "a0a4846c",
   "metadata": {},
   "outputs": [],
   "source": [
    "med=df.loc[df.educ==' Children','age'].median() # Median age for all children"
   ]
  },
  {
   "cell_type": "code",
   "execution_count": 11,
   "id": "9fff9f9e",
   "metadata": {},
   "outputs": [],
   "source": [
    "# Filling age with the median value of the children\n",
    "df.age.fillna(med,inplace=True)"
   ]
  },
  {
   "cell_type": "code",
   "execution_count": 12,
   "id": "5332599a",
   "metadata": {},
   "outputs": [
    {
     "data": {
      "text/plain": [
       "currently_enrolled     44056\n",
       "labour_union           49668\n",
       "major_occ_code         74123\n",
       "house_1yr_ago          74720\n",
       "income_filled          45411\n",
       "under18               106356\n",
       "unemp_reason          142526\n",
       "woker_type             73812\n",
       "full_partime_job        1960\n",
       "income                 42000\n",
       "dtype: int64"
      ]
     },
     "execution_count": 12,
     "metadata": {},
     "output_type": "execute_result"
    }
   ],
   "source": [
    "df.isnull().sum()[df.isnull().sum()>0]\n",
    "# Age column is now filled"
   ]
  },
  {
   "cell_type": "code",
   "execution_count": 13,
   "id": "f536249c",
   "metadata": {},
   "outputs": [],
   "source": [
    "# Now we will fill the full_partime_job\n",
    "# First we will the missing values in full_partime_job where age<18 by 'Children/Armed Forces'\n",
    "df.loc[(df.age<18) & (df.full_partime_job.isnull()),'full_partime_job']='Children/Armed_Forces'"
   ]
  },
  {
   "cell_type": "code",
   "execution_count": 14,
   "id": "b5391c7f",
   "metadata": {},
   "outputs": [
    {
     "data": {
      "text/plain": [
       "full_partime_job        1454\n",
       "income                 42000\n",
       "currently_enrolled     44056\n",
       "income_filled          45411\n",
       "labour_union           49668\n",
       "woker_type             73812\n",
       "major_occ_code         74123\n",
       "house_1yr_ago          74720\n",
       "under18               106356\n",
       "unemp_reason          142526\n",
       "dtype: int64"
      ]
     },
     "execution_count": 14,
     "metadata": {},
     "output_type": "execute_result"
    }
   ],
   "source": [
    "df.isnull().sum()[df.isnull().sum()>0].sort_values()\n",
    "# We see that the number of missing values on full_partime_job has reduced\n",
    "# Now we will fill the rest of the missing values in full_partime_job"
   ]
  },
  {
   "cell_type": "code",
   "execution_count": 15,
   "id": "2c48ab75",
   "metadata": {},
   "outputs": [
    {
     "data": {
      "text/plain": [
       "array(['Children/Armed_Forces', ' Full-time schedules',\n",
       "       ' Not in labor force', ' PT for econ reasons usually PT',\n",
       "       ' PT for non-econ reasons usually FT', ' Unemployed full-time',\n",
       "       nan, ' Unemployed part- time', ' PT for econ reasons usually FT'],\n",
       "      dtype=object)"
      ]
     },
     "execution_count": 15,
     "metadata": {},
     "output_type": "execute_result"
    }
   ],
   "source": [
    "df.full_partime_job.unique()"
   ]
  },
  {
   "cell_type": "code",
   "execution_count": 16,
   "id": "e3baf1bf",
   "metadata": {},
   "outputs": [],
   "source": [
    "df.loc[(df.major_occ_code==' Protective services') & (df.full_partime_job.isnull()),'full_partime_job']='Children/Armed_Forces'"
   ]
  },
  {
   "cell_type": "code",
   "execution_count": 17,
   "id": "56396b65",
   "metadata": {},
   "outputs": [
    {
     "data": {
      "text/plain": [
       "full_partime_job        1433\n",
       "income                 42000\n",
       "currently_enrolled     44056\n",
       "income_filled          45411\n",
       "labour_union           49668\n",
       "woker_type             73812\n",
       "major_occ_code         74123\n",
       "house_1yr_ago          74720\n",
       "under18               106356\n",
       "unemp_reason          142526\n",
       "dtype: int64"
      ]
     },
     "execution_count": 17,
     "metadata": {},
     "output_type": "execute_result"
    }
   ],
   "source": [
    "df.isnull().sum()[df.isnull().sum()>0].sort_values()"
   ]
  },
  {
   "cell_type": "code",
   "execution_count": 18,
   "id": "56a22d61",
   "metadata": {},
   "outputs": [],
   "source": [
    "df.loc[(df.age<=18) & (df.woker_type==' Never worked') & (df.full_partime_job.isnull()),'full_partime_job']='Children/Armed_Forces'"
   ]
  },
  {
   "cell_type": "code",
   "execution_count": 19,
   "id": "c6b3cf0e",
   "metadata": {},
   "outputs": [
    {
     "data": {
      "text/plain": [
       "full_partime_job        1431\n",
       "income                 42000\n",
       "currently_enrolled     44056\n",
       "income_filled          45411\n",
       "labour_union           49668\n",
       "woker_type             73812\n",
       "major_occ_code         74123\n",
       "house_1yr_ago          74720\n",
       "under18               106356\n",
       "unemp_reason          142526\n",
       "dtype: int64"
      ]
     },
     "execution_count": 19,
     "metadata": {},
     "output_type": "execute_result"
    }
   ],
   "source": [
    "df.isnull().sum()[df.isnull().sum()>0].sort_values()"
   ]
  },
  {
   "cell_type": "code",
   "execution_count": 20,
   "id": "50756a2d",
   "metadata": {},
   "outputs": [],
   "source": [
    "df.loc[(df.own_self_emp==0) & (df.full_partime_job.isnull()),'full_partime_job']=' Unemployed full-time'"
   ]
  },
  {
   "cell_type": "code",
   "execution_count": 21,
   "id": "f53d117b",
   "metadata": {},
   "outputs": [
    {
     "data": {
      "text/plain": [
       "full_partime_job         168\n",
       "income                 42000\n",
       "currently_enrolled     44056\n",
       "income_filled          45411\n",
       "labour_union           49668\n",
       "woker_type             73812\n",
       "major_occ_code         74123\n",
       "house_1yr_ago          74720\n",
       "under18               106356\n",
       "unemp_reason          142526\n",
       "dtype: int64"
      ]
     },
     "execution_count": 21,
     "metadata": {},
     "output_type": "execute_result"
    }
   ],
   "source": [
    "df.isnull().sum()[df.isnull().sum()>0].sort_values()"
   ]
  },
  {
   "cell_type": "code",
   "execution_count": 22,
   "id": "692af1f7",
   "metadata": {},
   "outputs": [],
   "source": [
    "df.loc[(df.own_self_emp==2) & (df['veteran benefits']==2) & (df.full_partime_job.isnull()),'full_partime_job']='Children/Armed_Forces'"
   ]
  },
  {
   "cell_type": "code",
   "execution_count": 23,
   "id": "dbc43299",
   "metadata": {},
   "outputs": [],
   "source": [
    "df.loc[(df.own_self_emp==2) & (df['veteran benefits']==1) & (df.full_partime_job.isnull()),'full_partime_job']=' Full-time schedules'"
   ]
  },
  {
   "cell_type": "code",
   "execution_count": 24,
   "id": "1c10abca",
   "metadata": {},
   "outputs": [
    {
     "data": {
      "text/plain": [
       "full_partime_job          21\n",
       "income                 42000\n",
       "currently_enrolled     44056\n",
       "income_filled          45411\n",
       "labour_union           49668\n",
       "woker_type             73812\n",
       "major_occ_code         74123\n",
       "house_1yr_ago          74720\n",
       "under18               106356\n",
       "unemp_reason          142526\n",
       "dtype: int64"
      ]
     },
     "execution_count": 24,
     "metadata": {},
     "output_type": "execute_result"
    }
   ],
   "source": [
    "df.isnull().sum()[df.isnull().sum()>0].sort_values()"
   ]
  },
  {
   "cell_type": "code",
   "execution_count": 25,
   "id": "bd80c006",
   "metadata": {},
   "outputs": [],
   "source": [
    "df.loc[(df.own_self_emp==1) & (df['veteran benefits']==2) & (df.full_partime_job.isnull()),'full_partime_job']='Children/Armed_Forces'"
   ]
  },
  {
   "cell_type": "code",
   "execution_count": 26,
   "id": "ad6acbbb",
   "metadata": {},
   "outputs": [
    {
     "data": {
      "text/plain": [
       "income                 42000\n",
       "currently_enrolled     44056\n",
       "income_filled          45411\n",
       "labour_union           49668\n",
       "woker_type             73812\n",
       "major_occ_code         74123\n",
       "house_1yr_ago          74720\n",
       "under18               106356\n",
       "unemp_reason          142526\n",
       "dtype: int64"
      ]
     },
     "execution_count": 26,
     "metadata": {},
     "output_type": "execute_result"
    }
   ],
   "source": [
    "df.isnull().sum()[df.isnull().sum()>0].sort_values()\n",
    "# full_partime_job is now filled"
   ]
  },
  {
   "cell_type": "code",
   "execution_count": 27,
   "id": "1361ac5e",
   "metadata": {},
   "outputs": [],
   "source": [
    "# to fill the missin g vaues in under18 we will create a new category 'above 18' which would tell that the correpondent is above 18\n",
    "df.loc[(df.age>=18) & (df.under18.isnull()),'under18']='Above 18'"
   ]
  },
  {
   "cell_type": "code",
   "execution_count": 28,
   "id": "bb722b6c",
   "metadata": {},
   "outputs": [
    {
     "data": {
      "text/plain": [
       "under18                  383\n",
       "income                 42000\n",
       "currently_enrolled     44056\n",
       "income_filled          45411\n",
       "labour_union           49668\n",
       "woker_type             73812\n",
       "major_occ_code         74123\n",
       "house_1yr_ago          74720\n",
       "unemp_reason          142526\n",
       "dtype: int64"
      ]
     },
     "execution_count": 28,
     "metadata": {},
     "output_type": "execute_result"
    }
   ],
   "source": [
    "df.isnull().sum()[df.isnull().sum()>0].sort_values()"
   ]
  },
  {
   "cell_type": "code",
   "execution_count": 29,
   "id": "c2f1bb41",
   "metadata": {},
   "outputs": [],
   "source": [
    "df.under18.fillna('Unknown',inplace=True)"
   ]
  },
  {
   "cell_type": "code",
   "execution_count": 30,
   "id": "6f614bb6",
   "metadata": {},
   "outputs": [
    {
     "data": {
      "text/plain": [
       "income                28.571429\n",
       "currently_enrolled    29.970068\n",
       "income_filled         30.891837\n",
       "labour_union          33.787755\n",
       "woker_type            50.212245\n",
       "major_occ_code        50.423810\n",
       "house_1yr_ago         50.829932\n",
       "unemp_reason          96.956463\n",
       "dtype: float64"
      ]
     },
     "execution_count": 30,
     "metadata": {},
     "output_type": "execute_result"
    }
   ],
   "source": [
    "df.isnull().sum()[df.isnull().sum()>0].sort_values()*100/len(df)"
   ]
  },
  {
   "cell_type": "code",
   "execution_count": 31,
   "id": "b8128348",
   "metadata": {},
   "outputs": [],
   "source": [
    "df.drop(columns='unemp_reason',inplace=True)"
   ]
  },
  {
   "cell_type": "code",
   "execution_count": 32,
   "id": "1e322e73",
   "metadata": {},
   "outputs": [
    {
     "data": {
      "text/plain": [
       "income                42000\n",
       "currently_enrolled    44056\n",
       "income_filled         45411\n",
       "labour_union          49668\n",
       "woker_type            73812\n",
       "major_occ_code        74123\n",
       "house_1yr_ago         74720\n",
       "dtype: int64"
      ]
     },
     "execution_count": 32,
     "metadata": {},
     "output_type": "execute_result"
    }
   ],
   "source": [
    "df.isnull().sum()[df.isnull().sum()>0].sort_values()"
   ]
  },
  {
   "cell_type": "code",
   "execution_count": 33,
   "id": "9810d100",
   "metadata": {},
   "outputs": [
    {
     "data": {
      "text/plain": [
       " Not in universe or children    74123\n",
       "Name: major_ind_code, dtype: int64"
      ]
     },
     "execution_count": 33,
     "metadata": {},
     "output_type": "execute_result"
    }
   ],
   "source": [
    "df.loc[df.major_occ_code.isnull()]['major_ind_code'].value_counts()"
   ]
  },
  {
   "cell_type": "code",
   "execution_count": 34,
   "id": "fc640aed",
   "metadata": {},
   "outputs": [],
   "source": [
    "# We see that wherever the major_occ_code is null the major_ind code says not in universe or children\n",
    "# So we woould replace the null values in the major occ code by not in universe or children\n",
    "df.major_occ_code.fillna(' Not in universe or children',inplace=True)"
   ]
  },
  {
   "cell_type": "code",
   "execution_count": 35,
   "id": "85d365de",
   "metadata": {},
   "outputs": [
    {
     "data": {
      "text/plain": [
       "income                42000\n",
       "currently_enrolled    44056\n",
       "income_filled         45411\n",
       "labour_union          49668\n",
       "woker_type            73812\n",
       "house_1yr_ago         74720\n",
       "dtype: int64"
      ]
     },
     "execution_count": 35,
     "metadata": {},
     "output_type": "execute_result"
    }
   ],
   "source": [
    "df.isnull().sum()[df.isnull().sum()>0].sort_values()"
   ]
  },
  {
   "cell_type": "code",
   "execution_count": 36,
   "id": "4fca1bdb",
   "metadata": {},
   "outputs": [],
   "source": [
    "# We are not able to find any pattern regarding the currnetly enrolled column\n",
    "# So we would fill the missing values with 'unknown'\n",
    "df.currently_enrolled.fillna('Unknown',inplace=True)"
   ]
  },
  {
   "cell_type": "code",
   "execution_count": 37,
   "id": "b991ed35",
   "metadata": {},
   "outputs": [
    {
     "data": {
      "text/plain": [
       "income           42000\n",
       "income_filled    45411\n",
       "labour_union     49668\n",
       "woker_type       73812\n",
       "house_1yr_ago    74720\n",
       "dtype: int64"
      ]
     },
     "execution_count": 37,
     "metadata": {},
     "output_type": "execute_result"
    }
   ],
   "source": [
    "df.isnull().sum()[df.isnull().sum()>0].sort_values()"
   ]
  },
  {
   "cell_type": "code",
   "execution_count": 38,
   "id": "f0d1c3ee",
   "metadata": {},
   "outputs": [
    {
     "data": {
      "text/plain": [
       " Not in universe or children    73812\n",
       "Name: major_ind_code, dtype: int64"
      ]
     },
     "execution_count": 38,
     "metadata": {},
     "output_type": "execute_result"
    }
   ],
   "source": [
    "df.loc[df.woker_type.isnull()]['major_ind_code'].value_counts()"
   ]
  },
  {
   "cell_type": "code",
   "execution_count": 39,
   "id": "41df1f36",
   "metadata": {},
   "outputs": [],
   "source": [
    "# We see that whereever the woker type is null the industry code is not in universe or children\n",
    "# So we will fill the missing values with this value\n",
    "df.woker_type.fillna('Deceased or below 18',inplace=True)"
   ]
  },
  {
   "cell_type": "code",
   "execution_count": 40,
   "id": "57997fce",
   "metadata": {},
   "outputs": [
    {
     "data": {
      "text/plain": [
       "income           42000\n",
       "income_filled    45411\n",
       "labour_union     49668\n",
       "house_1yr_ago    74720\n",
       "dtype: int64"
      ]
     },
     "execution_count": 40,
     "metadata": {},
     "output_type": "execute_result"
    }
   ],
   "source": [
    "df.isnull().sum()[df.isnull().sum()>0].sort_values()"
   ]
  },
  {
   "cell_type": "code",
   "execution_count": 41,
   "id": "906d88df",
   "metadata": {},
   "outputs": [],
   "source": [
    "df.loc[(df.age<18) & (df.income_filled.isnull()),'income_filled']=' No'"
   ]
  },
  {
   "cell_type": "code",
   "execution_count": 42,
   "id": "895cf244",
   "metadata": {},
   "outputs": [
    {
     "data": {
      "text/plain": [
       "income_filled    33323\n",
       "income           42000\n",
       "labour_union     49668\n",
       "house_1yr_ago    74720\n",
       "dtype: int64"
      ]
     },
     "execution_count": 42,
     "metadata": {},
     "output_type": "execute_result"
    }
   ],
   "source": [
    "df.isnull().sum()[df.isnull().sum()>0].sort_values()"
   ]
  },
  {
   "cell_type": "code",
   "execution_count": 43,
   "id": "875c4f85",
   "metadata": {},
   "outputs": [],
   "source": [
    "df.loc[(df.income_filled.isnull()) & (df.major_ind_code==' Not in universe or children'),'income_filled']=' No'"
   ]
  },
  {
   "cell_type": "code",
   "execution_count": 44,
   "id": "256fd2b9",
   "metadata": {},
   "outputs": [
    {
     "data": {
      "text/plain": [
       "income_filled    22353\n",
       "income           42000\n",
       "labour_union     49668\n",
       "house_1yr_ago    74720\n",
       "dtype: int64"
      ]
     },
     "execution_count": 44,
     "metadata": {},
     "output_type": "execute_result"
    }
   ],
   "source": [
    "df.isnull().sum()[df.isnull().sum()>0].sort_values()"
   ]
  },
  {
   "cell_type": "code",
   "execution_count": 45,
   "id": "5ed4c72a",
   "metadata": {},
   "outputs": [],
   "source": [
    "df.loc[(df.own_self_emp==0) & (df.income_filled.isnull()),'income_filled']=' No'"
   ]
  },
  {
   "cell_type": "code",
   "execution_count": 46,
   "id": "6f8bc3d8",
   "metadata": {},
   "outputs": [
    {
     "data": {
      "text/plain": [
       "income_filled     4003\n",
       "income           42000\n",
       "labour_union     49668\n",
       "house_1yr_ago    74720\n",
       "dtype: int64"
      ]
     },
     "execution_count": 46,
     "metadata": {},
     "output_type": "execute_result"
    }
   ],
   "source": [
    "df.isnull().sum()[df.isnull().sum()>0].sort_values()"
   ]
  },
  {
   "cell_type": "code",
   "execution_count": 47,
   "id": "ac6a1daa",
   "metadata": {},
   "outputs": [],
   "source": [
    "df.income_filled.fillna(' Yes',inplace=True)"
   ]
  },
  {
   "cell_type": "code",
   "execution_count": 48,
   "id": "924fc904",
   "metadata": {},
   "outputs": [
    {
     "data": {
      "text/plain": [
       "income           42000\n",
       "labour_union     49668\n",
       "house_1yr_ago    74720\n",
       "dtype: int64"
      ]
     },
     "execution_count": 48,
     "metadata": {},
     "output_type": "execute_result"
    }
   ],
   "source": [
    "df.isnull().sum()[df.isnull().sum()>0].sort_values()"
   ]
  },
  {
   "cell_type": "code",
   "execution_count": 49,
   "id": "bad27caf",
   "metadata": {},
   "outputs": [],
   "source": [
    "# We will fill the rest of the missing values with unknown\n",
    "df.labour_union.fillna('Unknown',inplace=True)\n",
    "df.house_1yr_ago.fillna('Unknown',inplace=True)"
   ]
  },
  {
   "cell_type": "code",
   "execution_count": 50,
   "id": "b2a1b686",
   "metadata": {},
   "outputs": [
    {
     "data": {
      "text/plain": [
       "income    42000\n",
       "dtype: int64"
      ]
     },
     "execution_count": 50,
     "metadata": {},
     "output_type": "execute_result"
    }
   ],
   "source": [
    "df.isnull().sum()[df.isnull().sum()>0].sort_values()\n",
    "# Missing values are now filled"
   ]
  },
  {
   "cell_type": "code",
   "execution_count": 51,
   "id": "af9b0cea",
   "metadata": {},
   "outputs": [],
   "source": [
    "df.loc[df.age<18,'full_partime_job']='Children'"
   ]
  },
  {
   "cell_type": "code",
   "execution_count": 52,
   "id": "57b78dee",
   "metadata": {},
   "outputs": [],
   "source": [
    "df.full_partime_job.replace(to_replace='Children/Armed_Forces',value='Armed_Forces',inplace=True)"
   ]
  },
  {
   "cell_type": "markdown",
   "id": "57043765",
   "metadata": {},
   "source": [
    "# Feature Selection"
   ]
  },
  {
   "cell_type": "code",
   "execution_count": 53,
   "id": "d9313a01",
   "metadata": {},
   "outputs": [],
   "source": [
    "# Before procedding to our feature selection we would drop redundant columns\n",
    "df.drop(columns='ID',inplace=True)"
   ]
  },
  {
   "cell_type": "code",
   "execution_count": 54,
   "id": "5ef6d755",
   "metadata": {},
   "outputs": [
    {
     "data": {
      "text/plain": [
       "Index(['year_of_poll', 'own_self_emp', 'veteran benefits',\n",
       "       'currently_enrolled', 'race', 'father_country', 'educ', 'house_stat',\n",
       "       'major_ind_code', 'labour_union', 'self_country', 'major_occ_code',\n",
       "       'age', 'mother_country', 'house_summary', 'gender', 'hisp_origin',\n",
       "       'gains', 'dividends', 'marriage_status', 'losses', 'employer_of',\n",
       "       'house_1yr_ago', 'income_filled', 'weeks_worked', 'under18',\n",
       "       'hourly_wage', 'citizenship', 'woker_type', 'fed_liability',\n",
       "       'full_partime_job', 'income'],\n",
       "      dtype='object')"
      ]
     },
     "execution_count": 54,
     "metadata": {},
     "output_type": "execute_result"
    }
   ],
   "source": [
    "# We would first check the categorical columns\n",
    "df.columns"
   ]
  },
  {
   "cell_type": "code",
   "execution_count": 55,
   "id": "ab516e60",
   "metadata": {},
   "outputs": [],
   "source": [
    "cats=['year_of_poll', 'own_self_emp', 'veteran benefits',\n",
    "       'currently_enrolled', 'race', 'father_country', 'educ', 'house_stat',\n",
    "       'major_ind_code', 'labour_union', 'self_country', 'major_occ_code',\n",
    "       'mother_country', 'house_summary', 'gender', 'hisp_origin',\n",
    "       'dividends', 'marriage_status','house_1yr_ago', 'income_filled', 'under18', 'citizenship', 'woker_type', 'fed_liability',\n",
    "       'full_partime_job'] # Categorical Features"
   ]
  },
  {
   "cell_type": "code",
   "execution_count": 56,
   "id": "acf7f51c",
   "metadata": {},
   "outputs": [],
   "source": [
    "# For the following statsistical test our significance level would be 0.05\n",
    "stat_df=pd.DataFrame()\n",
    "stat_df['features']=cats\n",
    "lst=[]\n",
    "\n",
    "for i in cats:\n",
    "    # Null Hypothesis: i has no impact on the target variable\n",
    "    # Alternate Hypothesis: i has an impact on the target variable\n",
    "    tbl=pd.crosstab(df[i],df.income)\n",
    "    statistic,pvalue,dof,expected=stats.chi2_contingency(tbl)\n",
    "    lst.append(pvalue)\n",
    "\n",
    "stat_df['Pvalue']=lst"
   ]
  },
  {
   "cell_type": "code",
   "execution_count": 57,
   "id": "397b709d",
   "metadata": {},
   "outputs": [
    {
     "data": {
      "text/html": [
       "<div>\n",
       "<style scoped>\n",
       "    .dataframe tbody tr th:only-of-type {\n",
       "        vertical-align: middle;\n",
       "    }\n",
       "\n",
       "    .dataframe tbody tr th {\n",
       "        vertical-align: top;\n",
       "    }\n",
       "\n",
       "    .dataframe thead th {\n",
       "        text-align: right;\n",
       "    }\n",
       "</style>\n",
       "<table border=\"1\" class=\"dataframe\">\n",
       "  <thead>\n",
       "    <tr style=\"text-align: right;\">\n",
       "      <th></th>\n",
       "      <th>features</th>\n",
       "      <th>Pvalue</th>\n",
       "    </tr>\n",
       "  </thead>\n",
       "  <tbody>\n",
       "    <tr>\n",
       "      <th>0</th>\n",
       "      <td>year_of_poll</td>\n",
       "      <td>5.113161e-01</td>\n",
       "    </tr>\n",
       "    <tr>\n",
       "      <th>1</th>\n",
       "      <td>own_self_emp</td>\n",
       "      <td>1.412548e-16</td>\n",
       "    </tr>\n",
       "    <tr>\n",
       "      <th>2</th>\n",
       "      <td>veteran benefits</td>\n",
       "      <td>1.325400e-46</td>\n",
       "    </tr>\n",
       "    <tr>\n",
       "      <th>3</th>\n",
       "      <td>currently_enrolled</td>\n",
       "      <td>8.358494e-02</td>\n",
       "    </tr>\n",
       "    <tr>\n",
       "      <th>4</th>\n",
       "      <td>race</td>\n",
       "      <td>4.654411e-11</td>\n",
       "    </tr>\n",
       "    <tr>\n",
       "      <th>5</th>\n",
       "      <td>father_country</td>\n",
       "      <td>1.206961e-05</td>\n",
       "    </tr>\n",
       "    <tr>\n",
       "      <th>6</th>\n",
       "      <td>educ</td>\n",
       "      <td>0.000000e+00</td>\n",
       "    </tr>\n",
       "    <tr>\n",
       "      <th>7</th>\n",
       "      <td>house_stat</td>\n",
       "      <td>4.210376e-115</td>\n",
       "    </tr>\n",
       "    <tr>\n",
       "      <th>8</th>\n",
       "      <td>major_ind_code</td>\n",
       "      <td>7.114120e-174</td>\n",
       "    </tr>\n",
       "    <tr>\n",
       "      <th>9</th>\n",
       "      <td>labour_union</td>\n",
       "      <td>2.231193e-01</td>\n",
       "    </tr>\n",
       "    <tr>\n",
       "      <th>10</th>\n",
       "      <td>self_country</td>\n",
       "      <td>1.024270e-03</td>\n",
       "    </tr>\n",
       "    <tr>\n",
       "      <th>11</th>\n",
       "      <td>major_occ_code</td>\n",
       "      <td>0.000000e+00</td>\n",
       "    </tr>\n",
       "    <tr>\n",
       "      <th>12</th>\n",
       "      <td>mother_country</td>\n",
       "      <td>2.150805e-07</td>\n",
       "    </tr>\n",
       "    <tr>\n",
       "      <th>13</th>\n",
       "      <td>house_summary</td>\n",
       "      <td>5.606992e-118</td>\n",
       "    </tr>\n",
       "    <tr>\n",
       "      <th>14</th>\n",
       "      <td>gender</td>\n",
       "      <td>9.120930e-65</td>\n",
       "    </tr>\n",
       "    <tr>\n",
       "      <th>15</th>\n",
       "      <td>hisp_origin</td>\n",
       "      <td>3.194589e-11</td>\n",
       "    </tr>\n",
       "    <tr>\n",
       "      <th>16</th>\n",
       "      <td>dividends</td>\n",
       "      <td>2.589768e-76</td>\n",
       "    </tr>\n",
       "    <tr>\n",
       "      <th>17</th>\n",
       "      <td>marriage_status</td>\n",
       "      <td>4.076987e-90</td>\n",
       "    </tr>\n",
       "    <tr>\n",
       "      <th>18</th>\n",
       "      <td>house_1yr_ago</td>\n",
       "      <td>7.240513e-03</td>\n",
       "    </tr>\n",
       "    <tr>\n",
       "      <th>19</th>\n",
       "      <td>income_filled</td>\n",
       "      <td>8.633083e-01</td>\n",
       "    </tr>\n",
       "    <tr>\n",
       "      <th>20</th>\n",
       "      <td>under18</td>\n",
       "      <td>1.783914e-55</td>\n",
       "    </tr>\n",
       "    <tr>\n",
       "      <th>21</th>\n",
       "      <td>citizenship</td>\n",
       "      <td>2.048426e-07</td>\n",
       "    </tr>\n",
       "    <tr>\n",
       "      <th>22</th>\n",
       "      <td>woker_type</td>\n",
       "      <td>1.451061e-155</td>\n",
       "    </tr>\n",
       "    <tr>\n",
       "      <th>23</th>\n",
       "      <td>fed_liability</td>\n",
       "      <td>1.650923e-123</td>\n",
       "    </tr>\n",
       "    <tr>\n",
       "      <th>24</th>\n",
       "      <td>full_partime_job</td>\n",
       "      <td>9.568396e-105</td>\n",
       "    </tr>\n",
       "  </tbody>\n",
       "</table>\n",
       "</div>"
      ],
      "text/plain": [
       "              features         Pvalue\n",
       "0         year_of_poll   5.113161e-01\n",
       "1         own_self_emp   1.412548e-16\n",
       "2     veteran benefits   1.325400e-46\n",
       "3   currently_enrolled   8.358494e-02\n",
       "4                 race   4.654411e-11\n",
       "5       father_country   1.206961e-05\n",
       "6                 educ   0.000000e+00\n",
       "7           house_stat  4.210376e-115\n",
       "8       major_ind_code  7.114120e-174\n",
       "9         labour_union   2.231193e-01\n",
       "10        self_country   1.024270e-03\n",
       "11      major_occ_code   0.000000e+00\n",
       "12      mother_country   2.150805e-07\n",
       "13       house_summary  5.606992e-118\n",
       "14              gender   9.120930e-65\n",
       "15         hisp_origin   3.194589e-11\n",
       "16           dividends   2.589768e-76\n",
       "17     marriage_status   4.076987e-90\n",
       "18       house_1yr_ago   7.240513e-03\n",
       "19       income_filled   8.633083e-01\n",
       "20             under18   1.783914e-55\n",
       "21         citizenship   2.048426e-07\n",
       "22          woker_type  1.451061e-155\n",
       "23       fed_liability  1.650923e-123\n",
       "24    full_partime_job  9.568396e-105"
      ]
     },
     "execution_count": 57,
     "metadata": {},
     "output_type": "execute_result"
    }
   ],
   "source": [
    "stat_df"
   ]
  },
  {
   "cell_type": "code",
   "execution_count": 58,
   "id": "7ce53223",
   "metadata": {},
   "outputs": [
    {
     "data": {
      "text/html": [
       "<div>\n",
       "<style scoped>\n",
       "    .dataframe tbody tr th:only-of-type {\n",
       "        vertical-align: middle;\n",
       "    }\n",
       "\n",
       "    .dataframe tbody tr th {\n",
       "        vertical-align: top;\n",
       "    }\n",
       "\n",
       "    .dataframe thead th {\n",
       "        text-align: right;\n",
       "    }\n",
       "</style>\n",
       "<table border=\"1\" class=\"dataframe\">\n",
       "  <thead>\n",
       "    <tr style=\"text-align: right;\">\n",
       "      <th></th>\n",
       "      <th>features</th>\n",
       "      <th>Pvalue</th>\n",
       "    </tr>\n",
       "  </thead>\n",
       "  <tbody>\n",
       "    <tr>\n",
       "      <th>0</th>\n",
       "      <td>year_of_poll</td>\n",
       "      <td>0.511316</td>\n",
       "    </tr>\n",
       "    <tr>\n",
       "      <th>3</th>\n",
       "      <td>currently_enrolled</td>\n",
       "      <td>0.083585</td>\n",
       "    </tr>\n",
       "    <tr>\n",
       "      <th>9</th>\n",
       "      <td>labour_union</td>\n",
       "      <td>0.223119</td>\n",
       "    </tr>\n",
       "    <tr>\n",
       "      <th>19</th>\n",
       "      <td>income_filled</td>\n",
       "      <td>0.863308</td>\n",
       "    </tr>\n",
       "  </tbody>\n",
       "</table>\n",
       "</div>"
      ],
      "text/plain": [
       "              features    Pvalue\n",
       "0         year_of_poll  0.511316\n",
       "3   currently_enrolled  0.083585\n",
       "9         labour_union  0.223119\n",
       "19       income_filled  0.863308"
      ]
     },
     "execution_count": 58,
     "metadata": {},
     "output_type": "execute_result"
    }
   ],
   "source": [
    "stat_df[stat_df.Pvalue>0.05]"
   ]
  },
  {
   "cell_type": "code",
   "execution_count": 59,
   "id": "504284ca",
   "metadata": {},
   "outputs": [],
   "source": [
    "# According to the pvalues we would have to drop the following features\n",
    "# year of poll,currently_enrolled,labour_union,income_filled\n",
    "# dropping these columns\n",
    "df.drop(columns=['year_of_poll','currently_enrolled','labour_union','income_filled'],inplace=True)"
   ]
  },
  {
   "cell_type": "markdown",
   "id": "c6ef7a2e",
   "metadata": {},
   "source": [
    "# Categorical Treatment"
   ]
  },
  {
   "cell_type": "code",
   "execution_count": 60,
   "id": "bc083ba1",
   "metadata": {},
   "outputs": [],
   "source": [
    "# Mapping the target variable\n",
    "df.income=df.income.map({'More than 50K $':0,'Less than 50K $':1})"
   ]
  },
  {
   "cell_type": "code",
   "execution_count": 61,
   "id": "62c7f819",
   "metadata": {},
   "outputs": [],
   "source": [
    "# Binning the father_country column\n",
    "europe=[' Germany',' Italy',' Poland',' Hungary',' England',' Ireland',' Portugal',' Scotland',' Yugoslavia',' Greece',\n",
    "       ' France',' Holand-Netherlands']\n",
    "\n",
    "asia=[' Japan',' Philippines',' China',' Vietnam',' Cambodia',' South Korea',' Laos',' India',' Iran',' Taiwan',' Thailand',\n",
    "     ' Hong Kong']\n",
    "\n",
    "north_a=[' United-States',' Mexico',' Canada',' Guatemala',' Cuba',' Nicaragua',' El-Salvador',' Honduras',' Panama']\n",
    "\n",
    "south_a=[' Peru', ' Columbia',' Ecuador']\n",
    "\n",
    "others=[' Puerto-Rico',' Haiti',' Dominican-Republic',' ?',' Jamaica',' Outlying-U S (Guam USVI etc)',' Trinadad&Tobago']"
   ]
  },
  {
   "cell_type": "code",
   "execution_count": 62,
   "id": "02ae631a",
   "metadata": {},
   "outputs": [
    {
     "data": {
      "text/plain": [
       "True"
      ]
     },
     "execution_count": 62,
     "metadata": {},
     "output_type": "execute_result"
    }
   ],
   "source": [
    "sorted(df.mother_country.unique())==sorted(df.father_country.unique())"
   ]
  },
  {
   "cell_type": "code",
   "execution_count": 63,
   "id": "965da7f5",
   "metadata": {},
   "outputs": [
    {
     "data": {
      "text/plain": [
       "True"
      ]
     },
     "execution_count": 63,
     "metadata": {},
     "output_type": "execute_result"
    }
   ],
   "source": [
    "sorted(df.self_country.unique())==sorted(df.father_country.unique())"
   ]
  },
  {
   "cell_type": "code",
   "execution_count": 64,
   "id": "375fa915",
   "metadata": {},
   "outputs": [],
   "source": [
    "def country_bin(x):\n",
    "    if x in europe:\n",
    "        return 'Europe'\n",
    "    elif x in asia:\n",
    "        return 'Asia'\n",
    "    elif x in north_a:\n",
    "        return 'North America'\n",
    "    elif x in south_a:\n",
    "        return 'South America'\n",
    "    else:\n",
    "        return 'Others'"
   ]
  },
  {
   "cell_type": "code",
   "execution_count": 65,
   "id": "b76be258",
   "metadata": {},
   "outputs": [],
   "source": [
    "df.father_country=df.father_country.apply(country_bin)"
   ]
  },
  {
   "cell_type": "code",
   "execution_count": 66,
   "id": "9008e95c",
   "metadata": {},
   "outputs": [],
   "source": [
    "# Binning the mother country column\n",
    "df.mother_country=df.mother_country.apply(country_bin)"
   ]
  },
  {
   "cell_type": "code",
   "execution_count": 67,
   "id": "5557f047",
   "metadata": {},
   "outputs": [],
   "source": [
    "# Binning the self country column\n",
    "df.self_country=df.self_country.apply(country_bin)"
   ]
  },
  {
   "cell_type": "code",
   "execution_count": 68,
   "id": "0a5b8c27",
   "metadata": {},
   "outputs": [],
   "source": [
    "# Seperating deceased or below 18 in worker type\n",
    "df.loc[(df.age<18) & (df.woker_type=='Deceased or below 18'),'woker_type']='Below_18'\n",
    "df.loc[(df.age>18) & (df.woker_type=='Deceased or below 18'),'woker_type']='Deceased'"
   ]
  },
  {
   "cell_type": "code",
   "execution_count": 69,
   "id": "c5cc056f",
   "metadata": {},
   "outputs": [
    {
     "data": {
      "text/plain": [
       "array([' Associates degree-academic program', ' Children',\n",
       "       ' Some college but no degree', ' High school graduate',\n",
       "       ' 10th grade', ' Prof school degree (MD DDS DVM LLB JD)',\n",
       "       ' Bachelors degree(BA AB BS)', ' 7th and 8th grade',\n",
       "       ' 5th or 6th grade', ' 9th grade', ' 11th grade',\n",
       "       ' Masters degree(MA MS MEng MEd MSW MBA)',\n",
       "       ' Associates degree-occup /vocational',\n",
       "       ' 1st 2nd 3rd or 4th grade', ' Less than 1st grade',\n",
       "       ' 12th grade no diploma', ' Doctorate degree(PhD EdD)'],\n",
       "      dtype=object)"
      ]
     },
     "execution_count": 69,
     "metadata": {},
     "output_type": "execute_result"
    }
   ],
   "source": [
    "df.educ.unique()"
   ]
  },
  {
   "cell_type": "code",
   "execution_count": 70,
   "id": "dd3ebb9d",
   "metadata": {},
   "outputs": [],
   "source": [
    "# Binning the education column\n",
    "below_high_school=[' Children',' 10th grade',' 7th and 8th grade',' 5th or 6th grade',' 9th grade',' 1st 2nd 3rd or 4th grade',\n",
    "                  ' Less than 1st grade']\n",
    "\n",
    "high_school_no_degree=[' 11th grade',' 12th grade no diploma']\n",
    "\n",
    "college=[' Associates degree-academic program',' Some college but no degree',' Bachelors degree(BA AB BS)',\n",
    "        ' Associates degree-occup /vocational']\n",
    "\n",
    "high_school=[' High school graduate']\n",
    "\n",
    "higher_education=[' Prof school degree (MD DDS DVM LLB JD)',' Masters degree(MA MS MEng MEd MSW MBA)',\n",
    "                  ' Doctorate degree(PhD EdD)']"
   ]
  },
  {
   "cell_type": "code",
   "execution_count": 71,
   "id": "0d9ba90c",
   "metadata": {},
   "outputs": [],
   "source": [
    "def education_bin(x):\n",
    "    if x in below_high_school:\n",
    "        return 'Below High School'\n",
    "    elif x in high_school_no_degree:\n",
    "        return 'High School But no degree'\n",
    "    elif x in college:\n",
    "        return 'College level'\n",
    "    elif x in high_school:\n",
    "        return 'High School'\n",
    "    elif x in higher_education:\n",
    "        return 'Higher Education'"
   ]
  },
  {
   "cell_type": "code",
   "execution_count": 72,
   "id": "83ee1d7a",
   "metadata": {},
   "outputs": [],
   "source": [
    "df.educ=df.educ.apply(education_bin)"
   ]
  },
  {
   "cell_type": "code",
   "execution_count": 73,
   "id": "1c9d1259",
   "metadata": {},
   "outputs": [
    {
     "data": {
      "text/plain": [
       "array(['College level', 'Below High School', 'High School',\n",
       "       'Higher Education', 'High School But no degree'], dtype=object)"
      ]
     },
     "execution_count": 73,
     "metadata": {},
     "output_type": "execute_result"
    }
   ],
   "source": [
    "df.educ.unique()"
   ]
  },
  {
   "cell_type": "code",
   "execution_count": 74,
   "id": "8fa86a6c",
   "metadata": {},
   "outputs": [
    {
     "data": {
      "text/plain": [
       " Householder                                        0.267116\n",
       " Child <18 never marr not in subfamily              0.251639\n",
       " Spouse of householder                              0.208925\n",
       " Nonfamily householder                              0.111619\n",
       " Child 18+ never marr Not in a subfamily            0.060694\n",
       " Secondary individual                               0.030497\n",
       " Other Rel 18+ ever marr not in subfamily           0.009680\n",
       " Grandchild <18 never marr child of subfamily RP    0.009497\n",
       " Other Rel 18+ never marr not in subfamily          0.008687\n",
       " Child 18+ ever marr Not in a subfamily             0.005272\n",
       " Grandchild <18 never marr not in subfamily         0.005061\n",
       " Child under 18 of RP of unrel subfamily            0.003735\n",
       " RP of unrelated subfamily                          0.003510\n",
       " Other Rel 18+ ever marr RP of subfamily            0.003449\n",
       " Child 18+ ever marr RP of subfamily                0.003313\n",
       " Other Rel <18 never marr child of subfamily RP     0.003299\n",
       " Other Rel 18+ spouse of subfamily RP               0.003061\n",
       " Other Rel <18 never marr not in subfamily          0.002986\n",
       " Child 18+ never marr RP of subfamily               0.002925\n",
       " Grandchild 18+ never marr not in subfamily         0.001837\n",
       " In group quarters                                  0.001020\n",
       " Child 18+ spouse of subfamily RP                   0.000592\n",
       " Other Rel 18+ never marr RP of subfamily           0.000449\n",
       " Child <18 never marr RP of subfamily               0.000408\n",
       " Spouse of RP of unrelated subfamily                0.000272\n",
       " Grandchild 18+ ever marr not in subfamily          0.000170\n",
       " Child <18 ever marr not in subfamily               0.000150\n",
       " Grandchild 18+ ever marr RP of subfamily           0.000054\n",
       " Child <18 ever marr RP of subfamily                0.000034\n",
       " Grandchild 18+ spouse of subfamily RP              0.000027\n",
       " Other Rel <18 never married RP of subfamily        0.000020\n",
       "Name: house_stat, dtype: float64"
      ]
     },
     "execution_count": 74,
     "metadata": {},
     "output_type": "execute_result"
    }
   ],
   "source": [
    "df.house_stat.value_counts()/len(df)"
   ]
  },
  {
   "cell_type": "code",
   "execution_count": 75,
   "id": "c59d289d",
   "metadata": {},
   "outputs": [],
   "source": [
    "# frequency encoding house stat\n",
    "df.house_stat=df.house_stat.map(df.house_stat.value_counts()/len(df))"
   ]
  },
  {
   "cell_type": "code",
   "execution_count": 76,
   "id": "5a910f7f",
   "metadata": {},
   "outputs": [
    {
     "data": {
      "text/plain": [
       " Not in universe or children            0.504238\n",
       " Retail trade                           0.085088\n",
       " Manufacturing-durable goods            0.045755\n",
       " Education                              0.041054\n",
       " Manufacturing-nondurable goods         0.034946\n",
       " Finance insurance and real estate      0.030422\n",
       " Construction                           0.030367\n",
       " Business and repair services           0.028327\n",
       " Medical except hospital                0.023830\n",
       " Public administration                  0.023020\n",
       " Other professional services            0.022537\n",
       " Transportation                         0.020946\n",
       " Hospital services                      0.020136\n",
       " Wholesale trade                        0.017980\n",
       " Agriculture                            0.015422\n",
       " Personal services except private HH    0.014537\n",
       " Social services                        0.012714\n",
       " Entertainment                          0.008082\n",
       " Communications                         0.006102\n",
       " Utilities and sanitary services        0.005830\n",
       " Private household services             0.004803\n",
       " Mining                                 0.002741\n",
       " Forestry and fisheries                 0.000918\n",
       " Armed Forces                           0.000204\n",
       "Name: major_ind_code, dtype: float64"
      ]
     },
     "execution_count": 76,
     "metadata": {},
     "output_type": "execute_result"
    }
   ],
   "source": [
    "df.major_ind_code.value_counts()/len(df)"
   ]
  },
  {
   "cell_type": "code",
   "execution_count": 77,
   "id": "f625b27d",
   "metadata": {},
   "outputs": [],
   "source": [
    "# Frequency encoding major ind_code and major occ_code\n",
    "df.major_ind_code=df.major_ind_code.map(df.major_ind_code.value_counts()/len(df))\n",
    "df.major_occ_code=df.major_occ_code.map(df.major_occ_code.value_counts()/len(df))"
   ]
  },
  {
   "cell_type": "code",
   "execution_count": 78,
   "id": "b2ce5eb0",
   "metadata": {},
   "outputs": [],
   "source": [
    "df.father_country=df.father_country.map(df.father_country.value_counts()/len(df))\n",
    "df.mother_country=df.mother_country.map(df.mother_country.value_counts()/len(df))\n",
    "df.self_country=df.self_country.map(df.self_country.value_counts()/len(df))"
   ]
  },
  {
   "cell_type": "code",
   "execution_count": 79,
   "id": "a84fdd87",
   "metadata": {},
   "outputs": [
    {
     "data": {
      "text/html": [
       "<div>\n",
       "<style scoped>\n",
       "    .dataframe tbody tr th:only-of-type {\n",
       "        vertical-align: middle;\n",
       "    }\n",
       "\n",
       "    .dataframe tbody tr th {\n",
       "        vertical-align: top;\n",
       "    }\n",
       "\n",
       "    .dataframe thead th {\n",
       "        text-align: right;\n",
       "    }\n",
       "</style>\n",
       "<table border=\"1\" class=\"dataframe\">\n",
       "  <thead>\n",
       "    <tr style=\"text-align: right;\">\n",
       "      <th></th>\n",
       "      <th>own_self_emp</th>\n",
       "      <th>veteran benefits</th>\n",
       "      <th>race</th>\n",
       "      <th>father_country</th>\n",
       "      <th>educ</th>\n",
       "      <th>house_stat</th>\n",
       "      <th>major_ind_code</th>\n",
       "      <th>self_country</th>\n",
       "      <th>major_occ_code</th>\n",
       "      <th>age</th>\n",
       "      <th>mother_country</th>\n",
       "      <th>house_summary</th>\n",
       "      <th>gender</th>\n",
       "      <th>hisp_origin</th>\n",
       "      <th>gains</th>\n",
       "      <th>dividends</th>\n",
       "      <th>marriage_status</th>\n",
       "      <th>losses</th>\n",
       "      <th>employer_of</th>\n",
       "      <th>house_1yr_ago</th>\n",
       "      <th>weeks_worked</th>\n",
       "      <th>under18</th>\n",
       "      <th>hourly_wage</th>\n",
       "      <th>citizenship</th>\n",
       "      <th>woker_type</th>\n",
       "      <th>fed_liability</th>\n",
       "      <th>full_partime_job</th>\n",
       "      <th>income</th>\n",
       "    </tr>\n",
       "  </thead>\n",
       "  <tbody>\n",
       "    <tr>\n",
       "      <th>0</th>\n",
       "      <td>0</td>\n",
       "      <td>2</td>\n",
       "      <td>White</td>\n",
       "      <td>0.870537</td>\n",
       "      <td>College level</td>\n",
       "      <td>0.267116</td>\n",
       "      <td>0.028327</td>\n",
       "      <td>0.930728</td>\n",
       "      <td>0.008265</td>\n",
       "      <td>42.0</td>\n",
       "      <td>0.876952</td>\n",
       "      <td>Householder</td>\n",
       "      <td>M</td>\n",
       "      <td>All_Other</td>\n",
       "      <td>0.0</td>\n",
       "      <td>0.0</td>\n",
       "      <td>Married_civilian_Sp_Pr</td>\n",
       "      <td>0.0</td>\n",
       "      <td>1</td>\n",
       "      <td>No</td>\n",
       "      <td>47</td>\n",
       "      <td>Above 18</td>\n",
       "      <td>0.0</td>\n",
       "      <td>NB_US</td>\n",
       "      <td>Pvt</td>\n",
       "      <td>Joint_both_under65</td>\n",
       "      <td>Armed_Forces</td>\n",
       "      <td>0.0</td>\n",
       "    </tr>\n",
       "    <tr>\n",
       "      <th>1</th>\n",
       "      <td>0</td>\n",
       "      <td>0</td>\n",
       "      <td>White</td>\n",
       "      <td>0.024782</td>\n",
       "      <td>Below High School</td>\n",
       "      <td>0.251639</td>\n",
       "      <td>0.504238</td>\n",
       "      <td>0.930728</td>\n",
       "      <td>0.504238</td>\n",
       "      <td>10.0</td>\n",
       "      <td>0.876952</td>\n",
       "      <td>Child_U18_Unmarried</td>\n",
       "      <td>M</td>\n",
       "      <td>Mex_Amer</td>\n",
       "      <td>0.0</td>\n",
       "      <td>0.0</td>\n",
       "      <td>Unmarried</td>\n",
       "      <td>0.0</td>\n",
       "      <td>0</td>\n",
       "      <td>Unknown</td>\n",
       "      <td>0</td>\n",
       "      <td>Both_Pr</td>\n",
       "      <td>0.0</td>\n",
       "      <td>NB_US</td>\n",
       "      <td>Below_18</td>\n",
       "      <td>Nonfiler</td>\n",
       "      <td>Children</td>\n",
       "      <td>0.0</td>\n",
       "    </tr>\n",
       "    <tr>\n",
       "      <th>2</th>\n",
       "      <td>0</td>\n",
       "      <td>2</td>\n",
       "      <td>White</td>\n",
       "      <td>0.870537</td>\n",
       "      <td>College level</td>\n",
       "      <td>0.030497</td>\n",
       "      <td>0.045755</td>\n",
       "      <td>0.930728</td>\n",
       "      <td>0.032558</td>\n",
       "      <td>46.0</td>\n",
       "      <td>0.876952</td>\n",
       "      <td>Non_Relative</td>\n",
       "      <td>M</td>\n",
       "      <td>All_Other</td>\n",
       "      <td>0.0</td>\n",
       "      <td>0.0</td>\n",
       "      <td>Divorced</td>\n",
       "      <td>0.0</td>\n",
       "      <td>6</td>\n",
       "      <td>No</td>\n",
       "      <td>47</td>\n",
       "      <td>Above 18</td>\n",
       "      <td>0.0</td>\n",
       "      <td>NB_US</td>\n",
       "      <td>Pvt</td>\n",
       "      <td>Single</td>\n",
       "      <td>Armed_Forces</td>\n",
       "      <td>0.0</td>\n",
       "    </tr>\n",
       "    <tr>\n",
       "      <th>3</th>\n",
       "      <td>0</td>\n",
       "      <td>2</td>\n",
       "      <td>Amer/Indian/Aleut/Eskimo</td>\n",
       "      <td>0.870537</td>\n",
       "      <td>High School</td>\n",
       "      <td>0.267116</td>\n",
       "      <td>0.017980</td>\n",
       "      <td>0.930728</td>\n",
       "      <td>0.020939</td>\n",
       "      <td>35.0</td>\n",
       "      <td>0.876952</td>\n",
       "      <td>Householder</td>\n",
       "      <td>M</td>\n",
       "      <td>All_Other</td>\n",
       "      <td>0.0</td>\n",
       "      <td>0.0</td>\n",
       "      <td>Married_civilian_Sp_Pr</td>\n",
       "      <td>0.0</td>\n",
       "      <td>2</td>\n",
       "      <td>Yes</td>\n",
       "      <td>47</td>\n",
       "      <td>Above 18</td>\n",
       "      <td>0.0</td>\n",
       "      <td>NB_US</td>\n",
       "      <td>Pvt</td>\n",
       "      <td>Joint_both_under65</td>\n",
       "      <td>Armed_Forces</td>\n",
       "      <td>0.0</td>\n",
       "    </tr>\n",
       "    <tr>\n",
       "      <th>4</th>\n",
       "      <td>0</td>\n",
       "      <td>2</td>\n",
       "      <td>White</td>\n",
       "      <td>0.870537</td>\n",
       "      <td>High School</td>\n",
       "      <td>0.267116</td>\n",
       "      <td>0.017980</td>\n",
       "      <td>0.930728</td>\n",
       "      <td>0.062939</td>\n",
       "      <td>61.0</td>\n",
       "      <td>0.876952</td>\n",
       "      <td>Householder</td>\n",
       "      <td>F</td>\n",
       "      <td>All_Other</td>\n",
       "      <td>0.0</td>\n",
       "      <td>0.0</td>\n",
       "      <td>Divorced</td>\n",
       "      <td>0.0</td>\n",
       "      <td>3</td>\n",
       "      <td>Yes</td>\n",
       "      <td>47</td>\n",
       "      <td>Above 18</td>\n",
       "      <td>0.0</td>\n",
       "      <td>NB_US</td>\n",
       "      <td>Pvt</td>\n",
       "      <td>Single</td>\n",
       "      <td>Armed_Forces</td>\n",
       "      <td>0.0</td>\n",
       "    </tr>\n",
       "    <tr>\n",
       "      <th>...</th>\n",
       "      <td>...</td>\n",
       "      <td>...</td>\n",
       "      <td>...</td>\n",
       "      <td>...</td>\n",
       "      <td>...</td>\n",
       "      <td>...</td>\n",
       "      <td>...</td>\n",
       "      <td>...</td>\n",
       "      <td>...</td>\n",
       "      <td>...</td>\n",
       "      <td>...</td>\n",
       "      <td>...</td>\n",
       "      <td>...</td>\n",
       "      <td>...</td>\n",
       "      <td>...</td>\n",
       "      <td>...</td>\n",
       "      <td>...</td>\n",
       "      <td>...</td>\n",
       "      <td>...</td>\n",
       "      <td>...</td>\n",
       "      <td>...</td>\n",
       "      <td>...</td>\n",
       "      <td>...</td>\n",
       "      <td>...</td>\n",
       "      <td>...</td>\n",
       "      <td>...</td>\n",
       "      <td>...</td>\n",
       "      <td>...</td>\n",
       "    </tr>\n",
       "    <tr>\n",
       "      <th>146995</th>\n",
       "      <td>0</td>\n",
       "      <td>0</td>\n",
       "      <td>White</td>\n",
       "      <td>0.870537</td>\n",
       "      <td>Below High School</td>\n",
       "      <td>0.251639</td>\n",
       "      <td>0.504238</td>\n",
       "      <td>0.930728</td>\n",
       "      <td>0.504238</td>\n",
       "      <td>7.0</td>\n",
       "      <td>0.876952</td>\n",
       "      <td>Child_U18_Unmarried</td>\n",
       "      <td>F</td>\n",
       "      <td>Mex_Amer</td>\n",
       "      <td>0.0</td>\n",
       "      <td>0.0</td>\n",
       "      <td>Unmarried</td>\n",
       "      <td>0.0</td>\n",
       "      <td>0</td>\n",
       "      <td>Unknown</td>\n",
       "      <td>0</td>\n",
       "      <td>Both_Pr</td>\n",
       "      <td>0.0</td>\n",
       "      <td>NB_US</td>\n",
       "      <td>Below_18</td>\n",
       "      <td>Nonfiler</td>\n",
       "      <td>Children</td>\n",
       "      <td>NaN</td>\n",
       "    </tr>\n",
       "    <tr>\n",
       "      <th>146996</th>\n",
       "      <td>0</td>\n",
       "      <td>2</td>\n",
       "      <td>White</td>\n",
       "      <td>0.039231</td>\n",
       "      <td>College level</td>\n",
       "      <td>0.267116</td>\n",
       "      <td>0.045755</td>\n",
       "      <td>0.014537</td>\n",
       "      <td>0.053156</td>\n",
       "      <td>43.0</td>\n",
       "      <td>0.036966</td>\n",
       "      <td>Householder</td>\n",
       "      <td>M</td>\n",
       "      <td>All_Other</td>\n",
       "      <td>0.0</td>\n",
       "      <td>0.0</td>\n",
       "      <td>Married_civilian_Sp_Pr</td>\n",
       "      <td>0.0</td>\n",
       "      <td>3</td>\n",
       "      <td>Yes</td>\n",
       "      <td>47</td>\n",
       "      <td>Above 18</td>\n",
       "      <td>0.0</td>\n",
       "      <td>FB</td>\n",
       "      <td>Pvt</td>\n",
       "      <td>Joint_both_under65</td>\n",
       "      <td>Armed_Forces</td>\n",
       "      <td>NaN</td>\n",
       "    </tr>\n",
       "    <tr>\n",
       "      <th>146997</th>\n",
       "      <td>0</td>\n",
       "      <td>0</td>\n",
       "      <td>White</td>\n",
       "      <td>0.870537</td>\n",
       "      <td>Below High School</td>\n",
       "      <td>0.251639</td>\n",
       "      <td>0.504238</td>\n",
       "      <td>0.930728</td>\n",
       "      <td>0.504238</td>\n",
       "      <td>13.0</td>\n",
       "      <td>0.876952</td>\n",
       "      <td>Child_U18_Unmarried</td>\n",
       "      <td>M</td>\n",
       "      <td>All_Other</td>\n",
       "      <td>0.0</td>\n",
       "      <td>0.0</td>\n",
       "      <td>Unmarried</td>\n",
       "      <td>0.0</td>\n",
       "      <td>0</td>\n",
       "      <td>Unknown</td>\n",
       "      <td>0</td>\n",
       "      <td>Only_Mom</td>\n",
       "      <td>0.0</td>\n",
       "      <td>NB_US</td>\n",
       "      <td>Below_18</td>\n",
       "      <td>Nonfiler</td>\n",
       "      <td>Children</td>\n",
       "      <td>NaN</td>\n",
       "    </tr>\n",
       "    <tr>\n",
       "      <th>146998</th>\n",
       "      <td>0</td>\n",
       "      <td>2</td>\n",
       "      <td>White</td>\n",
       "      <td>0.870537</td>\n",
       "      <td>College level</td>\n",
       "      <td>0.111619</td>\n",
       "      <td>0.020946</td>\n",
       "      <td>0.930728</td>\n",
       "      <td>0.020272</td>\n",
       "      <td>34.0</td>\n",
       "      <td>0.876952</td>\n",
       "      <td>Householder</td>\n",
       "      <td>F</td>\n",
       "      <td>All_Other</td>\n",
       "      <td>0.0</td>\n",
       "      <td>0.0</td>\n",
       "      <td>Married_Sp_Ab</td>\n",
       "      <td>0.0</td>\n",
       "      <td>3</td>\n",
       "      <td>Yes</td>\n",
       "      <td>47</td>\n",
       "      <td>Above 18</td>\n",
       "      <td>0.0</td>\n",
       "      <td>NB_US</td>\n",
       "      <td>Pvt</td>\n",
       "      <td>Single</td>\n",
       "      <td>Armed_Forces</td>\n",
       "      <td>NaN</td>\n",
       "    </tr>\n",
       "    <tr>\n",
       "      <th>146999</th>\n",
       "      <td>0</td>\n",
       "      <td>2</td>\n",
       "      <td>White</td>\n",
       "      <td>0.870537</td>\n",
       "      <td>College level</td>\n",
       "      <td>0.111619</td>\n",
       "      <td>0.045755</td>\n",
       "      <td>0.930728</td>\n",
       "      <td>0.062939</td>\n",
       "      <td>40.0</td>\n",
       "      <td>0.876952</td>\n",
       "      <td>Householder</td>\n",
       "      <td>F</td>\n",
       "      <td>All_Other</td>\n",
       "      <td>0.0</td>\n",
       "      <td>0.0</td>\n",
       "      <td>Unmarried</td>\n",
       "      <td>0.0</td>\n",
       "      <td>6</td>\n",
       "      <td>Yes</td>\n",
       "      <td>47</td>\n",
       "      <td>Above 18</td>\n",
       "      <td>0.0</td>\n",
       "      <td>NB_US</td>\n",
       "      <td>Pvt</td>\n",
       "      <td>Single</td>\n",
       "      <td>Armed_Forces</td>\n",
       "      <td>NaN</td>\n",
       "    </tr>\n",
       "  </tbody>\n",
       "</table>\n",
       "<p>147000 rows × 28 columns</p>\n",
       "</div>"
      ],
      "text/plain": [
       "        own_self_emp  veteran benefits                      race  \\\n",
       "0                  0                 2                     White   \n",
       "1                  0                 0                     White   \n",
       "2                  0                 2                     White   \n",
       "3                  0                 2  Amer/Indian/Aleut/Eskimo   \n",
       "4                  0                 2                     White   \n",
       "...              ...               ...                       ...   \n",
       "146995             0                 0                     White   \n",
       "146996             0                 2                     White   \n",
       "146997             0                 0                     White   \n",
       "146998             0                 2                     White   \n",
       "146999             0                 2                     White   \n",
       "\n",
       "        father_country               educ  house_stat  major_ind_code  \\\n",
       "0             0.870537      College level    0.267116        0.028327   \n",
       "1             0.024782  Below High School    0.251639        0.504238   \n",
       "2             0.870537      College level    0.030497        0.045755   \n",
       "3             0.870537        High School    0.267116        0.017980   \n",
       "4             0.870537        High School    0.267116        0.017980   \n",
       "...                ...                ...         ...             ...   \n",
       "146995        0.870537  Below High School    0.251639        0.504238   \n",
       "146996        0.039231      College level    0.267116        0.045755   \n",
       "146997        0.870537  Below High School    0.251639        0.504238   \n",
       "146998        0.870537      College level    0.111619        0.020946   \n",
       "146999        0.870537      College level    0.111619        0.045755   \n",
       "\n",
       "        self_country  major_occ_code   age  mother_country  \\\n",
       "0           0.930728        0.008265  42.0        0.876952   \n",
       "1           0.930728        0.504238  10.0        0.876952   \n",
       "2           0.930728        0.032558  46.0        0.876952   \n",
       "3           0.930728        0.020939  35.0        0.876952   \n",
       "4           0.930728        0.062939  61.0        0.876952   \n",
       "...              ...             ...   ...             ...   \n",
       "146995      0.930728        0.504238   7.0        0.876952   \n",
       "146996      0.014537        0.053156  43.0        0.036966   \n",
       "146997      0.930728        0.504238  13.0        0.876952   \n",
       "146998      0.930728        0.020272  34.0        0.876952   \n",
       "146999      0.930728        0.062939  40.0        0.876952   \n",
       "\n",
       "              house_summary gender hisp_origin  gains  dividends  \\\n",
       "0               Householder      M   All_Other    0.0        0.0   \n",
       "1       Child_U18_Unmarried      M    Mex_Amer    0.0        0.0   \n",
       "2              Non_Relative      M   All_Other    0.0        0.0   \n",
       "3               Householder      M   All_Other    0.0        0.0   \n",
       "4               Householder      F   All_Other    0.0        0.0   \n",
       "...                     ...    ...         ...    ...        ...   \n",
       "146995  Child_U18_Unmarried      F    Mex_Amer    0.0        0.0   \n",
       "146996          Householder      M   All_Other    0.0        0.0   \n",
       "146997  Child_U18_Unmarried      M   All_Other    0.0        0.0   \n",
       "146998          Householder      F   All_Other    0.0        0.0   \n",
       "146999          Householder      F   All_Other    0.0        0.0   \n",
       "\n",
       "               marriage_status  losses  employer_of house_1yr_ago  \\\n",
       "0       Married_civilian_Sp_Pr     0.0            1            No   \n",
       "1                    Unmarried     0.0            0       Unknown   \n",
       "2                     Divorced     0.0            6            No   \n",
       "3       Married_civilian_Sp_Pr     0.0            2           Yes   \n",
       "4                     Divorced     0.0            3           Yes   \n",
       "...                        ...     ...          ...           ...   \n",
       "146995               Unmarried     0.0            0       Unknown   \n",
       "146996  Married_civilian_Sp_Pr     0.0            3           Yes   \n",
       "146997               Unmarried     0.0            0       Unknown   \n",
       "146998           Married_Sp_Ab     0.0            3           Yes   \n",
       "146999               Unmarried     0.0            6           Yes   \n",
       "\n",
       "        weeks_worked   under18  hourly_wage citizenship woker_type  \\\n",
       "0                 47  Above 18          0.0       NB_US        Pvt   \n",
       "1                  0   Both_Pr          0.0       NB_US   Below_18   \n",
       "2                 47  Above 18          0.0       NB_US        Pvt   \n",
       "3                 47  Above 18          0.0       NB_US        Pvt   \n",
       "4                 47  Above 18          0.0       NB_US        Pvt   \n",
       "...              ...       ...          ...         ...        ...   \n",
       "146995             0   Both_Pr          0.0       NB_US   Below_18   \n",
       "146996            47  Above 18          0.0          FB        Pvt   \n",
       "146997             0  Only_Mom          0.0       NB_US   Below_18   \n",
       "146998            47  Above 18          0.0       NB_US        Pvt   \n",
       "146999            47  Above 18          0.0       NB_US        Pvt   \n",
       "\n",
       "             fed_liability full_partime_job  income  \n",
       "0       Joint_both_under65     Armed_Forces     0.0  \n",
       "1                 Nonfiler         Children     0.0  \n",
       "2                   Single     Armed_Forces     0.0  \n",
       "3       Joint_both_under65     Armed_Forces     0.0  \n",
       "4                   Single     Armed_Forces     0.0  \n",
       "...                    ...              ...     ...  \n",
       "146995            Nonfiler         Children     NaN  \n",
       "146996  Joint_both_under65     Armed_Forces     NaN  \n",
       "146997            Nonfiler         Children     NaN  \n",
       "146998              Single     Armed_Forces     NaN  \n",
       "146999              Single     Armed_Forces     NaN  \n",
       "\n",
       "[147000 rows x 28 columns]"
      ]
     },
     "execution_count": 79,
     "metadata": {},
     "output_type": "execute_result"
    }
   ],
   "source": [
    "df"
   ]
  },
  {
   "cell_type": "markdown",
   "id": "50f7dbdb",
   "metadata": {},
   "source": [
    "# Dummy variables and Splitting the data"
   ]
  },
  {
   "cell_type": "code",
   "execution_count": 80,
   "id": "4beddc7e",
   "metadata": {},
   "outputs": [],
   "source": [
    "dummydata=pd.get_dummies(df,drop_first=True)"
   ]
  },
  {
   "cell_type": "code",
   "execution_count": 81,
   "id": "406ca92e",
   "metadata": {},
   "outputs": [
    {
     "data": {
      "text/plain": [
       "((105000, 34), (42000, 33))"
      ]
     },
     "execution_count": 81,
     "metadata": {},
     "output_type": "execute_result"
    }
   ],
   "source": [
    "train.shape,test.shape"
   ]
  },
  {
   "cell_type": "code",
   "execution_count": 82,
   "id": "4843b8c4",
   "metadata": {},
   "outputs": [],
   "source": [
    "newtrain=dummydata.iloc[:train.shape[0],:]\n",
    "newtest=dummydata.iloc[train.shape[0]:,:]"
   ]
  },
  {
   "cell_type": "code",
   "execution_count": 83,
   "id": "7d2cd714",
   "metadata": {},
   "outputs": [
    {
     "data": {
      "text/plain": [
       "((105000, 81), (42000, 81))"
      ]
     },
     "execution_count": 83,
     "metadata": {},
     "output_type": "execute_result"
    }
   ],
   "source": [
    "newtrain.shape,newtest.shape"
   ]
  },
  {
   "cell_type": "code",
   "execution_count": 84,
   "id": "56042b23",
   "metadata": {},
   "outputs": [],
   "source": [
    "x=newtrain.drop(columns='income')\n",
    "y=newtrain.income"
   ]
  },
  {
   "cell_type": "markdown",
   "id": "ec423f3b",
   "metadata": {},
   "source": [
    "# Modelling"
   ]
  },
  {
   "cell_type": "markdown",
   "id": "3bd40001",
   "metadata": {},
   "source": [
    "## Decision Tree"
   ]
  },
  {
   "cell_type": "code",
   "execution_count": 1,
   "id": "74fa3571",
   "metadata": {},
   "outputs": [],
   "source": [
    "from sklearn.tree import DecisionTreeClassifier"
   ]
  },
  {
   "cell_type": "code",
   "execution_count": null,
   "id": "ab93f53f",
   "metadata": {},
   "outputs": [],
   "source": [
    "dtree=DecisionTreeClassifier()"
   ]
  },
  {
   "cell_type": "code",
   "execution_count": null,
   "id": "bfba3d8e",
   "metadata": {},
   "outputs": [],
   "source": [
    "d_model=Dtree.fit(x,y)"
   ]
  },
  {
   "cell_type": "code",
   "execution_count": null,
   "id": "bb932212",
   "metadata": {},
   "outputs": [],
   "source": [
    "y_pred=d_model.predict(newtest)"
   ]
  },
  {
   "cell_type": "code",
   "execution_count": null,
   "id": "2b994159",
   "metadata": {},
   "outputs": [],
   "source": [
    "submission_dt=pd.DataFrame({'ID':test.ID,'income':y_pred})"
   ]
  },
  {
   "cell_type": "code",
   "execution_count": null,
   "id": "33dc8ac5",
   "metadata": {},
   "outputs": [],
   "source": [
    "submission_lg.to_csv('dt_sub.csv',index=False)"
   ]
  },
  {
   "cell_type": "markdown",
   "id": "ad663825",
   "metadata": {},
   "source": [
    "## Random Forrest"
   ]
  },
  {
   "cell_type": "code",
   "execution_count": 2,
   "id": "2cd406b7",
   "metadata": {},
   "outputs": [],
   "source": [
    "from sklearn.ensemble import RandomForestClassifier"
   ]
  },
  {
   "cell_type": "code",
   "execution_count": 3,
   "id": "7681dc06",
   "metadata": {},
   "outputs": [],
   "source": [
    "rf=RandomForestClassifier()"
   ]
  },
  {
   "cell_type": "code",
   "execution_count": null,
   "id": "a35aceec",
   "metadata": {},
   "outputs": [],
   "source": [
    "rf_model=rf.fit(x,y)"
   ]
  },
  {
   "cell_type": "code",
   "execution_count": null,
   "id": "2b509c13",
   "metadata": {},
   "outputs": [],
   "source": [
    "y_pred=rf_model.predict(newtest)"
   ]
  },
  {
   "cell_type": "code",
   "execution_count": null,
   "id": "b44e1481",
   "metadata": {},
   "outputs": [],
   "source": [
    "submission_rf=pd.DataFrame({'ID':test.ID,'income':y_pred})"
   ]
  },
  {
   "cell_type": "code",
   "execution_count": null,
   "id": "56e7b0d3",
   "metadata": {},
   "outputs": [],
   "source": [
    "submission_rf.to_csv('rf_sub.csv',index=False)"
   ]
  },
  {
   "cell_type": "markdown",
   "id": "8b6f6a16",
   "metadata": {},
   "source": [
    "## Light GBM"
   ]
  },
  {
   "cell_type": "code",
   "execution_count": 87,
   "id": "c95110b3",
   "metadata": {},
   "outputs": [],
   "source": [
    "# Best model yet\n",
    "from lightgbm import LGBMClassifier"
   ]
  },
  {
   "cell_type": "code",
   "execution_count": 88,
   "id": "c92af21f",
   "metadata": {},
   "outputs": [],
   "source": [
    "# best parameters yet\n",
    "# After a lot of hit and trials these parameters work the best for us\n",
    "lgbm=LGBMClassifier(num_leaves=31,max_depth=15,learning_rate=0.01,n_estimators=1200)"
   ]
  },
  {
   "cell_type": "code",
   "execution_count": 90,
   "id": "6e2117b8",
   "metadata": {},
   "outputs": [],
   "source": [
    "lg_model=lgbm.fit(x,y)"
   ]
  },
  {
   "cell_type": "code",
   "execution_count": 91,
   "id": "26107985",
   "metadata": {},
   "outputs": [],
   "source": [
    "y_pred=lg_model.predict(newtest)"
   ]
  },
  {
   "cell_type": "code",
   "execution_count": 92,
   "id": "8ed819f1",
   "metadata": {},
   "outputs": [
    {
     "data": {
      "text/plain": [
       "1.0    38564\n",
       "0.0     3436\n",
       "dtype: int64"
      ]
     },
     "execution_count": 92,
     "metadata": {},
     "output_type": "execute_result"
    }
   ],
   "source": [
    "pd.Series(y_pred).value_counts()"
   ]
  },
  {
   "cell_type": "code",
   "execution_count": 93,
   "id": "f81e1909",
   "metadata": {},
   "outputs": [],
   "source": [
    "submission_lg=pd.DataFrame({'ID':test.ID,'income':y_pred})"
   ]
  },
  {
   "cell_type": "code",
   "execution_count": 94,
   "id": "800c71c8",
   "metadata": {},
   "outputs": [],
   "source": [
    "submission_lg.to_csv('lg_sub.csv',index=False)"
   ]
  },
  {
   "cell_type": "markdown",
   "id": "b7029122",
   "metadata": {},
   "source": [
    "# Conclusion"
   ]
  },
  {
   "cell_type": "markdown",
   "id": "96483dd8",
   "metadata": {},
   "source": [
    "* Light gbm worked best for us as a model\n",
    "* we had to frequncy encode a few features to get better accuracy\n",
    "* The highest accuracy we got was around 0.678"
   ]
  }
 ],
 "metadata": {
  "kernelspec": {
   "display_name": "Python 3 (ipykernel)",
   "language": "python",
   "name": "python3"
  },
  "language_info": {
   "codemirror_mode": {
    "name": "ipython",
    "version": 3
   },
   "file_extension": ".py",
   "mimetype": "text/x-python",
   "name": "python",
   "nbconvert_exporter": "python",
   "pygments_lexer": "ipython3",
   "version": "3.9.7"
  }
 },
 "nbformat": 4,
 "nbformat_minor": 5
}
