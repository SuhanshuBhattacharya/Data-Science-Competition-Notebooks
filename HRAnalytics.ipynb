{
 "cells": [
  {
   "cell_type": "code",
   "execution_count": 1,
   "id": "db7cba51-16c8-4895-a5e0-c046cb1ca776",
   "metadata": {},
   "outputs": [],
   "source": [
    "# Importing important libraries\n",
    "import numpy as np\n",
    "import pandas as pd\n",
    "from matplotlib import pyplot as plt\n",
    "import seaborn as sns\n",
    "import warnings\n",
    "warnings.filterwarnings('ignore')"
   ]
  },
  {
   "cell_type": "markdown",
   "id": "f7b4a763-736c-420e-8fb3-66f1342f7782",
   "metadata": {},
   "source": [
    "# Data Reading and Basic eyeballing of the data"
   ]
  },
  {
   "cell_type": "code",
   "execution_count": 2,
   "id": "d7476ead-4659-42c2-bc0d-01787bf1d4e9",
   "metadata": {},
   "outputs": [],
   "source": [
    "# Read the train file\n",
    "train=pd.read_csv('train_LZdllcl.csv')"
   ]
  },
  {
   "cell_type": "code",
   "execution_count": 3,
   "id": "105de3d8-2499-4ca7-aa42-b489487dc8e6",
   "metadata": {},
   "outputs": [
    {
     "data": {
      "text/html": [
       "<div>\n",
       "<style scoped>\n",
       "    .dataframe tbody tr th:only-of-type {\n",
       "        vertical-align: middle;\n",
       "    }\n",
       "\n",
       "    .dataframe tbody tr th {\n",
       "        vertical-align: top;\n",
       "    }\n",
       "\n",
       "    .dataframe thead th {\n",
       "        text-align: right;\n",
       "    }\n",
       "</style>\n",
       "<table border=\"1\" class=\"dataframe\">\n",
       "  <thead>\n",
       "    <tr style=\"text-align: right;\">\n",
       "      <th></th>\n",
       "      <th>employee_id</th>\n",
       "      <th>department</th>\n",
       "      <th>region</th>\n",
       "      <th>education</th>\n",
       "      <th>gender</th>\n",
       "      <th>recruitment_channel</th>\n",
       "      <th>no_of_trainings</th>\n",
       "      <th>age</th>\n",
       "      <th>previous_year_rating</th>\n",
       "      <th>length_of_service</th>\n",
       "      <th>KPIs_met &gt;80%</th>\n",
       "      <th>awards_won?</th>\n",
       "      <th>avg_training_score</th>\n",
       "      <th>is_promoted</th>\n",
       "    </tr>\n",
       "  </thead>\n",
       "  <tbody>\n",
       "    <tr>\n",
       "      <th>0</th>\n",
       "      <td>65438</td>\n",
       "      <td>Sales &amp; Marketing</td>\n",
       "      <td>region_7</td>\n",
       "      <td>Master's &amp; above</td>\n",
       "      <td>f</td>\n",
       "      <td>sourcing</td>\n",
       "      <td>1</td>\n",
       "      <td>35</td>\n",
       "      <td>5.0</td>\n",
       "      <td>8</td>\n",
       "      <td>1</td>\n",
       "      <td>0</td>\n",
       "      <td>49</td>\n",
       "      <td>0</td>\n",
       "    </tr>\n",
       "    <tr>\n",
       "      <th>1</th>\n",
       "      <td>65141</td>\n",
       "      <td>Operations</td>\n",
       "      <td>region_22</td>\n",
       "      <td>Bachelor's</td>\n",
       "      <td>m</td>\n",
       "      <td>other</td>\n",
       "      <td>1</td>\n",
       "      <td>30</td>\n",
       "      <td>5.0</td>\n",
       "      <td>4</td>\n",
       "      <td>0</td>\n",
       "      <td>0</td>\n",
       "      <td>60</td>\n",
       "      <td>0</td>\n",
       "    </tr>\n",
       "    <tr>\n",
       "      <th>2</th>\n",
       "      <td>7513</td>\n",
       "      <td>Sales &amp; Marketing</td>\n",
       "      <td>region_19</td>\n",
       "      <td>Bachelor's</td>\n",
       "      <td>m</td>\n",
       "      <td>sourcing</td>\n",
       "      <td>1</td>\n",
       "      <td>34</td>\n",
       "      <td>3.0</td>\n",
       "      <td>7</td>\n",
       "      <td>0</td>\n",
       "      <td>0</td>\n",
       "      <td>50</td>\n",
       "      <td>0</td>\n",
       "    </tr>\n",
       "    <tr>\n",
       "      <th>3</th>\n",
       "      <td>2542</td>\n",
       "      <td>Sales &amp; Marketing</td>\n",
       "      <td>region_23</td>\n",
       "      <td>Bachelor's</td>\n",
       "      <td>m</td>\n",
       "      <td>other</td>\n",
       "      <td>2</td>\n",
       "      <td>39</td>\n",
       "      <td>1.0</td>\n",
       "      <td>10</td>\n",
       "      <td>0</td>\n",
       "      <td>0</td>\n",
       "      <td>50</td>\n",
       "      <td>0</td>\n",
       "    </tr>\n",
       "    <tr>\n",
       "      <th>4</th>\n",
       "      <td>48945</td>\n",
       "      <td>Technology</td>\n",
       "      <td>region_26</td>\n",
       "      <td>Bachelor's</td>\n",
       "      <td>m</td>\n",
       "      <td>other</td>\n",
       "      <td>1</td>\n",
       "      <td>45</td>\n",
       "      <td>3.0</td>\n",
       "      <td>2</td>\n",
       "      <td>0</td>\n",
       "      <td>0</td>\n",
       "      <td>73</td>\n",
       "      <td>0</td>\n",
       "    </tr>\n",
       "  </tbody>\n",
       "</table>\n",
       "</div>"
      ],
      "text/plain": [
       "   employee_id         department     region         education gender  \\\n",
       "0        65438  Sales & Marketing   region_7  Master's & above      f   \n",
       "1        65141         Operations  region_22        Bachelor's      m   \n",
       "2         7513  Sales & Marketing  region_19        Bachelor's      m   \n",
       "3         2542  Sales & Marketing  region_23        Bachelor's      m   \n",
       "4        48945         Technology  region_26        Bachelor's      m   \n",
       "\n",
       "  recruitment_channel  no_of_trainings  age  previous_year_rating  \\\n",
       "0            sourcing                1   35                   5.0   \n",
       "1               other                1   30                   5.0   \n",
       "2            sourcing                1   34                   3.0   \n",
       "3               other                2   39                   1.0   \n",
       "4               other                1   45                   3.0   \n",
       "\n",
       "   length_of_service  KPIs_met >80%  awards_won?  avg_training_score  \\\n",
       "0                  8              1            0                  49   \n",
       "1                  4              0            0                  60   \n",
       "2                  7              0            0                  50   \n",
       "3                 10              0            0                  50   \n",
       "4                  2              0            0                  73   \n",
       "\n",
       "   is_promoted  \n",
       "0            0  \n",
       "1            0  \n",
       "2            0  \n",
       "3            0  \n",
       "4            0  "
      ]
     },
     "execution_count": 3,
     "metadata": {},
     "output_type": "execute_result"
    }
   ],
   "source": [
    "# First five rows of the train set\n",
    "train.head()"
   ]
  },
  {
   "cell_type": "code",
   "execution_count": 4,
   "id": "b826bd36-096d-455e-97af-04c4045ef813",
   "metadata": {},
   "outputs": [],
   "source": [
    "# reading the test data\n",
    "test=pd.read_csv('test_2umaH9m.csv')"
   ]
  },
  {
   "cell_type": "code",
   "execution_count": 5,
   "id": "71aaf191-0eaf-4efa-9f7c-12c05e5f993d",
   "metadata": {},
   "outputs": [
    {
     "data": {
      "text/html": [
       "<div>\n",
       "<style scoped>\n",
       "    .dataframe tbody tr th:only-of-type {\n",
       "        vertical-align: middle;\n",
       "    }\n",
       "\n",
       "    .dataframe tbody tr th {\n",
       "        vertical-align: top;\n",
       "    }\n",
       "\n",
       "    .dataframe thead th {\n",
       "        text-align: right;\n",
       "    }\n",
       "</style>\n",
       "<table border=\"1\" class=\"dataframe\">\n",
       "  <thead>\n",
       "    <tr style=\"text-align: right;\">\n",
       "      <th></th>\n",
       "      <th>employee_id</th>\n",
       "      <th>department</th>\n",
       "      <th>region</th>\n",
       "      <th>education</th>\n",
       "      <th>gender</th>\n",
       "      <th>recruitment_channel</th>\n",
       "      <th>no_of_trainings</th>\n",
       "      <th>age</th>\n",
       "      <th>previous_year_rating</th>\n",
       "      <th>length_of_service</th>\n",
       "      <th>KPIs_met &gt;80%</th>\n",
       "      <th>awards_won?</th>\n",
       "      <th>avg_training_score</th>\n",
       "    </tr>\n",
       "  </thead>\n",
       "  <tbody>\n",
       "    <tr>\n",
       "      <th>0</th>\n",
       "      <td>8724</td>\n",
       "      <td>Technology</td>\n",
       "      <td>region_26</td>\n",
       "      <td>Bachelor's</td>\n",
       "      <td>m</td>\n",
       "      <td>sourcing</td>\n",
       "      <td>1</td>\n",
       "      <td>24</td>\n",
       "      <td>NaN</td>\n",
       "      <td>1</td>\n",
       "      <td>1</td>\n",
       "      <td>0</td>\n",
       "      <td>77</td>\n",
       "    </tr>\n",
       "    <tr>\n",
       "      <th>1</th>\n",
       "      <td>74430</td>\n",
       "      <td>HR</td>\n",
       "      <td>region_4</td>\n",
       "      <td>Bachelor's</td>\n",
       "      <td>f</td>\n",
       "      <td>other</td>\n",
       "      <td>1</td>\n",
       "      <td>31</td>\n",
       "      <td>3.0</td>\n",
       "      <td>5</td>\n",
       "      <td>0</td>\n",
       "      <td>0</td>\n",
       "      <td>51</td>\n",
       "    </tr>\n",
       "    <tr>\n",
       "      <th>2</th>\n",
       "      <td>72255</td>\n",
       "      <td>Sales &amp; Marketing</td>\n",
       "      <td>region_13</td>\n",
       "      <td>Bachelor's</td>\n",
       "      <td>m</td>\n",
       "      <td>other</td>\n",
       "      <td>1</td>\n",
       "      <td>31</td>\n",
       "      <td>1.0</td>\n",
       "      <td>4</td>\n",
       "      <td>0</td>\n",
       "      <td>0</td>\n",
       "      <td>47</td>\n",
       "    </tr>\n",
       "    <tr>\n",
       "      <th>3</th>\n",
       "      <td>38562</td>\n",
       "      <td>Procurement</td>\n",
       "      <td>region_2</td>\n",
       "      <td>Bachelor's</td>\n",
       "      <td>f</td>\n",
       "      <td>other</td>\n",
       "      <td>3</td>\n",
       "      <td>31</td>\n",
       "      <td>2.0</td>\n",
       "      <td>9</td>\n",
       "      <td>0</td>\n",
       "      <td>0</td>\n",
       "      <td>65</td>\n",
       "    </tr>\n",
       "    <tr>\n",
       "      <th>4</th>\n",
       "      <td>64486</td>\n",
       "      <td>Finance</td>\n",
       "      <td>region_29</td>\n",
       "      <td>Bachelor's</td>\n",
       "      <td>m</td>\n",
       "      <td>sourcing</td>\n",
       "      <td>1</td>\n",
       "      <td>30</td>\n",
       "      <td>4.0</td>\n",
       "      <td>7</td>\n",
       "      <td>0</td>\n",
       "      <td>0</td>\n",
       "      <td>61</td>\n",
       "    </tr>\n",
       "  </tbody>\n",
       "</table>\n",
       "</div>"
      ],
      "text/plain": [
       "   employee_id         department     region   education gender  \\\n",
       "0         8724         Technology  region_26  Bachelor's      m   \n",
       "1        74430                 HR   region_4  Bachelor's      f   \n",
       "2        72255  Sales & Marketing  region_13  Bachelor's      m   \n",
       "3        38562        Procurement   region_2  Bachelor's      f   \n",
       "4        64486            Finance  region_29  Bachelor's      m   \n",
       "\n",
       "  recruitment_channel  no_of_trainings  age  previous_year_rating  \\\n",
       "0            sourcing                1   24                   NaN   \n",
       "1               other                1   31                   3.0   \n",
       "2               other                1   31                   1.0   \n",
       "3               other                3   31                   2.0   \n",
       "4            sourcing                1   30                   4.0   \n",
       "\n",
       "   length_of_service  KPIs_met >80%  awards_won?  avg_training_score  \n",
       "0                  1              1            0                  77  \n",
       "1                  5              0            0                  51  \n",
       "2                  4              0            0                  47  \n",
       "3                  9              0            0                  65  \n",
       "4                  7              0            0                  61  "
      ]
     },
     "execution_count": 5,
     "metadata": {},
     "output_type": "execute_result"
    }
   ],
   "source": [
    "# First five rows of the test set\n",
    "test.head()"
   ]
  },
  {
   "cell_type": "code",
   "execution_count": 6,
   "id": "df55297c-c717-4037-8474-92b3c64da49e",
   "metadata": {},
   "outputs": [],
   "source": [
    "# Combining the two datasets together for analysis\n",
    "df=pd.concat([train,test],axis=0,ignore_index=True)"
   ]
  },
  {
   "cell_type": "code",
   "execution_count": 7,
   "id": "bbcb2fbb-2527-4718-abe5-5fa06b85847a",
   "metadata": {},
   "outputs": [
    {
     "data": {
      "text/html": [
       "<div>\n",
       "<style scoped>\n",
       "    .dataframe tbody tr th:only-of-type {\n",
       "        vertical-align: middle;\n",
       "    }\n",
       "\n",
       "    .dataframe tbody tr th {\n",
       "        vertical-align: top;\n",
       "    }\n",
       "\n",
       "    .dataframe thead th {\n",
       "        text-align: right;\n",
       "    }\n",
       "</style>\n",
       "<table border=\"1\" class=\"dataframe\">\n",
       "  <thead>\n",
       "    <tr style=\"text-align: right;\">\n",
       "      <th></th>\n",
       "      <th>employee_id</th>\n",
       "      <th>department</th>\n",
       "      <th>region</th>\n",
       "      <th>education</th>\n",
       "      <th>gender</th>\n",
       "      <th>recruitment_channel</th>\n",
       "      <th>no_of_trainings</th>\n",
       "      <th>age</th>\n",
       "      <th>previous_year_rating</th>\n",
       "      <th>length_of_service</th>\n",
       "      <th>KPIs_met &gt;80%</th>\n",
       "      <th>awards_won?</th>\n",
       "      <th>avg_training_score</th>\n",
       "      <th>is_promoted</th>\n",
       "    </tr>\n",
       "  </thead>\n",
       "  <tbody>\n",
       "    <tr>\n",
       "      <th>0</th>\n",
       "      <td>65438</td>\n",
       "      <td>Sales &amp; Marketing</td>\n",
       "      <td>region_7</td>\n",
       "      <td>Master's &amp; above</td>\n",
       "      <td>f</td>\n",
       "      <td>sourcing</td>\n",
       "      <td>1</td>\n",
       "      <td>35</td>\n",
       "      <td>5.0</td>\n",
       "      <td>8</td>\n",
       "      <td>1</td>\n",
       "      <td>0</td>\n",
       "      <td>49</td>\n",
       "      <td>0.0</td>\n",
       "    </tr>\n",
       "    <tr>\n",
       "      <th>1</th>\n",
       "      <td>65141</td>\n",
       "      <td>Operations</td>\n",
       "      <td>region_22</td>\n",
       "      <td>Bachelor's</td>\n",
       "      <td>m</td>\n",
       "      <td>other</td>\n",
       "      <td>1</td>\n",
       "      <td>30</td>\n",
       "      <td>5.0</td>\n",
       "      <td>4</td>\n",
       "      <td>0</td>\n",
       "      <td>0</td>\n",
       "      <td>60</td>\n",
       "      <td>0.0</td>\n",
       "    </tr>\n",
       "    <tr>\n",
       "      <th>2</th>\n",
       "      <td>7513</td>\n",
       "      <td>Sales &amp; Marketing</td>\n",
       "      <td>region_19</td>\n",
       "      <td>Bachelor's</td>\n",
       "      <td>m</td>\n",
       "      <td>sourcing</td>\n",
       "      <td>1</td>\n",
       "      <td>34</td>\n",
       "      <td>3.0</td>\n",
       "      <td>7</td>\n",
       "      <td>0</td>\n",
       "      <td>0</td>\n",
       "      <td>50</td>\n",
       "      <td>0.0</td>\n",
       "    </tr>\n",
       "    <tr>\n",
       "      <th>3</th>\n",
       "      <td>2542</td>\n",
       "      <td>Sales &amp; Marketing</td>\n",
       "      <td>region_23</td>\n",
       "      <td>Bachelor's</td>\n",
       "      <td>m</td>\n",
       "      <td>other</td>\n",
       "      <td>2</td>\n",
       "      <td>39</td>\n",
       "      <td>1.0</td>\n",
       "      <td>10</td>\n",
       "      <td>0</td>\n",
       "      <td>0</td>\n",
       "      <td>50</td>\n",
       "      <td>0.0</td>\n",
       "    </tr>\n",
       "    <tr>\n",
       "      <th>4</th>\n",
       "      <td>48945</td>\n",
       "      <td>Technology</td>\n",
       "      <td>region_26</td>\n",
       "      <td>Bachelor's</td>\n",
       "      <td>m</td>\n",
       "      <td>other</td>\n",
       "      <td>1</td>\n",
       "      <td>45</td>\n",
       "      <td>3.0</td>\n",
       "      <td>2</td>\n",
       "      <td>0</td>\n",
       "      <td>0</td>\n",
       "      <td>73</td>\n",
       "      <td>0.0</td>\n",
       "    </tr>\n",
       "  </tbody>\n",
       "</table>\n",
       "</div>"
      ],
      "text/plain": [
       "   employee_id         department     region         education gender  \\\n",
       "0        65438  Sales & Marketing   region_7  Master's & above      f   \n",
       "1        65141         Operations  region_22        Bachelor's      m   \n",
       "2         7513  Sales & Marketing  region_19        Bachelor's      m   \n",
       "3         2542  Sales & Marketing  region_23        Bachelor's      m   \n",
       "4        48945         Technology  region_26        Bachelor's      m   \n",
       "\n",
       "  recruitment_channel  no_of_trainings  age  previous_year_rating  \\\n",
       "0            sourcing                1   35                   5.0   \n",
       "1               other                1   30                   5.0   \n",
       "2            sourcing                1   34                   3.0   \n",
       "3               other                2   39                   1.0   \n",
       "4               other                1   45                   3.0   \n",
       "\n",
       "   length_of_service  KPIs_met >80%  awards_won?  avg_training_score  \\\n",
       "0                  8              1            0                  49   \n",
       "1                  4              0            0                  60   \n",
       "2                  7              0            0                  50   \n",
       "3                 10              0            0                  50   \n",
       "4                  2              0            0                  73   \n",
       "\n",
       "   is_promoted  \n",
       "0          0.0  \n",
       "1          0.0  \n",
       "2          0.0  \n",
       "3          0.0  \n",
       "4          0.0  "
      ]
     },
     "execution_count": 7,
     "metadata": {},
     "output_type": "execute_result"
    }
   ],
   "source": [
    "# first five rows of combined data\n",
    "df.head()"
   ]
  },
  {
   "cell_type": "code",
   "execution_count": 8,
   "id": "bf669c67-c5e3-42cd-a663-db2faf65247f",
   "metadata": {},
   "outputs": [
    {
     "name": "stdout",
     "output_type": "stream",
     "text": [
      "<class 'pandas.core.frame.DataFrame'>\n",
      "RangeIndex: 78298 entries, 0 to 78297\n",
      "Data columns (total 14 columns):\n",
      " #   Column                Non-Null Count  Dtype  \n",
      "---  ------                --------------  -----  \n",
      " 0   employee_id           78298 non-null  int64  \n",
      " 1   department            78298 non-null  object \n",
      " 2   region                78298 non-null  object \n",
      " 3   education             74855 non-null  object \n",
      " 4   gender                78298 non-null  object \n",
      " 5   recruitment_channel   78298 non-null  object \n",
      " 6   no_of_trainings       78298 non-null  int64  \n",
      " 7   age                   78298 non-null  int64  \n",
      " 8   previous_year_rating  72362 non-null  float64\n",
      " 9   length_of_service     78298 non-null  int64  \n",
      " 10  KPIs_met >80%         78298 non-null  int64  \n",
      " 11  awards_won?           78298 non-null  int64  \n",
      " 12  avg_training_score    78298 non-null  int64  \n",
      " 13  is_promoted           54808 non-null  float64\n",
      "dtypes: float64(2), int64(7), object(5)\n",
      "memory usage: 8.4+ MB\n"
     ]
    }
   ],
   "source": [
    "# Info of the data\n",
    "df.info()"
   ]
  },
  {
   "cell_type": "code",
   "execution_count": 9,
   "id": "116a9c41-0967-4513-a64d-a2ab05533940",
   "metadata": {},
   "outputs": [
    {
     "data": {
      "text/html": [
       "<div>\n",
       "<style scoped>\n",
       "    .dataframe tbody tr th:only-of-type {\n",
       "        vertical-align: middle;\n",
       "    }\n",
       "\n",
       "    .dataframe tbody tr th {\n",
       "        vertical-align: top;\n",
       "    }\n",
       "\n",
       "    .dataframe thead th {\n",
       "        text-align: right;\n",
       "    }\n",
       "</style>\n",
       "<table border=\"1\" class=\"dataframe\">\n",
       "  <thead>\n",
       "    <tr style=\"text-align: right;\">\n",
       "      <th></th>\n",
       "      <th>employee_id</th>\n",
       "      <th>no_of_trainings</th>\n",
       "      <th>age</th>\n",
       "      <th>previous_year_rating</th>\n",
       "      <th>length_of_service</th>\n",
       "      <th>KPIs_met &gt;80%</th>\n",
       "      <th>awards_won?</th>\n",
       "      <th>avg_training_score</th>\n",
       "      <th>is_promoted</th>\n",
       "    </tr>\n",
       "  </thead>\n",
       "  <tbody>\n",
       "    <tr>\n",
       "      <th>count</th>\n",
       "      <td>78298.000000</td>\n",
       "      <td>78298.000000</td>\n",
       "      <td>78298.000000</td>\n",
       "      <td>72362.000000</td>\n",
       "      <td>78298.000000</td>\n",
       "      <td>78298.000000</td>\n",
       "      <td>78298.000000</td>\n",
       "      <td>78298.000000</td>\n",
       "      <td>54808.000000</td>\n",
       "    </tr>\n",
       "    <tr>\n",
       "      <th>mean</th>\n",
       "      <td>39149.500000</td>\n",
       "      <td>1.253378</td>\n",
       "      <td>34.797619</td>\n",
       "      <td>3.332219</td>\n",
       "      <td>5.848974</td>\n",
       "      <td>0.354032</td>\n",
       "      <td>0.023053</td>\n",
       "      <td>63.349664</td>\n",
       "      <td>0.085170</td>\n",
       "    </tr>\n",
       "    <tr>\n",
       "      <th>std</th>\n",
       "      <td>22602.830026</td>\n",
       "      <td>0.606766</td>\n",
       "      <td>7.665928</td>\n",
       "      <td>1.260982</td>\n",
       "      <td>4.248070</td>\n",
       "      <td>0.478222</td>\n",
       "      <td>0.150073</td>\n",
       "      <td>13.383664</td>\n",
       "      <td>0.279137</td>\n",
       "    </tr>\n",
       "    <tr>\n",
       "      <th>min</th>\n",
       "      <td>1.000000</td>\n",
       "      <td>1.000000</td>\n",
       "      <td>20.000000</td>\n",
       "      <td>1.000000</td>\n",
       "      <td>1.000000</td>\n",
       "      <td>0.000000</td>\n",
       "      <td>0.000000</td>\n",
       "      <td>39.000000</td>\n",
       "      <td>0.000000</td>\n",
       "    </tr>\n",
       "    <tr>\n",
       "      <th>25%</th>\n",
       "      <td>19575.250000</td>\n",
       "      <td>1.000000</td>\n",
       "      <td>29.000000</td>\n",
       "      <td>3.000000</td>\n",
       "      <td>3.000000</td>\n",
       "      <td>0.000000</td>\n",
       "      <td>0.000000</td>\n",
       "      <td>51.000000</td>\n",
       "      <td>0.000000</td>\n",
       "    </tr>\n",
       "    <tr>\n",
       "      <th>50%</th>\n",
       "      <td>39149.500000</td>\n",
       "      <td>1.000000</td>\n",
       "      <td>33.000000</td>\n",
       "      <td>3.000000</td>\n",
       "      <td>5.000000</td>\n",
       "      <td>0.000000</td>\n",
       "      <td>0.000000</td>\n",
       "      <td>60.000000</td>\n",
       "      <td>0.000000</td>\n",
       "    </tr>\n",
       "    <tr>\n",
       "      <th>75%</th>\n",
       "      <td>58723.750000</td>\n",
       "      <td>1.000000</td>\n",
       "      <td>39.000000</td>\n",
       "      <td>4.000000</td>\n",
       "      <td>7.000000</td>\n",
       "      <td>1.000000</td>\n",
       "      <td>0.000000</td>\n",
       "      <td>76.000000</td>\n",
       "      <td>0.000000</td>\n",
       "    </tr>\n",
       "    <tr>\n",
       "      <th>max</th>\n",
       "      <td>78298.000000</td>\n",
       "      <td>10.000000</td>\n",
       "      <td>60.000000</td>\n",
       "      <td>5.000000</td>\n",
       "      <td>37.000000</td>\n",
       "      <td>1.000000</td>\n",
       "      <td>1.000000</td>\n",
       "      <td>99.000000</td>\n",
       "      <td>1.000000</td>\n",
       "    </tr>\n",
       "  </tbody>\n",
       "</table>\n",
       "</div>"
      ],
      "text/plain": [
       "        employee_id  no_of_trainings           age  previous_year_rating  \\\n",
       "count  78298.000000     78298.000000  78298.000000          72362.000000   \n",
       "mean   39149.500000         1.253378     34.797619              3.332219   \n",
       "std    22602.830026         0.606766      7.665928              1.260982   \n",
       "min        1.000000         1.000000     20.000000              1.000000   \n",
       "25%    19575.250000         1.000000     29.000000              3.000000   \n",
       "50%    39149.500000         1.000000     33.000000              3.000000   \n",
       "75%    58723.750000         1.000000     39.000000              4.000000   \n",
       "max    78298.000000        10.000000     60.000000              5.000000   \n",
       "\n",
       "       length_of_service  KPIs_met >80%   awards_won?  avg_training_score  \\\n",
       "count       78298.000000   78298.000000  78298.000000        78298.000000   \n",
       "mean            5.848974       0.354032      0.023053           63.349664   \n",
       "std             4.248070       0.478222      0.150073           13.383664   \n",
       "min             1.000000       0.000000      0.000000           39.000000   \n",
       "25%             3.000000       0.000000      0.000000           51.000000   \n",
       "50%             5.000000       0.000000      0.000000           60.000000   \n",
       "75%             7.000000       1.000000      0.000000           76.000000   \n",
       "max            37.000000       1.000000      1.000000           99.000000   \n",
       "\n",
       "        is_promoted  \n",
       "count  54808.000000  \n",
       "mean       0.085170  \n",
       "std        0.279137  \n",
       "min        0.000000  \n",
       "25%        0.000000  \n",
       "50%        0.000000  \n",
       "75%        0.000000  \n",
       "max        1.000000  "
      ]
     },
     "execution_count": 9,
     "metadata": {},
     "output_type": "execute_result"
    }
   ],
   "source": [
    "# Summary statistics\n",
    "df.describe()"
   ]
  },
  {
   "cell_type": "code",
   "execution_count": 10,
   "id": "a39ee139-a1c4-4bb1-83cc-003393a2e905",
   "metadata": {},
   "outputs": [
    {
     "data": {
      "text/plain": [
       "is_promoted             23490\n",
       "previous_year_rating     5936\n",
       "education                3443\n",
       "employee_id                 0\n",
       "department                  0\n",
       "region                      0\n",
       "gender                      0\n",
       "recruitment_channel         0\n",
       "no_of_trainings             0\n",
       "age                         0\n",
       "length_of_service           0\n",
       "KPIs_met >80%               0\n",
       "awards_won?                 0\n",
       "avg_training_score          0\n",
       "dtype: int64"
      ]
     },
     "execution_count": 10,
     "metadata": {},
     "output_type": "execute_result"
    }
   ],
   "source": [
    "# Checking for missing values\n",
    "df.isnull().sum().sort_values(ascending=False)\n",
    "# data has missing values"
   ]
  },
  {
   "cell_type": "code",
   "execution_count": 11,
   "id": "066722b4-3ef5-4b9a-bc7a-8091e3537002",
   "metadata": {},
   "outputs": [
    {
     "data": {
      "text/html": [
       "<div>\n",
       "<style scoped>\n",
       "    .dataframe tbody tr th:only-of-type {\n",
       "        vertical-align: middle;\n",
       "    }\n",
       "\n",
       "    .dataframe tbody tr th {\n",
       "        vertical-align: top;\n",
       "    }\n",
       "\n",
       "    .dataframe thead th {\n",
       "        text-align: right;\n",
       "    }\n",
       "</style>\n",
       "<table border=\"1\" class=\"dataframe\">\n",
       "  <thead>\n",
       "    <tr style=\"text-align: right;\">\n",
       "      <th></th>\n",
       "      <th>employee_id</th>\n",
       "      <th>no_of_trainings</th>\n",
       "      <th>age</th>\n",
       "      <th>previous_year_rating</th>\n",
       "      <th>length_of_service</th>\n",
       "      <th>KPIs_met &gt;80%</th>\n",
       "      <th>awards_won?</th>\n",
       "      <th>avg_training_score</th>\n",
       "      <th>is_promoted</th>\n",
       "    </tr>\n",
       "  </thead>\n",
       "  <tbody>\n",
       "    <tr>\n",
       "      <th>employee_id</th>\n",
       "      <td>1.000000</td>\n",
       "      <td>-0.005216</td>\n",
       "      <td>0.000586</td>\n",
       "      <td>0.001372</td>\n",
       "      <td>0.004420</td>\n",
       "      <td>0.000127</td>\n",
       "      <td>0.005943</td>\n",
       "      <td>-0.003930</td>\n",
       "      <td>0.001206</td>\n",
       "    </tr>\n",
       "    <tr>\n",
       "      <th>no_of_trainings</th>\n",
       "      <td>-0.005216</td>\n",
       "      <td>1.000000</td>\n",
       "      <td>-0.082536</td>\n",
       "      <td>-0.058439</td>\n",
       "      <td>-0.058403</td>\n",
       "      <td>-0.043912</td>\n",
       "      <td>-0.004818</td>\n",
       "      <td>0.044180</td>\n",
       "      <td>-0.024896</td>\n",
       "    </tr>\n",
       "    <tr>\n",
       "      <th>age</th>\n",
       "      <td>0.000586</td>\n",
       "      <td>-0.082536</td>\n",
       "      <td>1.000000</td>\n",
       "      <td>0.009137</td>\n",
       "      <td>0.653339</td>\n",
       "      <td>-0.026223</td>\n",
       "      <td>-0.007357</td>\n",
       "      <td>-0.044592</td>\n",
       "      <td>-0.017166</td>\n",
       "    </tr>\n",
       "    <tr>\n",
       "      <th>previous_year_rating</th>\n",
       "      <td>0.001372</td>\n",
       "      <td>-0.058439</td>\n",
       "      <td>0.009137</td>\n",
       "      <td>1.000000</td>\n",
       "      <td>0.001063</td>\n",
       "      <td>0.350921</td>\n",
       "      <td>0.027636</td>\n",
       "      <td>0.071813</td>\n",
       "      <td>0.159320</td>\n",
       "    </tr>\n",
       "    <tr>\n",
       "      <th>length_of_service</th>\n",
       "      <td>0.004420</td>\n",
       "      <td>-0.058403</td>\n",
       "      <td>0.653339</td>\n",
       "      <td>0.001063</td>\n",
       "      <td>1.000000</td>\n",
       "      <td>-0.077854</td>\n",
       "      <td>-0.040556</td>\n",
       "      <td>-0.035272</td>\n",
       "      <td>-0.010670</td>\n",
       "    </tr>\n",
       "    <tr>\n",
       "      <th>KPIs_met &gt;80%</th>\n",
       "      <td>0.000127</td>\n",
       "      <td>-0.043912</td>\n",
       "      <td>-0.026223</td>\n",
       "      <td>0.350921</td>\n",
       "      <td>-0.077854</td>\n",
       "      <td>1.000000</td>\n",
       "      <td>0.100365</td>\n",
       "      <td>0.076729</td>\n",
       "      <td>0.221582</td>\n",
       "    </tr>\n",
       "    <tr>\n",
       "      <th>awards_won?</th>\n",
       "      <td>0.005943</td>\n",
       "      <td>-0.004818</td>\n",
       "      <td>-0.007357</td>\n",
       "      <td>0.027636</td>\n",
       "      <td>-0.040556</td>\n",
       "      <td>0.100365</td>\n",
       "      <td>1.000000</td>\n",
       "      <td>0.072655</td>\n",
       "      <td>0.195871</td>\n",
       "    </tr>\n",
       "    <tr>\n",
       "      <th>avg_training_score</th>\n",
       "      <td>-0.003930</td>\n",
       "      <td>0.044180</td>\n",
       "      <td>-0.044592</td>\n",
       "      <td>0.071813</td>\n",
       "      <td>-0.035272</td>\n",
       "      <td>0.076729</td>\n",
       "      <td>0.072655</td>\n",
       "      <td>1.000000</td>\n",
       "      <td>0.181147</td>\n",
       "    </tr>\n",
       "    <tr>\n",
       "      <th>is_promoted</th>\n",
       "      <td>0.001206</td>\n",
       "      <td>-0.024896</td>\n",
       "      <td>-0.017166</td>\n",
       "      <td>0.159320</td>\n",
       "      <td>-0.010670</td>\n",
       "      <td>0.221582</td>\n",
       "      <td>0.195871</td>\n",
       "      <td>0.181147</td>\n",
       "      <td>1.000000</td>\n",
       "    </tr>\n",
       "  </tbody>\n",
       "</table>\n",
       "</div>"
      ],
      "text/plain": [
       "                      employee_id  no_of_trainings       age  \\\n",
       "employee_id              1.000000        -0.005216  0.000586   \n",
       "no_of_trainings         -0.005216         1.000000 -0.082536   \n",
       "age                      0.000586        -0.082536  1.000000   \n",
       "previous_year_rating     0.001372        -0.058439  0.009137   \n",
       "length_of_service        0.004420        -0.058403  0.653339   \n",
       "KPIs_met >80%            0.000127        -0.043912 -0.026223   \n",
       "awards_won?              0.005943        -0.004818 -0.007357   \n",
       "avg_training_score      -0.003930         0.044180 -0.044592   \n",
       "is_promoted              0.001206        -0.024896 -0.017166   \n",
       "\n",
       "                      previous_year_rating  length_of_service  KPIs_met >80%  \\\n",
       "employee_id                       0.001372           0.004420       0.000127   \n",
       "no_of_trainings                  -0.058439          -0.058403      -0.043912   \n",
       "age                               0.009137           0.653339      -0.026223   \n",
       "previous_year_rating              1.000000           0.001063       0.350921   \n",
       "length_of_service                 0.001063           1.000000      -0.077854   \n",
       "KPIs_met >80%                     0.350921          -0.077854       1.000000   \n",
       "awards_won?                       0.027636          -0.040556       0.100365   \n",
       "avg_training_score                0.071813          -0.035272       0.076729   \n",
       "is_promoted                       0.159320          -0.010670       0.221582   \n",
       "\n",
       "                      awards_won?  avg_training_score  is_promoted  \n",
       "employee_id              0.005943           -0.003930     0.001206  \n",
       "no_of_trainings         -0.004818            0.044180    -0.024896  \n",
       "age                     -0.007357           -0.044592    -0.017166  \n",
       "previous_year_rating     0.027636            0.071813     0.159320  \n",
       "length_of_service       -0.040556           -0.035272    -0.010670  \n",
       "KPIs_met >80%            0.100365            0.076729     0.221582  \n",
       "awards_won?              1.000000            0.072655     0.195871  \n",
       "avg_training_score       0.072655            1.000000     0.181147  \n",
       "is_promoted              0.195871            0.181147     1.000000  "
      ]
     },
     "execution_count": 11,
     "metadata": {},
     "output_type": "execute_result"
    }
   ],
   "source": [
    "# Corelation matrix\n",
    "df.corr()"
   ]
  },
  {
   "cell_type": "code",
   "execution_count": 12,
   "id": "d80e81fe-4060-4898-9574-5229a41f51f6",
   "metadata": {},
   "outputs": [
    {
     "data": {
      "image/png": "[encoded data removed]",
      "text/plain": [
       "<Figure size 432x288 with 2 Axes>"
      ]
     },
     "metadata": {
      "needs_background": "light"
     },
     "output_type": "display_data"
    }
   ],
   "source": [
    "#Visualaization of the corelation matrix\n",
    "sns.heatmap(df.corr(),cmap='YlGnBu')\n",
    "plt.show()"
   ]
  },
  {
   "cell_type": "code",
   "execution_count": 13,
   "id": "59870dc8-df54-47a9-9bfc-334240248928",
   "metadata": {},
   "outputs": [
    {
     "data": {
      "text/plain": [
       "employee_id                 0\n",
       "department                  0\n",
       "region                      0\n",
       "education                3443\n",
       "gender                      0\n",
       "recruitment_channel         0\n",
       "no_of_trainings             0\n",
       "age                         0\n",
       "previous_year_rating     5936\n",
       "length_of_service           0\n",
       "KPIs_met >80%               0\n",
       "awards_won?                 0\n",
       "avg_training_score          0\n",
       "is_promoted             23490\n",
       "dtype: int64"
      ]
     },
     "execution_count": 13,
     "metadata": {},
     "output_type": "execute_result"
    }
   ],
   "source": [
    "df.isnull().sum()"
   ]
  },
  {
   "cell_type": "code",
   "execution_count": 14,
   "id": "4a3eebd5-9ad6-44a3-ae10-39423fba9e34",
   "metadata": {},
   "outputs": [],
   "source": [
    "# We see that the education and previous year rating columns have null values, so we would first do some data cleaning and fill the null values\n",
    "# before proceding for our univariate and bivariate analysis"
   ]
  },
  {
   "cell_type": "markdown",
   "id": "88f731fc-193f-47bb-b909-36b483341889",
   "metadata": {},
   "source": [
    "# Data Cleaning and handling Missing values"
   ]
  },
  {
   "cell_type": "code",
   "execution_count": 15,
   "id": "1e7ca23e-4900-461d-9805-c2b96b772cc2",
   "metadata": {},
   "outputs": [],
   "source": [
    "# Our approach would be to impute groupwise mode imputation in the education columns\n",
    "# To find which groups to use we would apply chi_2 contingency test to check whether the categorical columns\n",
    "# have an effect on the education column"
   ]
  },
  {
   "cell_type": "code",
   "execution_count": 16,
   "id": "804248fa-57b7-47e8-bab2-d9b41aaebf78",
   "metadata": {},
   "outputs": [
    {
     "data": {
      "text/html": [
       "<div>\n",
       "<style scoped>\n",
       "    .dataframe tbody tr th:only-of-type {\n",
       "        vertical-align: middle;\n",
       "    }\n",
       "\n",
       "    .dataframe tbody tr th {\n",
       "        vertical-align: top;\n",
       "    }\n",
       "\n",
       "    .dataframe thead th {\n",
       "        text-align: right;\n",
       "    }\n",
       "</style>\n",
       "<table border=\"1\" class=\"dataframe\">\n",
       "  <thead>\n",
       "    <tr style=\"text-align: right;\">\n",
       "      <th>education</th>\n",
       "      <th>Bachelor's</th>\n",
       "      <th>Below Secondary</th>\n",
       "      <th>Master's &amp; above</th>\n",
       "    </tr>\n",
       "    <tr>\n",
       "      <th>department</th>\n",
       "      <th></th>\n",
       "      <th></th>\n",
       "      <th></th>\n",
       "    </tr>\n",
       "  </thead>\n",
       "  <tbody>\n",
       "    <tr>\n",
       "      <th>Analytics</th>\n",
       "      <td>5681</td>\n",
       "      <td>0</td>\n",
       "      <td>1498</td>\n",
       "    </tr>\n",
       "    <tr>\n",
       "      <th>Finance</th>\n",
       "      <td>2683</td>\n",
       "      <td>155</td>\n",
       "      <td>739</td>\n",
       "    </tr>\n",
       "    <tr>\n",
       "      <th>HR</th>\n",
       "      <td>2210</td>\n",
       "      <td>186</td>\n",
       "      <td>1061</td>\n",
       "    </tr>\n",
       "    <tr>\n",
       "      <th>Legal</th>\n",
       "      <td>1150</td>\n",
       "      <td>100</td>\n",
       "      <td>228</td>\n",
       "    </tr>\n",
       "    <tr>\n",
       "      <th>Operations</th>\n",
       "      <td>11079</td>\n",
       "      <td>249</td>\n",
       "      <td>4466</td>\n",
       "    </tr>\n",
       "    <tr>\n",
       "      <th>Procurement</th>\n",
       "      <td>6200</td>\n",
       "      <td>201</td>\n",
       "      <td>3645</td>\n",
       "    </tr>\n",
       "    <tr>\n",
       "      <th>R&amp;D</th>\n",
       "      <td>769</td>\n",
       "      <td>0</td>\n",
       "      <td>630</td>\n",
       "    </tr>\n",
       "    <tr>\n",
       "      <th>Sales &amp; Marketing</th>\n",
       "      <td>15917</td>\n",
       "      <td>0</td>\n",
       "      <td>6000</td>\n",
       "    </tr>\n",
       "    <tr>\n",
       "      <th>Technology</th>\n",
       "      <td>6558</td>\n",
       "      <td>288</td>\n",
       "      <td>3162</td>\n",
       "    </tr>\n",
       "  </tbody>\n",
       "</table>\n",
       "</div>"
      ],
      "text/plain": [
       "education          Bachelor's  Below Secondary  Master's & above\n",
       "department                                                      \n",
       "Analytics                5681                0              1498\n",
       "Finance                  2683              155               739\n",
       "HR                       2210              186              1061\n",
       "Legal                    1150              100               228\n",
       "Operations              11079              249              4466\n",
       "Procurement              6200              201              3645\n",
       "R&D                       769                0               630\n",
       "Sales & Marketing       15917                0              6000\n",
       "Technology               6558              288              3162"
      ]
     },
     "execution_count": 16,
     "metadata": {},
     "output_type": "execute_result"
    }
   ],
   "source": [
    "# First we will check whether department has an effect on eductaion\n",
    "# Null Hypothesis: Department has no effect on education\n",
    "# Alternate hypothesis: Department has an effect on education\n",
    "\n",
    "# For chi_2 contingency we would first make a crosstab\n",
    "tbl=pd.crosstab(df.department,df.education) # Required crosstab\n",
    "tbl"
   ]
  },
  {
   "cell_type": "code",
   "execution_count": 17,
   "id": "688df179-76d4-4904-b2a3-820d9854093d",
   "metadata": {},
   "outputs": [
    {
     "data": {
      "text/plain": [
       "0.0"
      ]
     },
     "execution_count": 17,
     "metadata": {},
     "output_type": "execute_result"
    }
   ],
   "source": [
    "# Now we would import the stats module from scipy and \n",
    "# Find the pvalue for the our given hypothesis\n",
    "# We would consider our significance level to be 0.05\n",
    "import scipy.stats as stats\n",
    "statistic,pvalue,dof,exp=stats.chi2_contingency(tbl)\n",
    "pvalue\n",
    "# Thus we see that our pvalue comes out to be 0 which mich less than 0.05\n",
    "# Hence we reject our null hypothesis\n",
    "# In conclusion, Department has an effect on eductaion"
   ]
  },
  {
   "cell_type": "code",
   "execution_count": 18,
   "id": "4ac8fc1e-d51a-4c9a-8bf1-8274288ecad5",
   "metadata": {},
   "outputs": [
    {
     "data": {
      "text/html": [
       "<div>\n",
       "<style scoped>\n",
       "    .dataframe tbody tr th:only-of-type {\n",
       "        vertical-align: middle;\n",
       "    }\n",
       "\n",
       "    .dataframe tbody tr th {\n",
       "        vertical-align: top;\n",
       "    }\n",
       "\n",
       "    .dataframe thead th {\n",
       "        text-align: right;\n",
       "    }\n",
       "</style>\n",
       "<table border=\"1\" class=\"dataframe\">\n",
       "  <thead>\n",
       "    <tr style=\"text-align: right;\">\n",
       "      <th>education</th>\n",
       "      <th>Bachelor's</th>\n",
       "      <th>Below Secondary</th>\n",
       "      <th>Master's &amp; above</th>\n",
       "    </tr>\n",
       "    <tr>\n",
       "      <th>region</th>\n",
       "      <th></th>\n",
       "      <th></th>\n",
       "      <th></th>\n",
       "    </tr>\n",
       "  </thead>\n",
       "  <tbody>\n",
       "    <tr>\n",
       "      <th>region_1</th>\n",
       "      <td>451</td>\n",
       "      <td>1</td>\n",
       "      <td>374</td>\n",
       "    </tr>\n",
       "    <tr>\n",
       "      <th>region_10</th>\n",
       "      <td>355</td>\n",
       "      <td>0</td>\n",
       "      <td>558</td>\n",
       "    </tr>\n",
       "    <tr>\n",
       "      <th>region_11</th>\n",
       "      <td>1449</td>\n",
       "      <td>0</td>\n",
       "      <td>406</td>\n",
       "    </tr>\n",
       "    <tr>\n",
       "      <th>region_12</th>\n",
       "      <td>668</td>\n",
       "      <td>0</td>\n",
       "      <td>42</td>\n",
       "    </tr>\n",
       "    <tr>\n",
       "      <th>region_13</th>\n",
       "      <td>2483</td>\n",
       "      <td>7</td>\n",
       "      <td>1246</td>\n",
       "    </tr>\n",
       "    <tr>\n",
       "      <th>region_14</th>\n",
       "      <td>910</td>\n",
       "      <td>3</td>\n",
       "      <td>234</td>\n",
       "    </tr>\n",
       "    <tr>\n",
       "      <th>region_15</th>\n",
       "      <td>2752</td>\n",
       "      <td>1</td>\n",
       "      <td>921</td>\n",
       "    </tr>\n",
       "    <tr>\n",
       "      <th>region_16</th>\n",
       "      <td>1528</td>\n",
       "      <td>57</td>\n",
       "      <td>384</td>\n",
       "    </tr>\n",
       "    <tr>\n",
       "      <th>region_17</th>\n",
       "      <td>826</td>\n",
       "      <td>0</td>\n",
       "      <td>318</td>\n",
       "    </tr>\n",
       "    <tr>\n",
       "      <th>region_18</th>\n",
       "      <td>51</td>\n",
       "      <td>0</td>\n",
       "      <td>0</td>\n",
       "    </tr>\n",
       "    <tr>\n",
       "      <th>region_19</th>\n",
       "      <td>1097</td>\n",
       "      <td>0</td>\n",
       "      <td>170</td>\n",
       "    </tr>\n",
       "    <tr>\n",
       "      <th>region_2</th>\n",
       "      <td>10320</td>\n",
       "      <td>696</td>\n",
       "      <td>5404</td>\n",
       "    </tr>\n",
       "    <tr>\n",
       "      <th>region_20</th>\n",
       "      <td>858</td>\n",
       "      <td>0</td>\n",
       "      <td>316</td>\n",
       "    </tr>\n",
       "    <tr>\n",
       "      <th>region_21</th>\n",
       "      <td>466</td>\n",
       "      <td>1</td>\n",
       "      <td>108</td>\n",
       "    </tr>\n",
       "    <tr>\n",
       "      <th>region_22</th>\n",
       "      <td>6103</td>\n",
       "      <td>157</td>\n",
       "      <td>2442</td>\n",
       "    </tr>\n",
       "    <tr>\n",
       "      <th>region_23</th>\n",
       "      <td>951</td>\n",
       "      <td>0</td>\n",
       "      <td>700</td>\n",
       "    </tr>\n",
       "    <tr>\n",
       "      <th>region_24</th>\n",
       "      <td>576</td>\n",
       "      <td>1</td>\n",
       "      <td>147</td>\n",
       "    </tr>\n",
       "    <tr>\n",
       "      <th>region_25</th>\n",
       "      <td>711</td>\n",
       "      <td>8</td>\n",
       "      <td>390</td>\n",
       "    </tr>\n",
       "    <tr>\n",
       "      <th>region_26</th>\n",
       "      <td>2603</td>\n",
       "      <td>21</td>\n",
       "      <td>505</td>\n",
       "    </tr>\n",
       "    <tr>\n",
       "      <th>region_27</th>\n",
       "      <td>1819</td>\n",
       "      <td>32</td>\n",
       "      <td>410</td>\n",
       "    </tr>\n",
       "    <tr>\n",
       "      <th>region_28</th>\n",
       "      <td>1005</td>\n",
       "      <td>2</td>\n",
       "      <td>787</td>\n",
       "    </tr>\n",
       "    <tr>\n",
       "      <th>region_29</th>\n",
       "      <td>1105</td>\n",
       "      <td>2</td>\n",
       "      <td>275</td>\n",
       "    </tr>\n",
       "    <tr>\n",
       "      <th>region_3</th>\n",
       "      <td>323</td>\n",
       "      <td>0</td>\n",
       "      <td>166</td>\n",
       "    </tr>\n",
       "    <tr>\n",
       "      <th>region_30</th>\n",
       "      <td>809</td>\n",
       "      <td>2</td>\n",
       "      <td>105</td>\n",
       "    </tr>\n",
       "    <tr>\n",
       "      <th>region_31</th>\n",
       "      <td>2078</td>\n",
       "      <td>6</td>\n",
       "      <td>562</td>\n",
       "    </tr>\n",
       "    <tr>\n",
       "      <th>region_32</th>\n",
       "      <td>1175</td>\n",
       "      <td>10</td>\n",
       "      <td>63</td>\n",
       "    </tr>\n",
       "    <tr>\n",
       "      <th>region_33</th>\n",
       "      <td>297</td>\n",
       "      <td>0</td>\n",
       "      <td>98</td>\n",
       "    </tr>\n",
       "    <tr>\n",
       "      <th>region_34</th>\n",
       "      <td>391</td>\n",
       "      <td>0</td>\n",
       "      <td>56</td>\n",
       "    </tr>\n",
       "    <tr>\n",
       "      <th>region_4</th>\n",
       "      <td>1271</td>\n",
       "      <td>0</td>\n",
       "      <td>1204</td>\n",
       "    </tr>\n",
       "    <tr>\n",
       "      <th>region_5</th>\n",
       "      <td>838</td>\n",
       "      <td>12</td>\n",
       "      <td>250</td>\n",
       "    </tr>\n",
       "    <tr>\n",
       "      <th>region_6</th>\n",
       "      <td>944</td>\n",
       "      <td>5</td>\n",
       "      <td>21</td>\n",
       "    </tr>\n",
       "    <tr>\n",
       "      <th>region_7</th>\n",
       "      <td>4019</td>\n",
       "      <td>155</td>\n",
       "      <td>2343</td>\n",
       "    </tr>\n",
       "    <tr>\n",
       "      <th>region_8</th>\n",
       "      <td>649</td>\n",
       "      <td>0</td>\n",
       "      <td>259</td>\n",
       "    </tr>\n",
       "    <tr>\n",
       "      <th>region_9</th>\n",
       "      <td>366</td>\n",
       "      <td>0</td>\n",
       "      <td>165</td>\n",
       "    </tr>\n",
       "  </tbody>\n",
       "</table>\n",
       "</div>"
      ],
      "text/plain": [
       "education  Bachelor's  Below Secondary  Master's & above\n",
       "region                                                  \n",
       "region_1          451                1               374\n",
       "region_10         355                0               558\n",
       "region_11        1449                0               406\n",
       "region_12         668                0                42\n",
       "region_13        2483                7              1246\n",
       "region_14         910                3               234\n",
       "region_15        2752                1               921\n",
       "region_16        1528               57               384\n",
       "region_17         826                0               318\n",
       "region_18          51                0                 0\n",
       "region_19        1097                0               170\n",
       "region_2        10320              696              5404\n",
       "region_20         858                0               316\n",
       "region_21         466                1               108\n",
       "region_22        6103              157              2442\n",
       "region_23         951                0               700\n",
       "region_24         576                1               147\n",
       "region_25         711                8               390\n",
       "region_26        2603               21               505\n",
       "region_27        1819               32               410\n",
       "region_28        1005                2               787\n",
       "region_29        1105                2               275\n",
       "region_3          323                0               166\n",
       "region_30         809                2               105\n",
       "region_31        2078                6               562\n",
       "region_32        1175               10                63\n",
       "region_33         297                0                98\n",
       "region_34         391                0                56\n",
       "region_4         1271                0              1204\n",
       "region_5          838               12               250\n",
       "region_6          944                5                21\n",
       "region_7         4019              155              2343\n",
       "region_8          649                0               259\n",
       "region_9          366                0               165"
      ]
     },
     "execution_count": 18,
     "metadata": {},
     "output_type": "execute_result"
    }
   ],
   "source": [
    "# Now we will check whether region has an effect on education\n",
    "# Null hypohthesis: Region has no effect on education\n",
    "# Alternate hypothesis: Region has an effect on education\n",
    "# We will first make a crosstab\n",
    "tbl=pd.crosstab(df.region,df.education)\n",
    "tbl"
   ]
  },
  {
   "cell_type": "code",
   "execution_count": 19,
   "id": "9f2d81f4-a43f-4a82-b274-8ed680efec7e",
   "metadata": {},
   "outputs": [
    {
     "data": {
      "text/plain": [
       "0.0"
      ]
     },
     "execution_count": 19,
     "metadata": {},
     "output_type": "execute_result"
    }
   ],
   "source": [
    "# Statistical test\n",
    "statistic,pvalue,dof,exp=stats.chi2_contingency(tbl)\n",
    "pvalue\n",
    "# Thus we see that our pvalue is again coming out to be zero\n",
    "# So we have to reject our null hypothesis\n",
    "# In conclusion, region has an effect on eductaion"
   ]
  },
  {
   "cell_type": "code",
   "execution_count": 20,
   "id": "ab12293f-7caf-428a-b910-4a5e3a8c3af4",
   "metadata": {},
   "outputs": [
    {
     "data": {
      "text/html": [
       "<div>\n",
       "<style scoped>\n",
       "    .dataframe tbody tr th:only-of-type {\n",
       "        vertical-align: middle;\n",
       "    }\n",
       "\n",
       "    .dataframe tbody tr th {\n",
       "        vertical-align: top;\n",
       "    }\n",
       "\n",
       "    .dataframe thead th {\n",
       "        text-align: right;\n",
       "    }\n",
       "</style>\n",
       "<table border=\"1\" class=\"dataframe\">\n",
       "  <thead>\n",
       "    <tr style=\"text-align: right;\">\n",
       "      <th>education</th>\n",
       "      <th>Bachelor's</th>\n",
       "      <th>Below Secondary</th>\n",
       "      <th>Master's &amp; above</th>\n",
       "    </tr>\n",
       "    <tr>\n",
       "      <th>gender</th>\n",
       "      <th></th>\n",
       "      <th></th>\n",
       "      <th></th>\n",
       "    </tr>\n",
       "  </thead>\n",
       "  <tbody>\n",
       "    <tr>\n",
       "      <th>f</th>\n",
       "      <td>15370</td>\n",
       "      <td>415</td>\n",
       "      <td>6851</td>\n",
       "    </tr>\n",
       "    <tr>\n",
       "      <th>m</th>\n",
       "      <td>36877</td>\n",
       "      <td>764</td>\n",
       "      <td>14578</td>\n",
       "    </tr>\n",
       "  </tbody>\n",
       "</table>\n",
       "</div>"
      ],
      "text/plain": [
       "education  Bachelor's  Below Secondary  Master's & above\n",
       "gender                                                  \n",
       "f               15370              415              6851\n",
       "m               36877              764             14578"
      ]
     },
     "execution_count": 20,
     "metadata": {},
     "output_type": "execute_result"
    }
   ],
   "source": [
    "# Now we will check gender has effect on education\n",
    "# Null hypothesis: gender has no effect on education\n",
    "# Alternate hypothesis: Gender has an effect on eductaion\n",
    "tbl=pd.crosstab(df.gender,df.education) # Required crosstab\n",
    "tbl"
   ]
  },
  {
   "cell_type": "code",
   "execution_count": 21,
   "id": "1e15e343-1036-4d13-897e-129e94349c6d",
   "metadata": {},
   "outputs": [
    {
     "data": {
      "text/plain": [
       "5.939629840753046e-14"
      ]
     },
     "execution_count": 21,
     "metadata": {},
     "output_type": "execute_result"
    }
   ],
   "source": [
    "# Statistical test\n",
    "statistic,pvalue,dof,exp=stats.chi2_contingency(tbl)\n",
    "pvalue\n",
    "# We see that the pvalue is extremely small compared to our significance level\n",
    "# Hence we have to reject our null hypothesis\n",
    "# In conclusion, Gender has effect on eductaion"
   ]
  },
  {
   "cell_type": "code",
   "execution_count": 22,
   "id": "1fceafc8-00c5-42da-baf4-5a0e72944cf2",
   "metadata": {},
   "outputs": [
    {
     "data": {
      "text/html": [
       "<div>\n",
       "<style scoped>\n",
       "    .dataframe tbody tr th:only-of-type {\n",
       "        vertical-align: middle;\n",
       "    }\n",
       "\n",
       "    .dataframe tbody tr th {\n",
       "        vertical-align: top;\n",
       "    }\n",
       "\n",
       "    .dataframe thead th {\n",
       "        text-align: right;\n",
       "    }\n",
       "</style>\n",
       "<table border=\"1\" class=\"dataframe\">\n",
       "  <thead>\n",
       "    <tr style=\"text-align: right;\">\n",
       "      <th>education</th>\n",
       "      <th>Bachelor's</th>\n",
       "      <th>Below Secondary</th>\n",
       "      <th>Master's &amp; above</th>\n",
       "    </tr>\n",
       "    <tr>\n",
       "      <th>recruitment_channel</th>\n",
       "      <th></th>\n",
       "      <th></th>\n",
       "      <th></th>\n",
       "    </tr>\n",
       "  </thead>\n",
       "  <tbody>\n",
       "    <tr>\n",
       "      <th>other</th>\n",
       "      <td>28847</td>\n",
       "      <td>624</td>\n",
       "      <td>12089</td>\n",
       "    </tr>\n",
       "    <tr>\n",
       "      <th>referred</th>\n",
       "      <td>1232</td>\n",
       "      <td>52</td>\n",
       "      <td>298</td>\n",
       "    </tr>\n",
       "    <tr>\n",
       "      <th>sourcing</th>\n",
       "      <td>22168</td>\n",
       "      <td>503</td>\n",
       "      <td>9042</td>\n",
       "    </tr>\n",
       "  </tbody>\n",
       "</table>\n",
       "</div>"
      ],
      "text/plain": [
       "education            Bachelor's  Below Secondary  Master's & above\n",
       "recruitment_channel                                               \n",
       "other                     28847              624             12089\n",
       "referred                   1232               52               298\n",
       "sourcing                  22168              503              9042"
      ]
     },
     "execution_count": 22,
     "metadata": {},
     "output_type": "execute_result"
    }
   ],
   "source": [
    "# Now we will check wether recruitment channel has an effect on eductaion\n",
    "# null hypothesis: Recruitment channel has no effect on eductaion\n",
    "# Alternate hypothesis: recruitment channel has an effect on education\n",
    "tbl=pd.crosstab(df.recruitment_channel,df.education)\n",
    "tbl"
   ]
  },
  {
   "cell_type": "code",
   "execution_count": 23,
   "id": "0bd9256c-5174-435f-a9ad-3151f7f61add",
   "metadata": {},
   "outputs": [
    {
     "data": {
      "text/plain": [
       "2.4640076524406366e-21"
      ]
     },
     "execution_count": 23,
     "metadata": {},
     "output_type": "execute_result"
    }
   ],
   "source": [
    "# statistical test\n",
    "statistic,pvalue,dof,exp=stats.chi2_contingency(tbl)\n",
    "pvalue\n",
    "# Thus we see that the pvalue is extremely small compared to our significance level\n",
    "# Thus we have to reject our null hypothesis\n",
    "# In conclusion, recruitment channel has an effect on education"
   ]
  },
  {
   "cell_type": "code",
   "execution_count": 54,
   "id": "c0a43abb-3f5a-48c1-b41b-c9fb87b97b0f",
   "metadata": {},
   "outputs": [
    {
     "data": {
      "text/html": [
       "<div>\n",
       "<style scoped>\n",
       "    .dataframe tbody tr th:only-of-type {\n",
       "        vertical-align: middle;\n",
       "    }\n",
       "\n",
       "    .dataframe tbody tr th {\n",
       "        vertical-align: top;\n",
       "    }\n",
       "\n",
       "    .dataframe thead th {\n",
       "        text-align: right;\n",
       "    }\n",
       "</style>\n",
       "<table border=\"1\" class=\"dataframe\">\n",
       "  <thead>\n",
       "    <tr style=\"text-align: right;\">\n",
       "      <th></th>\n",
       "      <th>department</th>\n",
       "      <th>region</th>\n",
       "      <th>gender</th>\n",
       "      <th>recruitment_channel</th>\n",
       "      <th>education</th>\n",
       "    </tr>\n",
       "  </thead>\n",
       "  <tbody>\n",
       "    <tr>\n",
       "      <th>0</th>\n",
       "      <td>Analytics</td>\n",
       "      <td>region_1</td>\n",
       "      <td>m</td>\n",
       "      <td>other</td>\n",
       "      <td>Master's &amp; above</td>\n",
       "    </tr>\n",
       "    <tr>\n",
       "      <th>1</th>\n",
       "      <td>Analytics</td>\n",
       "      <td>region_1</td>\n",
       "      <td>m</td>\n",
       "      <td>sourcing</td>\n",
       "      <td>Master's &amp; above</td>\n",
       "    </tr>\n",
       "    <tr>\n",
       "      <th>2</th>\n",
       "      <td>Analytics</td>\n",
       "      <td>region_10</td>\n",
       "      <td>m</td>\n",
       "      <td>other</td>\n",
       "      <td>Master's &amp; above</td>\n",
       "    </tr>\n",
       "    <tr>\n",
       "      <th>3</th>\n",
       "      <td>Analytics</td>\n",
       "      <td>region_10</td>\n",
       "      <td>m</td>\n",
       "      <td>sourcing</td>\n",
       "      <td>Master's &amp; above</td>\n",
       "    </tr>\n",
       "    <tr>\n",
       "      <th>4</th>\n",
       "      <td>Analytics</td>\n",
       "      <td>region_11</td>\n",
       "      <td>f</td>\n",
       "      <td>other</td>\n",
       "      <td>Bachelor's</td>\n",
       "    </tr>\n",
       "    <tr>\n",
       "      <th>...</th>\n",
       "      <td>...</td>\n",
       "      <td>...</td>\n",
       "      <td>...</td>\n",
       "      <td>...</td>\n",
       "      <td>...</td>\n",
       "    </tr>\n",
       "    <tr>\n",
       "      <th>1055</th>\n",
       "      <td>Technology</td>\n",
       "      <td>region_8</td>\n",
       "      <td>m</td>\n",
       "      <td>sourcing</td>\n",
       "      <td>Bachelor's</td>\n",
       "    </tr>\n",
       "    <tr>\n",
       "      <th>1056</th>\n",
       "      <td>Technology</td>\n",
       "      <td>region_9</td>\n",
       "      <td>f</td>\n",
       "      <td>other</td>\n",
       "      <td>Bachelor's</td>\n",
       "    </tr>\n",
       "    <tr>\n",
       "      <th>1057</th>\n",
       "      <td>Technology</td>\n",
       "      <td>region_9</td>\n",
       "      <td>f</td>\n",
       "      <td>sourcing</td>\n",
       "      <td>Bachelor's</td>\n",
       "    </tr>\n",
       "    <tr>\n",
       "      <th>1058</th>\n",
       "      <td>Technology</td>\n",
       "      <td>region_9</td>\n",
       "      <td>m</td>\n",
       "      <td>other</td>\n",
       "      <td>Bachelor's</td>\n",
       "    </tr>\n",
       "    <tr>\n",
       "      <th>1059</th>\n",
       "      <td>Technology</td>\n",
       "      <td>region_9</td>\n",
       "      <td>m</td>\n",
       "      <td>sourcing</td>\n",
       "      <td>Bachelor's</td>\n",
       "    </tr>\n",
       "  </tbody>\n",
       "</table>\n",
       "<p>1060 rows × 5 columns</p>\n",
       "</div>"
      ],
      "text/plain": [
       "      department     region gender recruitment_channel         education\n",
       "0      Analytics   region_1      m               other  Master's & above\n",
       "1      Analytics   region_1      m            sourcing  Master's & above\n",
       "2      Analytics  region_10      m               other  Master's & above\n",
       "3      Analytics  region_10      m            sourcing  Master's & above\n",
       "4      Analytics  region_11      f               other        Bachelor's\n",
       "...          ...        ...    ...                 ...               ...\n",
       "1055  Technology   region_8      m            sourcing        Bachelor's\n",
       "1056  Technology   region_9      f               other        Bachelor's\n",
       "1057  Technology   region_9      f            sourcing        Bachelor's\n",
       "1058  Technology   region_9      m               other        Bachelor's\n",
       "1059  Technology   region_9      m            sourcing        Bachelor's\n",
       "\n",
       "[1060 rows x 5 columns]"
      ]
     },
     "execution_count": 55,
     "metadata": {},
     "output_type": "execute_result"
    }
   ],
   "source": [
    "# For now we will education column on the basis of these four columns:\n",
    "# department,region,gender, and recruitment channel\n",
    "# For that we would first find the groupwise mode\n",
    "df3=pd.DataFrame(df.groupby(['department','region','gender','recruitment_channel'])['education'].agg(lambda x : x.value_counts().index[0])).reset\n",
    "df3"
   ]
  },
  {
   "cell_type": "code",
   "execution_count": 25,
   "id": "850eddeb-a096-4fdf-8b7c-7466898be38a",
   "metadata": {},
   "outputs": [],
   "source": [
    "# Now we will fill the education column with groupwise mode imputation\n",
    "for a,b,c,d,e in zip(df3.department,df3.region,df3.gender,df3.recruitment_channel,df3.education):\n",
    "    df.loc[(df.department==a) & (df.region==b) & (df.gender==c) & (df.recruitment_channel==d) & (df.education.isnull()),'education']=e"
   ]
  },
  {
   "cell_type": "code",
   "execution_count": 26,
   "id": "79ff6294-0118-48ed-88e5-3a7957b79b6b",
   "metadata": {},
   "outputs": [
    {
     "data": {
      "text/plain": [
       "employee_id                 0\n",
       "department                  0\n",
       "region                      0\n",
       "education                   0\n",
       "gender                      0\n",
       "recruitment_channel         0\n",
       "no_of_trainings             0\n",
       "age                         0\n",
       "previous_year_rating     5936\n",
       "length_of_service           0\n",
       "KPIs_met >80%               0\n",
       "awards_won?                 0\n",
       "avg_training_score          0\n",
       "is_promoted             23490\n",
       "dtype: int64"
      ]
     },
     "execution_count": 26,
     "metadata": {},
     "output_type": "execute_result"
    }
   ],
   "source": [
    "df.isnull().sum()\n",
    "# We see that the education column is now filled"
   ]
  },
  {
   "cell_type": "code",
   "execution_count": 27,
   "id": "93acadf2-a657-489d-8f3c-42b3fa58173d",
   "metadata": {},
   "outputs": [
    {
     "data": {
      "text/html": [
       "<div>\n",
       "<style scoped>\n",
       "    .dataframe tbody tr th:only-of-type {\n",
       "        vertical-align: middle;\n",
       "    }\n",
       "\n",
       "    .dataframe tbody tr th {\n",
       "        vertical-align: top;\n",
       "    }\n",
       "\n",
       "    .dataframe thead th {\n",
       "        text-align: right;\n",
       "    }\n",
       "</style>\n",
       "<table border=\"1\" class=\"dataframe\">\n",
       "  <thead>\n",
       "    <tr style=\"text-align: right;\">\n",
       "      <th></th>\n",
       "      <th>employee_id</th>\n",
       "      <th>department</th>\n",
       "      <th>region</th>\n",
       "      <th>education</th>\n",
       "      <th>gender</th>\n",
       "      <th>recruitment_channel</th>\n",
       "      <th>no_of_trainings</th>\n",
       "      <th>age</th>\n",
       "      <th>previous_year_rating</th>\n",
       "      <th>length_of_service</th>\n",
       "      <th>KPIs_met &gt;80%</th>\n",
       "      <th>awards_won?</th>\n",
       "      <th>avg_training_score</th>\n",
       "      <th>is_promoted</th>\n",
       "    </tr>\n",
       "  </thead>\n",
       "  <tbody>\n",
       "    <tr>\n",
       "      <th>10</th>\n",
       "      <td>29934</td>\n",
       "      <td>Technology</td>\n",
       "      <td>region_23</td>\n",
       "      <td>Bachelor's</td>\n",
       "      <td>m</td>\n",
       "      <td>sourcing</td>\n",
       "      <td>1</td>\n",
       "      <td>30</td>\n",
       "      <td>NaN</td>\n",
       "      <td>1</td>\n",
       "      <td>0</td>\n",
       "      <td>0</td>\n",
       "      <td>77</td>\n",
       "      <td>0.0</td>\n",
       "    </tr>\n",
       "    <tr>\n",
       "      <th>23</th>\n",
       "      <td>71177</td>\n",
       "      <td>Procurement</td>\n",
       "      <td>region_5</td>\n",
       "      <td>Bachelor's</td>\n",
       "      <td>m</td>\n",
       "      <td>other</td>\n",
       "      <td>1</td>\n",
       "      <td>27</td>\n",
       "      <td>NaN</td>\n",
       "      <td>1</td>\n",
       "      <td>0</td>\n",
       "      <td>0</td>\n",
       "      <td>70</td>\n",
       "      <td>0.0</td>\n",
       "    </tr>\n",
       "    <tr>\n",
       "      <th>29</th>\n",
       "      <td>74759</td>\n",
       "      <td>Sales &amp; Marketing</td>\n",
       "      <td>region_4</td>\n",
       "      <td>Bachelor's</td>\n",
       "      <td>m</td>\n",
       "      <td>sourcing</td>\n",
       "      <td>1</td>\n",
       "      <td>26</td>\n",
       "      <td>NaN</td>\n",
       "      <td>1</td>\n",
       "      <td>0</td>\n",
       "      <td>0</td>\n",
       "      <td>44</td>\n",
       "      <td>0.0</td>\n",
       "    </tr>\n",
       "    <tr>\n",
       "      <th>56</th>\n",
       "      <td>45709</td>\n",
       "      <td>Sales &amp; Marketing</td>\n",
       "      <td>region_31</td>\n",
       "      <td>Bachelor's</td>\n",
       "      <td>f</td>\n",
       "      <td>other</td>\n",
       "      <td>1</td>\n",
       "      <td>29</td>\n",
       "      <td>NaN</td>\n",
       "      <td>1</td>\n",
       "      <td>0</td>\n",
       "      <td>0</td>\n",
       "      <td>49</td>\n",
       "      <td>0.0</td>\n",
       "    </tr>\n",
       "    <tr>\n",
       "      <th>58</th>\n",
       "      <td>26599</td>\n",
       "      <td>Sales &amp; Marketing</td>\n",
       "      <td>region_16</td>\n",
       "      <td>Bachelor's</td>\n",
       "      <td>m</td>\n",
       "      <td>other</td>\n",
       "      <td>2</td>\n",
       "      <td>27</td>\n",
       "      <td>NaN</td>\n",
       "      <td>1</td>\n",
       "      <td>1</td>\n",
       "      <td>0</td>\n",
       "      <td>47</td>\n",
       "      <td>0.0</td>\n",
       "    </tr>\n",
       "    <tr>\n",
       "      <th>...</th>\n",
       "      <td>...</td>\n",
       "      <td>...</td>\n",
       "      <td>...</td>\n",
       "      <td>...</td>\n",
       "      <td>...</td>\n",
       "      <td>...</td>\n",
       "      <td>...</td>\n",
       "      <td>...</td>\n",
       "      <td>...</td>\n",
       "      <td>...</td>\n",
       "      <td>...</td>\n",
       "      <td>...</td>\n",
       "      <td>...</td>\n",
       "      <td>...</td>\n",
       "    </tr>\n",
       "    <tr>\n",
       "      <th>78214</th>\n",
       "      <td>53291</td>\n",
       "      <td>Operations</td>\n",
       "      <td>region_4</td>\n",
       "      <td>Bachelor's</td>\n",
       "      <td>m</td>\n",
       "      <td>sourcing</td>\n",
       "      <td>1</td>\n",
       "      <td>32</td>\n",
       "      <td>NaN</td>\n",
       "      <td>1</td>\n",
       "      <td>1</td>\n",
       "      <td>0</td>\n",
       "      <td>62</td>\n",
       "      <td>NaN</td>\n",
       "    </tr>\n",
       "    <tr>\n",
       "      <th>78244</th>\n",
       "      <td>10138</td>\n",
       "      <td>Technology</td>\n",
       "      <td>region_2</td>\n",
       "      <td>Bachelor's</td>\n",
       "      <td>f</td>\n",
       "      <td>referred</td>\n",
       "      <td>1</td>\n",
       "      <td>29</td>\n",
       "      <td>NaN</td>\n",
       "      <td>1</td>\n",
       "      <td>0</td>\n",
       "      <td>0</td>\n",
       "      <td>79</td>\n",
       "      <td>NaN</td>\n",
       "    </tr>\n",
       "    <tr>\n",
       "      <th>78253</th>\n",
       "      <td>65765</td>\n",
       "      <td>Analytics</td>\n",
       "      <td>region_31</td>\n",
       "      <td>Bachelor's</td>\n",
       "      <td>m</td>\n",
       "      <td>sourcing</td>\n",
       "      <td>3</td>\n",
       "      <td>28</td>\n",
       "      <td>NaN</td>\n",
       "      <td>1</td>\n",
       "      <td>0</td>\n",
       "      <td>0</td>\n",
       "      <td>86</td>\n",
       "      <td>NaN</td>\n",
       "    </tr>\n",
       "    <tr>\n",
       "      <th>78287</th>\n",
       "      <td>39410</td>\n",
       "      <td>Sales &amp; Marketing</td>\n",
       "      <td>region_2</td>\n",
       "      <td>Bachelor's</td>\n",
       "      <td>m</td>\n",
       "      <td>other</td>\n",
       "      <td>3</td>\n",
       "      <td>20</td>\n",
       "      <td>NaN</td>\n",
       "      <td>1</td>\n",
       "      <td>0</td>\n",
       "      <td>0</td>\n",
       "      <td>49</td>\n",
       "      <td>NaN</td>\n",
       "    </tr>\n",
       "    <tr>\n",
       "      <th>78296</th>\n",
       "      <td>1186</td>\n",
       "      <td>Procurement</td>\n",
       "      <td>region_31</td>\n",
       "      <td>Bachelor's</td>\n",
       "      <td>m</td>\n",
       "      <td>sourcing</td>\n",
       "      <td>3</td>\n",
       "      <td>27</td>\n",
       "      <td>NaN</td>\n",
       "      <td>1</td>\n",
       "      <td>0</td>\n",
       "      <td>0</td>\n",
       "      <td>70</td>\n",
       "      <td>NaN</td>\n",
       "    </tr>\n",
       "  </tbody>\n",
       "</table>\n",
       "<p>5936 rows × 14 columns</p>\n",
       "</div>"
      ],
      "text/plain": [
       "       employee_id         department     region   education gender  \\\n",
       "10           29934         Technology  region_23  Bachelor's      m   \n",
       "23           71177        Procurement   region_5  Bachelor's      m   \n",
       "29           74759  Sales & Marketing   region_4  Bachelor's      m   \n",
       "56           45709  Sales & Marketing  region_31  Bachelor's      f   \n",
       "58           26599  Sales & Marketing  region_16  Bachelor's      m   \n",
       "...            ...                ...        ...         ...    ...   \n",
       "78214        53291         Operations   region_4  Bachelor's      m   \n",
       "78244        10138         Technology   region_2  Bachelor's      f   \n",
       "78253        65765          Analytics  region_31  Bachelor's      m   \n",
       "78287        39410  Sales & Marketing   region_2  Bachelor's      m   \n",
       "78296         1186        Procurement  region_31  Bachelor's      m   \n",
       "\n",
       "      recruitment_channel  no_of_trainings  age  previous_year_rating  \\\n",
       "10               sourcing                1   30                   NaN   \n",
       "23                  other                1   27                   NaN   \n",
       "29               sourcing                1   26                   NaN   \n",
       "56                  other                1   29                   NaN   \n",
       "58                  other                2   27                   NaN   \n",
       "...                   ...              ...  ...                   ...   \n",
       "78214            sourcing                1   32                   NaN   \n",
       "78244            referred                1   29                   NaN   \n",
       "78253            sourcing                3   28                   NaN   \n",
       "78287               other                3   20                   NaN   \n",
       "78296            sourcing                3   27                   NaN   \n",
       "\n",
       "       length_of_service  KPIs_met >80%  awards_won?  avg_training_score  \\\n",
       "10                     1              0            0                  77   \n",
       "23                     1              0            0                  70   \n",
       "29                     1              0            0                  44   \n",
       "56                     1              0            0                  49   \n",
       "58                     1              1            0                  47   \n",
       "...                  ...            ...          ...                 ...   \n",
       "78214                  1              1            0                  62   \n",
       "78244                  1              0            0                  79   \n",
       "78253                  1              0            0                  86   \n",
       "78287                  1              0            0                  49   \n",
       "78296                  1              0            0                  70   \n",
       "\n",
       "       is_promoted  \n",
       "10             0.0  \n",
       "23             0.0  \n",
       "29             0.0  \n",
       "56             0.0  \n",
       "58             0.0  \n",
       "...            ...  \n",
       "78214          NaN  \n",
       "78244          NaN  \n",
       "78253          NaN  \n",
       "78287          NaN  \n",
       "78296          NaN  \n",
       "\n",
       "[5936 rows x 14 columns]"
      ]
     },
     "execution_count": 27,
     "metadata": {},
     "output_type": "execute_result"
    }
   ],
   "source": [
    "# Now we will check the previous year rating\n",
    "df.loc[df.previous_year_rating.isnull(),:]"
   ]
  },
  {
   "cell_type": "code",
   "execution_count": 28,
   "id": "a250195b-9ab6-4004-86db-b9334a6e7926",
   "metadata": {},
   "outputs": [
    {
     "data": {
      "text/plain": [
       "1    5936\n",
       "Name: length_of_service, dtype: int64"
      ]
     },
     "execution_count": 28,
     "metadata": {},
     "output_type": "execute_result"
    }
   ],
   "source": [
    "# We have an intution that length_of_service column has values as 1 where previous year rating is null\n",
    "# Let us check that\n",
    "df.loc[df.previous_year_rating.isnull(),'length_of_service'].value_counts()"
   ]
  },
  {
   "cell_type": "code",
   "execution_count": 29,
   "id": "f82ce164-22b7-4a88-8538-e82c26b6f5ba",
   "metadata": {},
   "outputs": [],
   "source": [
    "# We see that length of service column only has value 1 where previous year rating is null\n",
    "# So we will impute 0 in the null values for previous_year rating\n",
    "df.previous_year_rating.fillna(0.0,inplace=True)"
   ]
  },
  {
   "cell_type": "code",
   "execution_count": 30,
   "id": "3dcb7b7f-0a93-4dd4-a28c-1f5861168991",
   "metadata": {},
   "outputs": [
    {
     "data": {
      "text/plain": [
       "employee_id                 0\n",
       "department                  0\n",
       "region                      0\n",
       "education                   0\n",
       "gender                      0\n",
       "recruitment_channel         0\n",
       "no_of_trainings             0\n",
       "age                         0\n",
       "previous_year_rating        0\n",
       "length_of_service           0\n",
       "KPIs_met >80%               0\n",
       "awards_won?                 0\n",
       "avg_training_score          0\n",
       "is_promoted             23490\n",
       "dtype: int64"
      ]
     },
     "execution_count": 30,
     "metadata": {},
     "output_type": "execute_result"
    }
   ],
   "source": [
    "df.isnull().sum()\n",
    "# All missing values are now filled"
   ]
  },
  {
   "cell_type": "code",
   "execution_count": 31,
   "id": "9e397475-138c-4da1-976e-8fb03076d22b",
   "metadata": {},
   "outputs": [],
   "source": [
    "# Dropping the redundant columns employee_id\n",
    "df.drop(columns='employee_id',inplace=True)"
   ]
  },
  {
   "cell_type": "code",
   "execution_count": 32,
   "id": "0dbe628d-6060-4aad-8c24-f240df4c605d",
   "metadata": {},
   "outputs": [
    {
     "name": "stdout",
     "output_type": "stream",
     "text": [
      "<class 'pandas.core.frame.DataFrame'>\n",
      "RangeIndex: 78298 entries, 0 to 78297\n",
      "Data columns (total 13 columns):\n",
      " #   Column                Non-Null Count  Dtype  \n",
      "---  ------                --------------  -----  \n",
      " 0   department            78298 non-null  object \n",
      " 1   region                78298 non-null  object \n",
      " 2   education             78298 non-null  object \n",
      " 3   gender                78298 non-null  object \n",
      " 4   recruitment_channel   78298 non-null  object \n",
      " 5   no_of_trainings       78298 non-null  int64  \n",
      " 6   age                   78298 non-null  int64  \n",
      " 7   previous_year_rating  78298 non-null  float64\n",
      " 8   length_of_service     78298 non-null  int64  \n",
      " 9   KPIs_met >80%         78298 non-null  int64  \n",
      " 10  awards_won?           78298 non-null  int64  \n",
      " 11  avg_training_score    78298 non-null  int64  \n",
      " 12  is_promoted           54808 non-null  float64\n",
      "dtypes: float64(2), int64(6), object(5)\n",
      "memory usage: 7.8+ MB\n"
     ]
    }
   ],
   "source": [
    "df.info()"
   ]
  },
  {
   "cell_type": "code",
   "execution_count": 33,
   "id": "0d9904f8-d1e0-4624-834f-46cf9d118aee",
   "metadata": {},
   "outputs": [],
   "source": [
    "# We see that some of the columns don't have the correct datatype\n",
    "# so we would have to change the datatype for these columns\n",
    "df['KPIs_met >80%']=df['KPIs_met >80%'].astype('object')\n",
    "df['awards_won?']=df['awards_won?'].astype('object')"
   ]
  },
  {
   "cell_type": "code",
   "execution_count": 34,
   "id": "28ca7f51-b159-48b7-a81b-a405d3b4d810",
   "metadata": {},
   "outputs": [
    {
     "name": "stdout",
     "output_type": "stream",
     "text": [
      "<class 'pandas.core.frame.DataFrame'>\n",
      "RangeIndex: 78298 entries, 0 to 78297\n",
      "Data columns (total 13 columns):\n",
      " #   Column                Non-Null Count  Dtype  \n",
      "---  ------                --------------  -----  \n",
      " 0   department            78298 non-null  object \n",
      " 1   region                78298 non-null  object \n",
      " 2   education             78298 non-null  object \n",
      " 3   gender                78298 non-null  object \n",
      " 4   recruitment_channel   78298 non-null  object \n",
      " 5   no_of_trainings       78298 non-null  int64  \n",
      " 6   age                   78298 non-null  int64  \n",
      " 7   previous_year_rating  78298 non-null  float64\n",
      " 8   length_of_service     78298 non-null  int64  \n",
      " 9   KPIs_met >80%         78298 non-null  object \n",
      " 10  awards_won?           78298 non-null  object \n",
      " 11  avg_training_score    78298 non-null  int64  \n",
      " 12  is_promoted           54808 non-null  float64\n",
      "dtypes: float64(2), int64(4), object(7)\n",
      "memory usage: 7.8+ MB\n"
     ]
    }
   ],
   "source": [
    "df.info()"
   ]
  },
  {
   "cell_type": "code",
   "execution_count": 35,
   "id": "2edee199-c318-4155-a997-9360f004bde2",
   "metadata": {},
   "outputs": [],
   "source": [
    "# The columns now have the correct datatypes"
   ]
  },
  {
   "cell_type": "markdown",
   "id": "a173c739-9ef1-4cfd-9533-ddb3e2604032",
   "metadata": {},
   "source": [
    "# Univariate Analysis"
   ]
  },
  {
   "cell_type": "code",
   "execution_count": 90,
   "id": "dc8155d9-595d-40be-bcf8-fb922b11f83c",
   "metadata": {},
   "outputs": [
    {
     "data": {
      "text/plain": [
       "Index(['no_of_trainings', 'age', 'previous_year_rating', 'length_of_service',\n",
       "       'avg_training_score'],\n",
       "      dtype='object')"
      ]
     },
     "execution_count": 90,
     "metadata": {},
     "output_type": "execute_result"
    }
   ],
   "source": [
    "# Taking all the numerical columns first\n",
    "df.select_dtypes(np.number).drop(columns='is_promoted').columns"
   ]
  },
  {
   "cell_type": "code",
   "execution_count": 92,
   "id": "cc2bbffd-8f8c-4771-98a1-4ed3213218de",
   "metadata": {},
   "outputs": [],
   "source": [
    "nums=['no_of_trainings', 'age', 'previous_year_rating', 'length_of_service',\n",
    "       'avg_training_score'] # All the numerical columns"
   ]
  },
  {
   "cell_type": "code",
   "execution_count": 93,
   "id": "f8ce991c-b2d8-494d-bf5a-dd735f460031",
   "metadata": {},
   "outputs": [
    {
     "data": {
      "text/plain": [
       "5"
      ]
     },
     "execution_count": 93,
     "metadata": {},
     "output_type": "execute_result"
    }
   ],
   "source": [
    "# Checking the number of graphs to be made\n",
    "len(nums)"
   ]
  },
  {
   "cell_type": "code",
   "execution_count": 94,
   "id": "4b31c097-7068-4d45-92ae-567e82bc3383",
   "metadata": {},
   "outputs": [
    {
     "data": {
      "image/png": "[encoded data removed]",
      "text/plain": [
       "<Figure size 720x576 with 5 Axes>"
      ]
     },
     "metadata": {
      "needs_background": "light"
     },
     "output_type": "display_data"
    }
   ],
   "source": [
    "# Making multiple distplot\n",
    "rows=3\n",
    "cols=2\n",
    "counter=1\n",
    "plt.rcParams['figure.figsize']=[10,8]\n",
    "for i in nums:\n",
    "    plt.subplot(rows,cols,counter)\n",
    "    sns.distplot(df[i])\n",
    "    counter+=1\n",
    "plt.tight_layout()\n",
    "plt.show()"
   ]
  },
  {
   "cell_type": "code",
   "execution_count": 96,
   "id": "06319e0e-3350-43f0-8612-576a3ec2b2b9",
   "metadata": {},
   "outputs": [
    {
     "data": {
      "text/plain": [
       "Index(['department', 'region', 'education', 'gender', 'recruitment_channel',\n",
       "       'KPIs_met >80%', 'awards_won?'],\n",
       "      dtype='object')"
      ]
     },
     "execution_count": 96,
     "metadata": {},
     "output_type": "execute_result"
    }
   ],
   "source": [
    "# Taking all the categorical columns\n",
    "df.select_dtypes(object).columns"
   ]
  },
  {
   "cell_type": "code",
   "execution_count": 97,
   "id": "885b3481-789f-4a8a-a265-c6eda4a46f75",
   "metadata": {},
   "outputs": [],
   "source": [
    "cats=['department', 'region', 'education', 'gender', 'recruitment_channel',\n",
    "       'KPIs_met >80%', 'awards_won?'] # All the categorical columns"
   ]
  },
  {
   "cell_type": "code",
   "execution_count": 98,
   "id": "2ec604e7-0cea-491f-be59-d087a2175151",
   "metadata": {},
   "outputs": [
    {
     "data": {
      "text/plain": [
       "7"
      ]
     },
     "execution_count": 98,
     "metadata": {},
     "output_type": "execute_result"
    }
   ],
   "source": [
    "# Checking the number of graphs to be made\n",
    "len(cats)"
   ]
  },
  {
   "cell_type": "code",
   "execution_count": 103,
   "id": "5bac8396-7598-47c8-880e-b3b1df284119",
   "metadata": {},
   "outputs": [
    {
     "data": {
      "image/png": "[encoded data removed]",
      "text/plain": [
       "<Figure size 1080x1080 with 7 Axes>"
      ]
     },
     "metadata": {
      "needs_background": "light"
     },
     "output_type": "display_data"
    }
   ],
   "source": [
    "# Making multiple countplots\n",
    "rows=4\n",
    "cols=2\n",
    "counter=1\n",
    "plt.rcParams['figure.figsize']=[15,15]\n",
    "for i in cats:\n",
    "    plt.subplot(rows,cols,counter)\n",
    "    sns.countplot(df[i])\n",
    "    plt.xticks(rotation=60,ha='right')\n",
    "    counter+=1\n",
    "plt.tight_layout()\n",
    "plt.show()"
   ]
  },
  {
   "cell_type": "code",
   "execution_count": 106,
   "id": "809b18bc-5077-48c7-b6d1-4a9fa614d319",
   "metadata": {},
   "outputs": [
    {
     "data": {
      "image/png": "[encoded data removed]",
      "text/plain": [
       "<Figure size 576x360 with 1 Axes>"
      ]
     },
     "metadata": {
      "needs_background": "light"
     },
     "output_type": "display_data"
    }
   ],
   "source": [
    "# Making a countplot seperately for the target variable\n",
    "plt.rcParams['figure.figsize']=[8,5]\n",
    "sns.countplot(df.is_promoted)\n",
    "plt.show()"
   ]
  },
  {
   "cell_type": "markdown",
   "id": "5c08ce6f-0fdf-455e-babc-7ed2d4d8eec6",
   "metadata": {},
   "source": [
    "## Insights from the univariate analysis\n",
    "\n",
    "* No of trainings seems to be multimodel and then highly right skewed\\\n",
    "* Age seems to be slitghly positively skewed\n",
    "* Previous year rating is multimodal in nature\n",
    "* Length of service is highly positively skewed\n",
    "* Average training score seemed to be nearly normally distributed but multimodal in nature\n",
    "* Sales and marketing has the most number of employees out of all departments\n",
    "* region 2 has the most number of employees\n",
    "* Bachelor's degree is the most common educational degree present\n",
    "* There are more number of males working than females\n",
    "* Recruitment channel is most promimnent in the 'others' category\n",
    "* Recruitment through referral is quite rare compared to sourcing\n",
    "* Less than half of the people are able to meet the 'KPIs met> 80%' criteria\n",
    "* Only a handful of people have won awards"
   ]
  },
  {
   "cell_type": "markdown",
   "id": "b9ce1fe7-8a5a-4110-92ec-662b5478db2a",
   "metadata": {},
   "source": [
    "# Bivariate Analysis"
   ]
  },
  {
   "cell_type": "code",
   "execution_count": 109,
   "id": "4305b914-42b2-4072-890e-085927f0ff53",
   "metadata": {},
   "outputs": [
    {
     "data": {
      "text/plain": [
       "Index(['no_of_trainings', 'age', 'previous_year_rating', 'length_of_service',\n",
       "       'avg_training_score'],\n",
       "      dtype='object')"
      ]
     },
     "execution_count": 109,
     "metadata": {},
     "output_type": "execute_result"
    }
   ],
   "source": [
    "# First we will take all the numerical columns\n",
    "df.select_dtypes(np.number).drop(columns='is_promoted').columns"
   ]
  },
  {
   "cell_type": "code",
   "execution_count": 110,
   "id": "261dad86-68c5-4dba-b36c-c5992d52598d",
   "metadata": {},
   "outputs": [],
   "source": [
    "nums=['no_of_trainings', 'age', 'previous_year_rating', 'length_of_service',\n",
    "       'avg_training_score'] # All the numerical columns"
   ]
  },
  {
   "cell_type": "code",
   "execution_count": 111,
   "id": "38a6a91c-3b9e-4129-950f-cc98dd855c77",
   "metadata": {},
   "outputs": [
    {
     "data": {
      "text/plain": [
       "5"
      ]
     },
     "execution_count": 111,
     "metadata": {},
     "output_type": "execute_result"
    }
   ],
   "source": [
    "# Checking the number of graphs to be made\n",
    "len(nums)"
   ]
  },
  {
   "cell_type": "code",
   "execution_count": 112,
   "id": "bff68ac1-0001-4818-9e59-eae546b66561",
   "metadata": {},
   "outputs": [
    {
     "data": {
      "image/png": "[encoded data removed]",
      "text/plain": [
       "<Figure size 720x576 with 5 Axes>"
      ]
     },
     "metadata": {
      "needs_background": "light"
     },
     "output_type": "display_data"
    }
   ],
   "source": [
    "# Making multiple boxplots\n",
    "rows=3\n",
    "cols=2\n",
    "counter=1\n",
    "plt.rcParams['figure.figsize']=[10,8]\n",
    "for i in nums:\n",
    "    plt.subplot(rows,cols,counter)\n",
    "    sns.boxplot(df.is_promoted,df[i])\n",
    "    counter+=1\n",
    "plt.tight_layout()\n",
    "plt.show()"
   ]
  },
  {
   "cell_type": "code",
   "execution_count": 114,
   "id": "87e56b53-7943-4824-9913-decf43cab0ce",
   "metadata": {},
   "outputs": [
    {
     "data": {
      "text/plain": [
       "Index(['department', 'region', 'education', 'gender', 'recruitment_channel',\n",
       "       'KPIs_met >80%', 'awards_won?'],\n",
       "      dtype='object')"
      ]
     },
     "execution_count": 114,
     "metadata": {},
     "output_type": "execute_result"
    }
   ],
   "source": [
    "# taking all the categorical columns\n",
    "df.select_dtypes(object).columns"
   ]
  },
  {
   "cell_type": "code",
   "execution_count": 115,
   "id": "f6ba0bb6-7c43-4f3e-8c96-abdf1b442fee",
   "metadata": {},
   "outputs": [],
   "source": [
    "cats=['department', 'region', 'education', 'gender', 'recruitment_channel',\n",
    "       'KPIs_met >80%', 'awards_won?'] # All the categorical columns"
   ]
  },
  {
   "cell_type": "code",
   "execution_count": 120,
   "id": "aab3d226-98e4-4d41-b5c3-656b90da61f8",
   "metadata": {},
   "outputs": [
    {
     "data": {
      "image/png": "[encoded data removed]",
      "text/plain": [
       "<Figure size 576x576 with 1 Axes>"
      ]
     },
     "metadata": {
      "needs_background": "light"
     },
     "output_type": "display_data"
    },
    {
     "data": {
      "image/png": "[encoded data removed]",
      "text/plain": [
       "<Figure size 576x576 with 1 Axes>"
      ]
     },
     "metadata": {
      "needs_background": "light"
     },
     "output_type": "display_data"
    },
    {
     "data": {
      "image/png": "[encoded data removed]",
      "text/plain": [
       "<Figure size 576x576 with 1 Axes>"
      ]
     },
     "metadata": {
      "needs_background": "light"
     },
     "output_type": "display_data"
    },
    {
     "data": {
      "image/png": "[encoded data removed]",
      "text/plain": [
       "<Figure size 576x576 with 1 Axes>"
      ]
     },
     "metadata": {
      "needs_background": "light"
     },
     "output_type": "display_data"
    },
    {
     "data": {
      "image/png": "[encoded data removed]",
      "text/plain": [
       "<Figure size 576x576 with 1 Axes>"
      ]
     },
     "metadata": {
      "needs_background": "light"
     },
     "output_type": "display_data"
    },
    {
     "data": {
      "image/png": "[encoded data removed]",
      "text/plain": [
       "<Figure size 576x576 with 1 Axes>"
      ]
     },
     "metadata": {
      "needs_background": "light"
     },
     "output_type": "display_data"
    },
    {
     "data": {
      "image/png": "[encoded data removed]",
      "text/plain": [
       "<Figure size 576x576 with 1 Axes>"
      ]
     },
     "metadata": {
      "needs_background": "light"
     },
     "output_type": "display_data"
    }
   ],
   "source": [
    "# Making multiple crosstabs and bar plots for the same\n",
    "plt.rcParams['figure.figsize']=[8,8]\n",
    "for i in cats:\n",
    "    pd.crosstab(df[i],df.is_promoted).plot.bar()\n",
    "    plt.xticks(rotation=60,ha='right')"
   ]
  },
  {
   "cell_type": "markdown",
   "id": "74ff1bbc-9175-4153-b800-fc2c0e68af52",
   "metadata": {},
   "source": [
    "## Insights from the bivariate analysis\n",
    "\n",
    "* no. of trainings for people that are not promoted seems to be higher than people who are promoted\n",
    "* The age group for most the employees(promoted and not promoted seems to be between 20 and 40)\n",
    "* People who are promoted seem to be having a higher previous year rating\n",
    "* Length of service seems to higher for people who are non-promoted\n",
    "* On average, people who are promoted have a higher average training score\n",
    "* The departments of sales & marketing, and operations have the most promoted people\n",
    "* People from region 2 seem to have the highest chance of promotion\n",
    "* People with bachelor's degree and master's and above have a higher chance of promotion\n",
    "* Males seem to have a higher chance of promotion\n",
    "* Other and sourcing recruitment channel seem to guve a better chance of promotion\n",
    "* People who meet their KPI criteria have a better chance of promotion\n",
    "* People who do not win awards have lesser chance of promotion"
   ]
  },
  {
   "cell_type": "markdown",
   "id": "af1a23a1-91cf-4ebc-ae9b-161fb71838e6",
   "metadata": {},
   "source": [
    "# Model Bulding"
   ]
  },
  {
   "cell_type": "code",
   "execution_count": 163,
   "id": "38c8d59a-124b-4cf5-a0aa-8cbb2ba5ed53",
   "metadata": {},
   "outputs": [],
   "source": [
    "df_train=df.iloc[:54808]\n",
    "df_test=df.iloc[54808:].drop(columns='is_promoted')"
   ]
  },
  {
   "cell_type": "code",
   "execution_count": 164,
   "id": "b9ab0627-7a33-42af-b17b-28b7fce7eb67",
   "metadata": {},
   "outputs": [],
   "source": [
    "x_train=df_train.drop(columns='is_promoted')\n",
    "y_train=df_train.is_promoted"
   ]
  },
  {
   "cell_type": "code",
   "execution_count": 165,
   "id": "a3d382cf-6af3-4597-9978-66db84a0edf2",
   "metadata": {},
   "outputs": [],
   "source": [
    "x_test=df_test"
   ]
  },
  {
   "cell_type": "code",
   "execution_count": 166,
   "id": "b8feb5d1-c827-47e8-8e0e-2616f717aa7e",
   "metadata": {},
   "outputs": [],
   "source": [
    "final_x_train=pd.get_dummies(x_train,drop_first=True)\n",
    "final_x_test=pd.get_dummies(x_test,drop_first=True)"
   ]
  },
  {
   "cell_type": "code",
   "execution_count": 174,
   "id": "ac2bbb6b-6794-4c90-803a-f3ab3154a51c",
   "metadata": {},
   "outputs": [],
   "source": [
    "# Light gbm(best parameters yet)\n",
    "# After a few iterations of hit and trial we found these parameters that are working well with the datset\n",
    "from lightgbm import LGBMClassifier\n",
    "lgb=LGBMClassifier(boosting_type='dart',n_estimators=494,learning_rate=0.15,\n",
    "                   objective='binary',scale_pos_weight=2.5,max_depth=5,\n",
    "                   reg_alpha=0.1,reg_lambda=0.1,nthread=4,colsample_bytree=0.8)\n",
    "model=lgb.fit(final_x_train,y_train)"
   ]
  },
  {
   "cell_type": "code",
   "execution_count": 175,
   "id": "d19c0cbe-feb3-4494-93ec-35a8528d0e8e",
   "metadata": {},
   "outputs": [],
   "source": [
    "predictions=lgb.predict(final_x_test)"
   ]
  },
  {
   "cell_type": "code",
   "execution_count": 176,
   "id": "02e7f573-f146-4276-9128-93310616048d",
   "metadata": {},
   "outputs": [],
   "source": [
    "submission=pd.DataFrame(predictions,test.employee_id).rename(columns={0:'is_promoted'}).reset_index()"
   ]
  },
  {
   "cell_type": "code",
   "execution_count": 177,
   "id": "02a06700-9121-4ac6-9cc0-58b96f4ee7e1",
   "metadata": {},
   "outputs": [],
   "source": [
    "submission.is_promoted=submission.is_promoted.astype('int')"
   ]
  },
  {
   "cell_type": "code",
   "execution_count": 178,
   "id": "8b50db3f-42cb-4e2f-8bfc-3b22befef5f7",
   "metadata": {},
   "outputs": [],
   "source": [
    "submission.to_csv('submission2.csv',index=False)"
   ]
  }
 ],
 "metadata": {
  "kernelspec": {
   "display_name": "Python 3 (ipykernel)",
   "language": "python",
   "name": "python3"
  },
  "language_info": {
   "codemirror_mode": {
    "name": "ipython",
    "version": 3
   },
   "file_extension": ".py",
   "mimetype": "text/x-python",
   "name": "python",
   "nbconvert_exporter": "python",
   "pygments_lexer": "ipython3",
   "version": "3.9.7"
  }
 },
 "nbformat": 4,
 "nbformat_minor": 5
}
