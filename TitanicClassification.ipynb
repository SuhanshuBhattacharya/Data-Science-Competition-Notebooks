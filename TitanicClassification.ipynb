{
 "cells": [
  {
   "cell_type": "code",
   "execution_count": 1,
   "id": "22a3ed8b-5d96-490a-b8fe-2da85de47383",
   "metadata": {},
   "outputs": [],
   "source": [
    "# Importing important libraries\n",
    "import numpy as np\n",
    "import pandas as pd\n",
    "from matplotlib import pyplot as plt\n",
    "import seaborn as sns\n",
    "import warnings\n",
    "warnings.filterwarnings('ignore')"
   ]
  },
  {
   "cell_type": "code",
   "execution_count": 2,
   "id": "e53fd0cd-4e7f-4413-b9d0-7f8df2cd29c7",
   "metadata": {},
   "outputs": [],
   "source": [
    "# Train dataset\n",
    "train=pd.read_csv('train (2).csv')"
   ]
  },
  {
   "cell_type": "code",
   "execution_count": 3,
   "id": "f377896f-2739-49f9-8ed9-62be7134155f",
   "metadata": {},
   "outputs": [],
   "source": [
    "# Test dataset\n",
    "test=pd.read_csv('test (2).csv')"
   ]
  },
  {
   "cell_type": "code",
   "execution_count": 4,
   "id": "3996f366-b1da-48c5-b870-cadccd1d0464",
   "metadata": {},
   "outputs": [],
   "source": [
    "# Combining the train and test into a new dataframe\n",
    "df=pd.concat([train,test],ignore_index=True)"
   ]
  },
  {
   "cell_type": "code",
   "execution_count": 5,
   "id": "38c56593-41c8-42d8-9fb0-27f23c0c8eb9",
   "metadata": {},
   "outputs": [
    {
     "data": {
      "text/html": [
       "<div>\n",
       "<style scoped>\n",
       "    .dataframe tbody tr th:only-of-type {\n",
       "        vertical-align: middle;\n",
       "    }\n",
       "\n",
       "    .dataframe tbody tr th {\n",
       "        vertical-align: top;\n",
       "    }\n",
       "\n",
       "    .dataframe thead th {\n",
       "        text-align: right;\n",
       "    }\n",
       "</style>\n",
       "<table border=\"1\" class=\"dataframe\">\n",
       "  <thead>\n",
       "    <tr style=\"text-align: right;\">\n",
       "      <th></th>\n",
       "      <th>PassengerId</th>\n",
       "      <th>Survived</th>\n",
       "      <th>Pclass</th>\n",
       "      <th>Name</th>\n",
       "      <th>Sex</th>\n",
       "      <th>Age</th>\n",
       "      <th>SibSp</th>\n",
       "      <th>Parch</th>\n",
       "      <th>Ticket</th>\n",
       "      <th>Fare</th>\n",
       "      <th>Cabin</th>\n",
       "      <th>Embarked</th>\n",
       "    </tr>\n",
       "  </thead>\n",
       "  <tbody>\n",
       "    <tr>\n",
       "      <th>0</th>\n",
       "      <td>1</td>\n",
       "      <td>0.0</td>\n",
       "      <td>3</td>\n",
       "      <td>Braund, Mr. Owen Harris</td>\n",
       "      <td>male</td>\n",
       "      <td>22.0</td>\n",
       "      <td>1</td>\n",
       "      <td>0</td>\n",
       "      <td>A/5 21171</td>\n",
       "      <td>7.2500</td>\n",
       "      <td>NaN</td>\n",
       "      <td>S</td>\n",
       "    </tr>\n",
       "    <tr>\n",
       "      <th>1</th>\n",
       "      <td>2</td>\n",
       "      <td>1.0</td>\n",
       "      <td>1</td>\n",
       "      <td>Cumings, Mrs. John Bradley (Florence Briggs Th...</td>\n",
       "      <td>female</td>\n",
       "      <td>38.0</td>\n",
       "      <td>1</td>\n",
       "      <td>0</td>\n",
       "      <td>PC 17599</td>\n",
       "      <td>71.2833</td>\n",
       "      <td>C85</td>\n",
       "      <td>C</td>\n",
       "    </tr>\n",
       "    <tr>\n",
       "      <th>2</th>\n",
       "      <td>3</td>\n",
       "      <td>1.0</td>\n",
       "      <td>3</td>\n",
       "      <td>Heikkinen, Miss. Laina</td>\n",
       "      <td>female</td>\n",
       "      <td>26.0</td>\n",
       "      <td>0</td>\n",
       "      <td>0</td>\n",
       "      <td>STON/O2. 3101282</td>\n",
       "      <td>7.9250</td>\n",
       "      <td>NaN</td>\n",
       "      <td>S</td>\n",
       "    </tr>\n",
       "    <tr>\n",
       "      <th>3</th>\n",
       "      <td>4</td>\n",
       "      <td>1.0</td>\n",
       "      <td>1</td>\n",
       "      <td>Futrelle, Mrs. Jacques Heath (Lily May Peel)</td>\n",
       "      <td>female</td>\n",
       "      <td>35.0</td>\n",
       "      <td>1</td>\n",
       "      <td>0</td>\n",
       "      <td>113803</td>\n",
       "      <td>53.1000</td>\n",
       "      <td>C123</td>\n",
       "      <td>S</td>\n",
       "    </tr>\n",
       "    <tr>\n",
       "      <th>4</th>\n",
       "      <td>5</td>\n",
       "      <td>0.0</td>\n",
       "      <td>3</td>\n",
       "      <td>Allen, Mr. William Henry</td>\n",
       "      <td>male</td>\n",
       "      <td>35.0</td>\n",
       "      <td>0</td>\n",
       "      <td>0</td>\n",
       "      <td>373450</td>\n",
       "      <td>8.0500</td>\n",
       "      <td>NaN</td>\n",
       "      <td>S</td>\n",
       "    </tr>\n",
       "  </tbody>\n",
       "</table>\n",
       "</div>"
      ],
      "text/plain": [
       "   PassengerId  Survived  Pclass  \\\n",
       "0            1       0.0       3   \n",
       "1            2       1.0       1   \n",
       "2            3       1.0       3   \n",
       "3            4       1.0       1   \n",
       "4            5       0.0       3   \n",
       "\n",
       "                                                Name     Sex   Age  SibSp  \\\n",
       "0                            Braund, Mr. Owen Harris    male  22.0      1   \n",
       "1  Cumings, Mrs. John Bradley (Florence Briggs Th...  female  38.0      1   \n",
       "2                             Heikkinen, Miss. Laina  female  26.0      0   \n",
       "3       Futrelle, Mrs. Jacques Heath (Lily May Peel)  female  35.0      1   \n",
       "4                           Allen, Mr. William Henry    male  35.0      0   \n",
       "\n",
       "   Parch            Ticket     Fare Cabin Embarked  \n",
       "0      0         A/5 21171   7.2500   NaN        S  \n",
       "1      0          PC 17599  71.2833   C85        C  \n",
       "2      0  STON/O2. 3101282   7.9250   NaN        S  \n",
       "3      0            113803  53.1000  C123        S  \n",
       "4      0            373450   8.0500   NaN        S  "
      ]
     },
     "execution_count": 5,
     "metadata": {},
     "output_type": "execute_result"
    }
   ],
   "source": [
    "# First five rows of the combined data\n",
    "df.head()"
   ]
  },
  {
   "cell_type": "code",
   "execution_count": 6,
   "id": "fecd606c-6881-4c4a-a472-b625ef68b33c",
   "metadata": {},
   "outputs": [
    {
     "data": {
      "text/plain": [
       "(1309, 12)"
      ]
     },
     "execution_count": 6,
     "metadata": {},
     "output_type": "execute_result"
    }
   ],
   "source": [
    "# Shape of the data\n",
    "df.shape"
   ]
  },
  {
   "cell_type": "code",
   "execution_count": 7,
   "id": "1495ebfa-c31c-4ac0-9636-b0ca3eb99eaa",
   "metadata": {},
   "outputs": [
    {
     "name": "stdout",
     "output_type": "stream",
     "text": [
      "<class 'pandas.core.frame.DataFrame'>\n",
      "RangeIndex: 1309 entries, 0 to 1308\n",
      "Data columns (total 12 columns):\n",
      " #   Column       Non-Null Count  Dtype  \n",
      "---  ------       --------------  -----  \n",
      " 0   PassengerId  1309 non-null   int64  \n",
      " 1   Survived     891 non-null    float64\n",
      " 2   Pclass       1309 non-null   int64  \n",
      " 3   Name         1309 non-null   object \n",
      " 4   Sex          1309 non-null   object \n",
      " 5   Age          1046 non-null   float64\n",
      " 6   SibSp        1309 non-null   int64  \n",
      " 7   Parch        1309 non-null   int64  \n",
      " 8   Ticket       1309 non-null   object \n",
      " 9   Fare         1308 non-null   float64\n",
      " 10  Cabin        295 non-null    object \n",
      " 11  Embarked     1307 non-null   object \n",
      "dtypes: float64(3), int64(4), object(5)\n",
      "memory usage: 122.8+ KB\n"
     ]
    }
   ],
   "source": [
    "# Info of the data\n",
    "df.info()"
   ]
  },
  {
   "cell_type": "code",
   "execution_count": 8,
   "id": "212fb879-0970-42cb-a416-147b881d81ed",
   "metadata": {},
   "outputs": [
    {
     "data": {
      "text/html": [
       "<div>\n",
       "<style scoped>\n",
       "    .dataframe tbody tr th:only-of-type {\n",
       "        vertical-align: middle;\n",
       "    }\n",
       "\n",
       "    .dataframe tbody tr th {\n",
       "        vertical-align: top;\n",
       "    }\n",
       "\n",
       "    .dataframe thead th {\n",
       "        text-align: right;\n",
       "    }\n",
       "</style>\n",
       "<table border=\"1\" class=\"dataframe\">\n",
       "  <thead>\n",
       "    <tr style=\"text-align: right;\">\n",
       "      <th></th>\n",
       "      <th>PassengerId</th>\n",
       "      <th>Survived</th>\n",
       "      <th>Pclass</th>\n",
       "      <th>Age</th>\n",
       "      <th>SibSp</th>\n",
       "      <th>Parch</th>\n",
       "      <th>Fare</th>\n",
       "    </tr>\n",
       "  </thead>\n",
       "  <tbody>\n",
       "    <tr>\n",
       "      <th>count</th>\n",
       "      <td>1309.000000</td>\n",
       "      <td>891.000000</td>\n",
       "      <td>1309.000000</td>\n",
       "      <td>1046.000000</td>\n",
       "      <td>1309.000000</td>\n",
       "      <td>1309.000000</td>\n",
       "      <td>1308.000000</td>\n",
       "    </tr>\n",
       "    <tr>\n",
       "      <th>mean</th>\n",
       "      <td>655.000000</td>\n",
       "      <td>0.383838</td>\n",
       "      <td>2.294882</td>\n",
       "      <td>29.881138</td>\n",
       "      <td>0.498854</td>\n",
       "      <td>0.385027</td>\n",
       "      <td>33.295479</td>\n",
       "    </tr>\n",
       "    <tr>\n",
       "      <th>std</th>\n",
       "      <td>378.020061</td>\n",
       "      <td>0.486592</td>\n",
       "      <td>0.837836</td>\n",
       "      <td>14.413493</td>\n",
       "      <td>1.041658</td>\n",
       "      <td>0.865560</td>\n",
       "      <td>51.758668</td>\n",
       "    </tr>\n",
       "    <tr>\n",
       "      <th>min</th>\n",
       "      <td>1.000000</td>\n",
       "      <td>0.000000</td>\n",
       "      <td>1.000000</td>\n",
       "      <td>0.170000</td>\n",
       "      <td>0.000000</td>\n",
       "      <td>0.000000</td>\n",
       "      <td>0.000000</td>\n",
       "    </tr>\n",
       "    <tr>\n",
       "      <th>25%</th>\n",
       "      <td>328.000000</td>\n",
       "      <td>0.000000</td>\n",
       "      <td>2.000000</td>\n",
       "      <td>21.000000</td>\n",
       "      <td>0.000000</td>\n",
       "      <td>0.000000</td>\n",
       "      <td>7.895800</td>\n",
       "    </tr>\n",
       "    <tr>\n",
       "      <th>50%</th>\n",
       "      <td>655.000000</td>\n",
       "      <td>0.000000</td>\n",
       "      <td>3.000000</td>\n",
       "      <td>28.000000</td>\n",
       "      <td>0.000000</td>\n",
       "      <td>0.000000</td>\n",
       "      <td>14.454200</td>\n",
       "    </tr>\n",
       "    <tr>\n",
       "      <th>75%</th>\n",
       "      <td>982.000000</td>\n",
       "      <td>1.000000</td>\n",
       "      <td>3.000000</td>\n",
       "      <td>39.000000</td>\n",
       "      <td>1.000000</td>\n",
       "      <td>0.000000</td>\n",
       "      <td>31.275000</td>\n",
       "    </tr>\n",
       "    <tr>\n",
       "      <th>max</th>\n",
       "      <td>1309.000000</td>\n",
       "      <td>1.000000</td>\n",
       "      <td>3.000000</td>\n",
       "      <td>80.000000</td>\n",
       "      <td>8.000000</td>\n",
       "      <td>9.000000</td>\n",
       "      <td>512.329200</td>\n",
       "    </tr>\n",
       "  </tbody>\n",
       "</table>\n",
       "</div>"
      ],
      "text/plain": [
       "       PassengerId    Survived       Pclass          Age        SibSp  \\\n",
       "count  1309.000000  891.000000  1309.000000  1046.000000  1309.000000   \n",
       "mean    655.000000    0.383838     2.294882    29.881138     0.498854   \n",
       "std     378.020061    0.486592     0.837836    14.413493     1.041658   \n",
       "min       1.000000    0.000000     1.000000     0.170000     0.000000   \n",
       "25%     328.000000    0.000000     2.000000    21.000000     0.000000   \n",
       "50%     655.000000    0.000000     3.000000    28.000000     0.000000   \n",
       "75%     982.000000    1.000000     3.000000    39.000000     1.000000   \n",
       "max    1309.000000    1.000000     3.000000    80.000000     8.000000   \n",
       "\n",
       "             Parch         Fare  \n",
       "count  1309.000000  1308.000000  \n",
       "mean      0.385027    33.295479  \n",
       "std       0.865560    51.758668  \n",
       "min       0.000000     0.000000  \n",
       "25%       0.000000     7.895800  \n",
       "50%       0.000000    14.454200  \n",
       "75%       0.000000    31.275000  \n",
       "max       9.000000   512.329200  "
      ]
     },
     "execution_count": 8,
     "metadata": {},
     "output_type": "execute_result"
    }
   ],
   "source": [
    "# Summary Statistics\n",
    "df.describe()"
   ]
  },
  {
   "cell_type": "code",
   "execution_count": 9,
   "id": "78efe851-2da0-492e-a370-78ee92c8f623",
   "metadata": {},
   "outputs": [
    {
     "data": {
      "text/html": [
       "<div>\n",
       "<style scoped>\n",
       "    .dataframe tbody tr th:only-of-type {\n",
       "        vertical-align: middle;\n",
       "    }\n",
       "\n",
       "    .dataframe tbody tr th {\n",
       "        vertical-align: top;\n",
       "    }\n",
       "\n",
       "    .dataframe thead th {\n",
       "        text-align: right;\n",
       "    }\n",
       "</style>\n",
       "<table border=\"1\" class=\"dataframe\">\n",
       "  <thead>\n",
       "    <tr style=\"text-align: right;\">\n",
       "      <th></th>\n",
       "      <th>PassengerId</th>\n",
       "      <th>Survived</th>\n",
       "      <th>Pclass</th>\n",
       "      <th>Age</th>\n",
       "      <th>SibSp</th>\n",
       "      <th>Parch</th>\n",
       "      <th>Fare</th>\n",
       "    </tr>\n",
       "  </thead>\n",
       "  <tbody>\n",
       "    <tr>\n",
       "      <th>PassengerId</th>\n",
       "      <td>1.000000</td>\n",
       "      <td>-0.005007</td>\n",
       "      <td>-0.038354</td>\n",
       "      <td>0.028814</td>\n",
       "      <td>-0.055224</td>\n",
       "      <td>0.008942</td>\n",
       "      <td>0.031428</td>\n",
       "    </tr>\n",
       "    <tr>\n",
       "      <th>Survived</th>\n",
       "      <td>-0.005007</td>\n",
       "      <td>1.000000</td>\n",
       "      <td>-0.338481</td>\n",
       "      <td>-0.077221</td>\n",
       "      <td>-0.035322</td>\n",
       "      <td>0.081629</td>\n",
       "      <td>0.257307</td>\n",
       "    </tr>\n",
       "    <tr>\n",
       "      <th>Pclass</th>\n",
       "      <td>-0.038354</td>\n",
       "      <td>-0.338481</td>\n",
       "      <td>1.000000</td>\n",
       "      <td>-0.408106</td>\n",
       "      <td>0.060832</td>\n",
       "      <td>0.018322</td>\n",
       "      <td>-0.558629</td>\n",
       "    </tr>\n",
       "    <tr>\n",
       "      <th>Age</th>\n",
       "      <td>0.028814</td>\n",
       "      <td>-0.077221</td>\n",
       "      <td>-0.408106</td>\n",
       "      <td>1.000000</td>\n",
       "      <td>-0.243699</td>\n",
       "      <td>-0.150917</td>\n",
       "      <td>0.178740</td>\n",
       "    </tr>\n",
       "    <tr>\n",
       "      <th>SibSp</th>\n",
       "      <td>-0.055224</td>\n",
       "      <td>-0.035322</td>\n",
       "      <td>0.060832</td>\n",
       "      <td>-0.243699</td>\n",
       "      <td>1.000000</td>\n",
       "      <td>0.373587</td>\n",
       "      <td>0.160238</td>\n",
       "    </tr>\n",
       "    <tr>\n",
       "      <th>Parch</th>\n",
       "      <td>0.008942</td>\n",
       "      <td>0.081629</td>\n",
       "      <td>0.018322</td>\n",
       "      <td>-0.150917</td>\n",
       "      <td>0.373587</td>\n",
       "      <td>1.000000</td>\n",
       "      <td>0.221539</td>\n",
       "    </tr>\n",
       "    <tr>\n",
       "      <th>Fare</th>\n",
       "      <td>0.031428</td>\n",
       "      <td>0.257307</td>\n",
       "      <td>-0.558629</td>\n",
       "      <td>0.178740</td>\n",
       "      <td>0.160238</td>\n",
       "      <td>0.221539</td>\n",
       "      <td>1.000000</td>\n",
       "    </tr>\n",
       "  </tbody>\n",
       "</table>\n",
       "</div>"
      ],
      "text/plain": [
       "             PassengerId  Survived    Pclass       Age     SibSp     Parch  \\\n",
       "PassengerId     1.000000 -0.005007 -0.038354  0.028814 -0.055224  0.008942   \n",
       "Survived       -0.005007  1.000000 -0.338481 -0.077221 -0.035322  0.081629   \n",
       "Pclass         -0.038354 -0.338481  1.000000 -0.408106  0.060832  0.018322   \n",
       "Age             0.028814 -0.077221 -0.408106  1.000000 -0.243699 -0.150917   \n",
       "SibSp          -0.055224 -0.035322  0.060832 -0.243699  1.000000  0.373587   \n",
       "Parch           0.008942  0.081629  0.018322 -0.150917  0.373587  1.000000   \n",
       "Fare            0.031428  0.257307 -0.558629  0.178740  0.160238  0.221539   \n",
       "\n",
       "                 Fare  \n",
       "PassengerId  0.031428  \n",
       "Survived     0.257307  \n",
       "Pclass      -0.558629  \n",
       "Age          0.178740  \n",
       "SibSp        0.160238  \n",
       "Parch        0.221539  \n",
       "Fare         1.000000  "
      ]
     },
     "execution_count": 9,
     "metadata": {},
     "output_type": "execute_result"
    }
   ],
   "source": [
    "# Corelation matrix\n",
    "df.corr()"
   ]
  },
  {
   "cell_type": "code",
   "execution_count": 10,
   "id": "53c898ae-d160-42e7-8f5f-90c652be9e08",
   "metadata": {},
   "outputs": [
    {
     "data": {
      "image/png": "[encoded data removed]",
      "text/plain": [
       "<Figure size 432x288 with 2 Axes>"
      ]
     },
     "metadata": {
      "needs_background": "light"
     },
     "output_type": "display_data"
    }
   ],
   "source": [
    "# Heatmap for the correlation matrix\n",
    "sns.heatmap(df.corr(),cmap='YlGnBu')\n",
    "plt.show()"
   ]
  },
  {
   "cell_type": "code",
   "execution_count": 11,
   "id": "200f129d-8727-4aad-a904-60fda4ed8719",
   "metadata": {},
   "outputs": [
    {
     "data": {
      "text/plain": [
       "PassengerId       0\n",
       "Pclass            0\n",
       "Name              0\n",
       "Sex               0\n",
       "SibSp             0\n",
       "Parch             0\n",
       "Ticket            0\n",
       "Fare              1\n",
       "Embarked          2\n",
       "Age             263\n",
       "Survived        418\n",
       "Cabin          1014\n",
       "dtype: int64"
      ]
     },
     "execution_count": 11,
     "metadata": {},
     "output_type": "execute_result"
    }
   ],
   "source": [
    "# Checking for missing values\n",
    "df.isnull().sum().sort_values()\n",
    "# Data has missing values"
   ]
  },
  {
   "cell_type": "markdown",
   "id": "5d8088f2-c443-4b66-b506-9e9a795912a0",
   "metadata": {},
   "source": [
    "# Univariate Analysis"
   ]
  },
  {
   "cell_type": "code",
   "execution_count": 12,
   "id": "30f593e1-cb7c-447e-ad85-cd6d26049259",
   "metadata": {},
   "outputs": [
    {
     "data": {
      "text/plain": [
       "Index(['Age', 'SibSp', 'Parch', 'Fare'], dtype='object')"
      ]
     },
     "execution_count": 12,
     "metadata": {},
     "output_type": "execute_result"
    }
   ],
   "source": [
    "# We would first extract all the numerical columns\n",
    "df.select_dtypes(np.number).drop(columns=['PassengerId','Survived','Pclass']).columns"
   ]
  },
  {
   "cell_type": "code",
   "execution_count": 13,
   "id": "6f685afb-45f0-4acb-8866-61d762c84ba4",
   "metadata": {},
   "outputs": [],
   "source": [
    "nums=['Age', 'SibSp', 'Parch', 'Fare'] # All the numerical columns"
   ]
  },
  {
   "cell_type": "code",
   "execution_count": 14,
   "id": "49e595c6-0c19-472f-953e-663bba6f8854",
   "metadata": {},
   "outputs": [
    {
     "data": {
      "image/png": "[encoded data removed]",
      "text/plain": [
       "<Figure size 720x576 with 4 Axes>"
      ]
     },
     "metadata": {
      "needs_background": "light"
     },
     "output_type": "display_data"
    }
   ],
   "source": [
    "# Making multiple distribution plots for Univariate analysis of the numerical columns\n",
    "rows=2\n",
    "cols=2\n",
    "counter=1\n",
    "plt.rcParams['figure.figsize']=[10,8]\n",
    "for i in nums:\n",
    "    plt.subplot(rows,cols,counter)\n",
    "    sns.distplot(df[i])\n",
    "    counter+=1\n",
    "    \n",
    "plt.tight_layout()\n",
    "plt.show()"
   ]
  },
  {
   "cell_type": "code",
   "execution_count": 15,
   "id": "d5ec86fb-525b-4edb-a993-e57d677af45b",
   "metadata": {},
   "outputs": [],
   "source": [
    "# Now we see the categorical variables\n",
    "cats=['Survived','Pclass','Sex','Embarked']"
   ]
  },
  {
   "cell_type": "code",
   "execution_count": 16,
   "id": "4eb989e8-07f3-43fd-9de0-6ed8e0e606de",
   "metadata": {},
   "outputs": [
    {
     "data": {
      "image/png": "[encoded data removed]",
      "text/plain": [
       "<Figure size 720x576 with 4 Axes>"
      ]
     },
     "metadata": {
      "needs_background": "light"
     },
     "output_type": "display_data"
    }
   ],
   "source": [
    "# Now we will make multiple countplots for univariate analysis of the categorical variable\n",
    "rows=2\n",
    "cols=2\n",
    "counter=1\n",
    "plt.rcParams['figure.figsize']=[10,8]\n",
    "for i in cats:\n",
    "    plt.subplot(rows,cols,counter)\n",
    "    sns.countplot(df[i])\n",
    "    counter+=1\n",
    "plt.tight_layout()\n",
    "plt.show()"
   ]
  },
  {
   "cell_type": "markdown",
   "id": "c6bd64a7-70e1-4faf-8c63-5697b1dbe909",
   "metadata": {},
   "source": [
    "## Insights from the Univariate Analysis\n",
    "\n",
    "* The Age column seems to be the nearest to a normal distribution\n",
    "* Most of the people embarked were in the rangeb of 20 and 40\n",
    "* Most poeple were travelinng alone or were travelling with 1 person\n",
    "* Most people travelling didn't have any children with them or had 1 child with them\n",
    "* The fare was mostly between 0 and 100 pounds\n",
    "* People with 0 fare could be crew members\n",
    "* A lot less people survived than people who died\n",
    "* There were more passengers with in 3rd passenger class than any other passenger class\n",
    "* There were more males than females on the ship. This could indicate that more males died on the ship than females\n",
    "* Most people on the ship embarked from Southampton. This could mean that most of the people who died were from Southampton"
   ]
  },
  {
   "cell_type": "code",
   "execution_count": 17,
   "id": "8e3029cb-dcec-428b-813c-60aca2acb6c4",
   "metadata": {},
   "outputs": [],
   "source": [
    "# Before procedding on with our bivariate analysis\n",
    "# We would do some feature engineering\n",
    "# Handle our missing values\n",
    "# Drop some redundant columns"
   ]
  },
  {
   "cell_type": "markdown",
   "id": "b9408d54-f8dd-41fd-81dc-328a5caf6f6a",
   "metadata": {},
   "source": [
    "# Feature Engineering, and Handling of Missing values"
   ]
  },
  {
   "cell_type": "code",
   "execution_count": 18,
   "id": "abdc612a-9966-467f-b570-c16d9661b50b",
   "metadata": {},
   "outputs": [],
   "source": [
    "# The first feature that we would engineer are the Sibsp and parch column\n",
    "# What we would do is that we will add these two columns and add 1 to it to take into account the number of people travelling together\n",
    "df['FamilyMembers']=df.SibSp+df.Parch+1\n",
    "# We have now created our new feature"
   ]
  },
  {
   "cell_type": "code",
   "execution_count": 19,
   "id": "299edf33-6d94-44af-bf53-cc54569ca4a5",
   "metadata": {},
   "outputs": [],
   "source": [
    "# Since FamilyMembers column is serving our purpose\n",
    "# we will drop the SibSp and Parch columns\n",
    "df.drop(columns=['SibSp','Parch'],inplace=True)# Both the columns are now dropped"
   ]
  },
  {
   "cell_type": "code",
   "execution_count": 20,
   "id": "713c7b35-a873-4c65-b5ae-310b1ad93c21",
   "metadata": {},
   "outputs": [],
   "source": [
    "# We can see that there are some categorical columns that are of integer type\n",
    "# We would change them to object\n",
    "df.Pclass=df.Pclass.astype('object')"
   ]
  },
  {
   "cell_type": "code",
   "execution_count": 21,
   "id": "2325411f-4b07-4027-8b08-268a6d4005bd",
   "metadata": {},
   "outputs": [],
   "source": [
    "# We would be dropping the passenger id and ticket column because we feel they are redundant\n",
    "df.drop(columns=['PassengerId','Ticket'],inplace=True)"
   ]
  },
  {
   "cell_type": "code",
   "execution_count": 22,
   "id": "249cea43-0a0b-4135-b564-574f1f100a20",
   "metadata": {},
   "outputs": [],
   "source": [
    "# In terms of missing values\n",
    "# We will first handle the cabin column\n",
    "# In this we would also bin the column in two categories:- 'Cabin alloted' and 'Cabin not alloted'\n",
    "# For this we would replace the non null entries with 'Cabin alloted'\n",
    "# And we will fill the null entries with 'Cabin Not-alloted'\n",
    "df.loc[df.Cabin.isnull()==False,'Cabin']='Cabin Alloted'\n",
    "df.Cabin.fillna('Cabin not alloted',inplace=True)"
   ]
  },
  {
   "cell_type": "code",
   "execution_count": 23,
   "id": "5b909819-30ff-4f02-8d2f-3733b6063a82",
   "metadata": {},
   "outputs": [
    {
     "data": {
      "text/plain": [
       "Survived         418\n",
       "Pclass             0\n",
       "Name               0\n",
       "Sex                0\n",
       "Age              263\n",
       "Fare               1\n",
       "Cabin              0\n",
       "Embarked           2\n",
       "FamilyMembers      0\n",
       "dtype: int64"
      ]
     },
     "execution_count": 23,
     "metadata": {},
     "output_type": "execute_result"
    }
   ],
   "source": [
    "df.isnull().sum()\n",
    "# We can see that there are 1 and 2 null values in Fare and Embarked respectively\n",
    "# We would use mean imputation and mode imputation to fill them up"
   ]
  },
  {
   "cell_type": "code",
   "execution_count": 24,
   "id": "f40d4cf9-6709-4cb9-b491-b0132f26e6bf",
   "metadata": {},
   "outputs": [],
   "source": [
    "df.Fare.fillna(df.Fare.mean(),inplace=True)\n",
    "df.Embarked.fillna(df.Embarked.mode().values[0],inplace=True)"
   ]
  },
  {
   "cell_type": "code",
   "execution_count": 25,
   "id": "4c4bdf21-2550-49ba-b030-a77d7145d4e9",
   "metadata": {},
   "outputs": [
    {
     "data": {
      "text/plain": [
       "Survived         418\n",
       "Pclass             0\n",
       "Name               0\n",
       "Sex                0\n",
       "Age              263\n",
       "Fare               0\n",
       "Cabin              0\n",
       "Embarked           0\n",
       "FamilyMembers      0\n",
       "dtype: int64"
      ]
     },
     "execution_count": 25,
     "metadata": {},
     "output_type": "execute_result"
    }
   ],
   "source": [
    "df.isnull().sum()\n",
    "# Now only the age column has null values\n",
    "# Before filling that we would be doing feature engineering to extract the title from the names of the people(this is why we didn't drop the colum yet)\n",
    "# Then we would fill the null values in age according to the Pclass and title"
   ]
  },
  {
   "cell_type": "code",
   "execution_count": 26,
   "id": "b5616f09-d7be-4b4e-84d4-06ed4666e237",
   "metadata": {},
   "outputs": [],
   "source": [
    "# Splitting the name columns in two halves\n",
    "df[['delete','work']]=df.Name.str.split(', ',expand=True)"
   ]
  },
  {
   "cell_type": "code",
   "execution_count": 27,
   "id": "6ed60e10-b6a1-4407-b820-9cf5373e2f18",
   "metadata": {},
   "outputs": [],
   "source": [
    "# Since we have the column where we can easily extract the title we would drop the 'delete' column and the 'Name' column\n",
    "df.drop(columns=['Name','delete'],inplace=True)"
   ]
  },
  {
   "cell_type": "code",
   "execution_count": 28,
   "id": "31041737-52c5-4556-a965-d490cef69d75",
   "metadata": {},
   "outputs": [],
   "source": [
    "# We would now separate titles from the name\n",
    "lst=[]\n",
    "for x in df.work:\n",
    "    lst.append(x.split('. ')[0])\n",
    "# Now since our list of title is created we would create a new feature 'Title' and put the list that we got as the column\n",
    "df['Title']=lst #Title column is now created"
   ]
  },
  {
   "cell_type": "code",
   "execution_count": 29,
   "id": "8d81934f-4f75-4d0a-a9f5-fd4e0937310d",
   "metadata": {},
   "outputs": [],
   "source": [
    "# Dropping extra columns that we don't need\n",
    "df.drop(columns=['work'],inplace=True)"
   ]
  },
  {
   "cell_type": "code",
   "execution_count": 30,
   "id": "213f66f5-b29e-4471-82fd-5abd8eb28354",
   "metadata": {},
   "outputs": [
    {
     "data": {
      "text/plain": [
       "array(['Mr', 'Mrs', 'Miss', 'Master', 'Don', 'Rev', 'Dr', 'Mme', 'Ms',\n",
       "       'Major', 'Lady', 'Sir', 'Mlle', 'Col', 'Capt', 'the Countess',\n",
       "       'Jonkheer', 'Dona'], dtype=object)"
      ]
     },
     "execution_count": 30,
     "metadata": {},
     "output_type": "execute_result"
    }
   ],
   "source": [
    "# Now we would proceed to filling null values in age column\n",
    "# First we will see the unique values in Title column\n",
    "df.Title.unique()"
   ]
  },
  {
   "cell_type": "code",
   "execution_count": 31,
   "id": "df40027b-486b-4f17-840b-0f2027d8f072",
   "metadata": {},
   "outputs": [],
   "source": [
    "# Now we would create a list where we would keep all those titles where we would like bin them as others\n",
    "# We would keep the primary titles like 'Mr','Mrs','Master',etc. intact while all the other title would fall under a bin 'Others'\n",
    "others=[ 'Don', 'Rev', 'Dr', 'Mme',\n",
    "       'Major', 'Lady', 'Sir', 'Mlle', 'Col', 'Capt', 'the Countess',\n",
    "       'Jonkheer', 'Dona']"
   ]
  },
  {
   "cell_type": "code",
   "execution_count": 32,
   "id": "4a67460e-4d9e-4f8b-b36f-4fcaa03d8ec7",
   "metadata": {},
   "outputs": [],
   "source": [
    "# Now we would create a function to place the titles under the bins according to the list we created above\n",
    "def title_bin(x):\n",
    "    if x in others:\n",
    "        return 'Others'\n",
    "    else:\n",
    "        return x\n",
    "df.Title=df.Title.apply(title_bin) # Binning the title column"
   ]
  },
  {
   "cell_type": "code",
   "execution_count": 33,
   "id": "bceca607-8ddc-4e00-9c1d-8b084b0cc96b",
   "metadata": {},
   "outputs": [
    {
     "data": {
      "text/html": [
       "<div>\n",
       "<style scoped>\n",
       "    .dataframe tbody tr th:only-of-type {\n",
       "        vertical-align: middle;\n",
       "    }\n",
       "\n",
       "    .dataframe tbody tr th {\n",
       "        vertical-align: top;\n",
       "    }\n",
       "\n",
       "    .dataframe thead th {\n",
       "        text-align: right;\n",
       "    }\n",
       "</style>\n",
       "<table border=\"1\" class=\"dataframe\">\n",
       "  <thead>\n",
       "    <tr style=\"text-align: right;\">\n",
       "      <th></th>\n",
       "      <th></th>\n",
       "      <th>Age</th>\n",
       "    </tr>\n",
       "    <tr>\n",
       "      <th>Title</th>\n",
       "      <th>Pclass</th>\n",
       "      <th></th>\n",
       "    </tr>\n",
       "  </thead>\n",
       "  <tbody>\n",
       "    <tr>\n",
       "      <th rowspan=\"3\" valign=\"top\">Master</th>\n",
       "      <th>1</th>\n",
       "      <td>6.0</td>\n",
       "    </tr>\n",
       "    <tr>\n",
       "      <th>2</th>\n",
       "      <td>2.0</td>\n",
       "    </tr>\n",
       "    <tr>\n",
       "      <th>3</th>\n",
       "      <td>6.0</td>\n",
       "    </tr>\n",
       "    <tr>\n",
       "      <th rowspan=\"3\" valign=\"top\">Miss</th>\n",
       "      <th>1</th>\n",
       "      <td>30.0</td>\n",
       "    </tr>\n",
       "    <tr>\n",
       "      <th>2</th>\n",
       "      <td>20.0</td>\n",
       "    </tr>\n",
       "    <tr>\n",
       "      <th>3</th>\n",
       "      <td>18.0</td>\n",
       "    </tr>\n",
       "    <tr>\n",
       "      <th rowspan=\"3\" valign=\"top\">Mr</th>\n",
       "      <th>1</th>\n",
       "      <td>41.5</td>\n",
       "    </tr>\n",
       "    <tr>\n",
       "      <th>2</th>\n",
       "      <td>30.0</td>\n",
       "    </tr>\n",
       "    <tr>\n",
       "      <th>3</th>\n",
       "      <td>26.0</td>\n",
       "    </tr>\n",
       "    <tr>\n",
       "      <th rowspan=\"3\" valign=\"top\">Mrs</th>\n",
       "      <th>1</th>\n",
       "      <td>45.0</td>\n",
       "    </tr>\n",
       "    <tr>\n",
       "      <th>2</th>\n",
       "      <td>30.5</td>\n",
       "    </tr>\n",
       "    <tr>\n",
       "      <th>3</th>\n",
       "      <td>31.0</td>\n",
       "    </tr>\n",
       "    <tr>\n",
       "      <th rowspan=\"2\" valign=\"top\">Ms</th>\n",
       "      <th>2</th>\n",
       "      <td>28.0</td>\n",
       "    </tr>\n",
       "    <tr>\n",
       "      <th>3</th>\n",
       "      <td>NaN</td>\n",
       "    </tr>\n",
       "    <tr>\n",
       "      <th rowspan=\"2\" valign=\"top\">Others</th>\n",
       "      <th>1</th>\n",
       "      <td>47.0</td>\n",
       "    </tr>\n",
       "    <tr>\n",
       "      <th>2</th>\n",
       "      <td>41.5</td>\n",
       "    </tr>\n",
       "  </tbody>\n",
       "</table>\n",
       "</div>"
      ],
      "text/plain": [
       "                Age\n",
       "Title  Pclass      \n",
       "Master 1        6.0\n",
       "       2        2.0\n",
       "       3        6.0\n",
       "Miss   1       30.0\n",
       "       2       20.0\n",
       "       3       18.0\n",
       "Mr     1       41.5\n",
       "       2       30.0\n",
       "       3       26.0\n",
       "Mrs    1       45.0\n",
       "       2       30.5\n",
       "       3       31.0\n",
       "Ms     2       28.0\n",
       "       3        NaN\n",
       "Others 1       47.0\n",
       "       2       41.5"
      ]
     },
     "execution_count": 33,
     "metadata": {},
     "output_type": "execute_result"
    }
   ],
   "source": [
    "# We would fill the age column by groupwise median imputation according to title and pclass\n",
    "# First we would find the median age for each title in each class\n",
    "pd.DataFrame(df.groupby(['Title','Pclass'])['Age'].median())"
   ]
  },
  {
   "cell_type": "code",
   "execution_count": 34,
   "id": "7e77f643-3eea-4d6b-b433-0d3e4a5ac46f",
   "metadata": {},
   "outputs": [],
   "source": [
    "# Now we would do the groupwise median imputation\n",
    "df.loc[((df[\"Title\"]==\"Master\") & (df[\"Pclass\"]==1)) & (df[\"Age\"].isnull()),\"Age\"]=6.0\n",
    "df.loc[((df[\"Title\"]==\"Master\") & (df[\"Pclass\"]==2)) & (df[\"Age\"].isnull()),\"Age\"]=2.0\n",
    "df.loc[((df[\"Title\"]==\"Master\") & (df[\"Pclass\"]==3)) & (df[\"Age\"].isnull()),\"Age\"]=6.0\n",
    "df.loc[((df[\"Title\"]==\"Miss\") & (df[\"Pclass\"]==1)) & (df[\"Age\"].isnull()),\"Age\"]=30.0\n",
    "df.loc[((df[\"Title\"]==\"Miss\") & (df[\"Pclass\"]==2)) & (df[\"Age\"].isnull()),\"Age\"]=20.0\n",
    "df.loc[((df[\"Title\"]==\"Miss\") & (df[\"Pclass\"]==3)) & (df[\"Age\"].isnull()),\"Age\"]=18.0\n",
    "df.loc[((df[\"Title\"]==\"Mr\") & (df[\"Pclass\"]==1)) & (df[\"Age\"].isnull()),\"Age\"]=41.5\n",
    "df.loc[((df[\"Title\"]==\"Mr\") & (df[\"Pclass\"]==2)) & (df[\"Age\"].isnull()),\"Age\"]=30.0\n",
    "df.loc[((df[\"Title\"]==\"Mr\") & (df[\"Pclass\"]==3)) & (df[\"Age\"].isnull()),\"Age\"]=26.0\n",
    "df.loc[((df[\"Title\"]==\"Mrs\") & (df[\"Pclass\"]==1)) & (df[\"Age\"].isnull()),\"Age\"]=45.0\n",
    "df.loc[((df[\"Title\"]==\"Mrs\") & (df[\"Pclass\"]==2)) & (df[\"Age\"].isnull()),\"Age\"]=30.5\n",
    "df.loc[((df[\"Title\"]==\"Mrs\") & (df[\"Pclass\"]==3)) & (df[\"Age\"].isnull()),\"Age\"]=31.0\n",
    "df.loc[(df[\"Title\"]==\"Ms\") &  (df[\"Age\"].isnull()),\"Age\"]=28.0\n",
    "df.loc[((df[\"Title\"]==\"Others\") & (df[\"Pclass\"]==1)) & (df[\"Age\"].isnull()),\"Age\"]=47.0\n",
    "df.loc[((df[\"Title\"]==\"Others\") & (df[\"Pclass\"]==2)) & (df[\"Age\"].isnull()),\"Age\"]=41.5"
   ]
  },
  {
   "cell_type": "code",
   "execution_count": 35,
   "id": "2900b865-a02b-4d6d-a352-1ad4beee500b",
   "metadata": {},
   "outputs": [
    {
     "data": {
      "text/plain": [
       "Survived         418\n",
       "Pclass             0\n",
       "Sex                0\n",
       "Age                0\n",
       "Fare               0\n",
       "Cabin              0\n",
       "Embarked           0\n",
       "FamilyMembers      0\n",
       "Title              0\n",
       "dtype: int64"
      ]
     },
     "execution_count": 35,
     "metadata": {},
     "output_type": "execute_result"
    }
   ],
   "source": [
    "df.isnull().sum() # Age column is also now filled"
   ]
  },
  {
   "cell_type": "code",
   "execution_count": 36,
   "id": "b315416e-a302-4b0d-a95a-5c513faad49c",
   "metadata": {},
   "outputs": [],
   "source": [
    "# Since our Data is now cleaned we can now proceed with our bivariate analysis"
   ]
  },
  {
   "cell_type": "markdown",
   "id": "1f8f28d2-b40a-441e-90d8-7061fe8c2f05",
   "metadata": {},
   "source": [
    "# Bivariate Analysis"
   ]
  },
  {
   "cell_type": "code",
   "execution_count": 37,
   "id": "588af097-b22d-4bf2-a527-c03b14f34540",
   "metadata": {},
   "outputs": [
    {
     "data": {
      "text/plain": [
       "Index(['Age', 'Fare', 'FamilyMembers'], dtype='object')"
      ]
     },
     "execution_count": 37,
     "metadata": {},
     "output_type": "execute_result"
    }
   ],
   "source": [
    "# First we will start with the numerical features\n",
    "df.select_dtypes(np.number).drop(columns='Survived').columns"
   ]
  },
  {
   "cell_type": "code",
   "execution_count": 38,
   "id": "9f208f36-bc72-48f3-809f-fcb69c6d0cd6",
   "metadata": {},
   "outputs": [],
   "source": [
    "nums=['Age', 'Fare', 'FamilyMembers'] # Numerical features"
   ]
  },
  {
   "cell_type": "code",
   "execution_count": 39,
   "id": "5be18fd1-24a4-40de-aba3-258078d9dbc7",
   "metadata": {},
   "outputs": [
    {
     "data": {
      "image/png": "[encoded data removed]",
      "text/plain": [
       "<Figure size 720x576 with 3 Axes>"
      ]
     },
     "metadata": {
      "needs_background": "light"
     },
     "output_type": "display_data"
    }
   ],
   "source": [
    "# Making multiple boxplots\n",
    "rows=2\n",
    "cols=2\n",
    "counter=1\n",
    "plt.rcParams['figure.figsize']=[10,8]\n",
    "for i in nums:\n",
    "    plt.subplot(rows,cols,counter)\n",
    "    sns.boxplot(x='Survived',y=i,data=df)\n",
    "    counter+=1\n",
    "plt.tight_layout()\n",
    "plt.show()"
   ]
  },
  {
   "cell_type": "code",
   "execution_count": 40,
   "id": "8b8daf39-ec80-4a38-ad69-ab9b1b61d002",
   "metadata": {},
   "outputs": [
    {
     "data": {
      "text/plain": [
       "Index(['Pclass', 'Sex', 'Cabin', 'Embarked', 'Title'], dtype='object')"
      ]
     },
     "execution_count": 40,
     "metadata": {},
     "output_type": "execute_result"
    }
   ],
   "source": [
    "# Now we will take the Categorical Features\n",
    "df.select_dtypes(object).columns"
   ]
  },
  {
   "cell_type": "code",
   "execution_count": 41,
   "id": "9f652c13-0d8c-4434-9665-097b8313654f",
   "metadata": {},
   "outputs": [],
   "source": [
    "cat=['Pclass', 'Sex', 'Cabin', 'Embarked', 'Title'] # All the categorical column"
   ]
  },
  {
   "cell_type": "code",
   "execution_count": 42,
   "id": "2cbe003e-2594-4713-8448-8009bd9054db",
   "metadata": {},
   "outputs": [
    {
     "data": {
      "image/png": "[encoded data removed]",
      "text/plain": [
       "<Figure size 360x360 with 1 Axes>"
      ]
     },
     "metadata": {
      "needs_background": "light"
     },
     "output_type": "display_data"
    },
    {
     "data": {
      "image/png": "[encoded data removed]",
      "text/plain": [
       "<Figure size 360x360 with 1 Axes>"
      ]
     },
     "metadata": {
      "needs_background": "light"
     },
     "output_type": "display_data"
    },
    {
     "data": {
      "image/png": "[encoded data removed]",
      "text/plain": [
       "<Figure size 360x360 with 1 Axes>"
      ]
     },
     "metadata": {
      "needs_background": "light"
     },
     "output_type": "display_data"
    },
    {
     "data": {
      "image/png": "[encoded data removed]",
      "text/plain": [
       "<Figure size 360x360 with 1 Axes>"
      ]
     },
     "metadata": {
      "needs_background": "light"
     },
     "output_type": "display_data"
    },
    {
     "data": {
      "image/png": "[encoded data removed]",
      "text/plain": [
       "<Figure size 360x360 with 1 Axes>"
      ]
     },
     "metadata": {
      "needs_background": "light"
     },
     "output_type": "display_data"
    }
   ],
   "source": [
    "# Plotting multiple crosstabs as barplots\n",
    "plt.rcParams['figure.figsize']=[5,5]\n",
    "for i in cat:\n",
    "    pd.crosstab(df[i],df.Survived).plot(kind='bar')\n",
    "    plt.xticks(rotation=0)\n",
    "    plt.show()"
   ]
  },
  {
   "cell_type": "markdown",
   "id": "f221a9b9-57f7-415f-b5c4-1aad740537d9",
   "metadata": {},
   "source": [
    "## Insights from the Bivariate Analysis\n",
    "\n",
    "* Younger people had a higher chance of survival than older people\n",
    "* People who paid higher fare had a considerable higher chance of survival\n",
    "* People with higher number of family members travelling together had a considerably lower chance of survival\n",
    "* People travelling in the first class seem to have a higher chance of surviving the disaster\n",
    "* A ratio of males dying is a lot more than females not surviving the disaster\n",
    "* A consider number of people died who were not alloted cabins than the people who were alloted cabins\n",
    "* People dying from Southampton is considerbaly higher than people from Cherbough and Queenstown\n",
    "* From the title barplot we can clearly see that the number of males dying was considerably higher than women and children"
   ]
  },
  {
   "cell_type": "markdown",
   "id": "a1c34e6a-9f62-4016-ae14-e29c9eb89cd0",
   "metadata": {},
   "source": [
    "# Encoding, Splitting and Scaling of the data"
   ]
  },
  {
   "cell_type": "code",
   "execution_count": 43,
   "id": "e7177f02-b06e-4203-bb73-de3526d6e27f",
   "metadata": {},
   "outputs": [],
   "source": [
    "# We would use the one hot encoding method and create dummy variables for the categorical columns\n",
    "dummy=pd.get_dummies(df,drop_first=True)"
   ]
  },
  {
   "cell_type": "code",
   "execution_count": 44,
   "id": "21886c6a-c0b3-493c-8abe-368374c3a014",
   "metadata": {},
   "outputs": [],
   "source": [
    "# Now we will split the dummy dataframe into train and test\n",
    "# Since already knew the size of train and test data\n",
    "# we would use the iloc method to split the same\n",
    "df_train=dummy.iloc[:891,:] # Train dummy data"
   ]
  },
  {
   "cell_type": "code",
   "execution_count": 45,
   "id": "6ba4e19c-3b07-4d20-860c-3960ecfebc14",
   "metadata": {},
   "outputs": [],
   "source": [
    "df_test=dummy.iloc[891:,:] # Test dummy data"
   ]
  },
  {
   "cell_type": "code",
   "execution_count": 46,
   "id": "9bcfd957-f564-440c-afe2-691fb8397d7c",
   "metadata": {},
   "outputs": [],
   "source": [
    "df_test.drop(columns='Survived',inplace=True) # Dropping the target variable from the test data"
   ]
  },
  {
   "cell_type": "code",
   "execution_count": 47,
   "id": "0cf194ff-a8f1-4141-8e74-c55f330f8ac8",
   "metadata": {},
   "outputs": [],
   "source": [
    "# Now we will scale the data\n",
    "from sklearn.preprocessing import MinMaxScaler\n",
    "sc=MinMaxScaler()\n",
    "df_train.iloc[:,1:4]=sc.fit_transform(df_train.iloc[:,1:4])\n",
    "df_test.iloc[:,0:3]=sc.transform(df_test.iloc[:,0:3])"
   ]
  },
  {
   "cell_type": "code",
   "execution_count": 48,
   "id": "990f77b0-8f8c-4dfa-848c-7e3a995ac3da",
   "metadata": {},
   "outputs": [],
   "source": [
    "# Now initializing our X and Y variables in train and test data\n",
    "x_train=df_train.drop(columns='Survived')\n",
    "y_train=df_train.Survived\n",
    "x_test=df_test"
   ]
  },
  {
   "cell_type": "markdown",
   "id": "efadc8f1-e0dc-4189-bde5-502810333e7b",
   "metadata": {},
   "source": [
    "# Model Bulding"
   ]
  },
  {
   "cell_type": "markdown",
   "id": "9a0ec1f8-ce4c-46e4-ab2b-2c1ddc3a326b",
   "metadata": {},
   "source": [
    "## Logistic Regression"
   ]
  },
  {
   "cell_type": "code",
   "execution_count": 49,
   "id": "ada52d89-5462-4cf3-83ea-517a665bc8dd",
   "metadata": {},
   "outputs": [],
   "source": [
    "# We will first use Logistic Regression\n",
    "from sklearn.linear_model import LogisticRegression\n",
    "lg=LogisticRegression()\n",
    "model=lg.fit(x_train,y_train)\n",
    "y_test=model.predict(x_test)"
   ]
  },
  {
   "cell_type": "code",
   "execution_count": 50,
   "id": "973b51c7-c353-4089-9bb7-13cb57975f49",
   "metadata": {},
   "outputs": [],
   "source": [
    "prediction=pd.DataFrame(y_test,test.PassengerId).reset_index()"
   ]
  },
  {
   "cell_type": "code",
   "execution_count": 51,
   "id": "cb68595c-5a02-4760-a65f-6a726e78d08b",
   "metadata": {},
   "outputs": [],
   "source": [
    "prediction.to_csv('gender_submission.csv')"
   ]
  },
  {
   "cell_type": "markdown",
   "id": "b1d5eb98-1940-416b-83c1-2ea9b418dc52",
   "metadata": {},
   "source": [
    "## Decision Tree Classifier"
   ]
  },
  {
   "cell_type": "code",
   "execution_count": 52,
   "id": "368add4a-0938-4953-8518-132b7399b828",
   "metadata": {},
   "outputs": [],
   "source": [
    "# Decision Tree Classifier\n",
    "from sklearn.tree import DecisionTreeClassifier\n",
    "dt=DecisionTreeClassifier()\n",
    "model=dt.fit(x_train,y_train)\n",
    "y_test=model.predict(x_test)"
   ]
  },
  {
   "cell_type": "code",
   "execution_count": 53,
   "id": "63be8740-43af-472c-803c-9dec978ee02a",
   "metadata": {},
   "outputs": [],
   "source": [
    "prediction=pd.DataFrame(y_test,test.PassengerId).reset_index()"
   ]
  },
  {
   "cell_type": "code",
   "execution_count": 54,
   "id": "e2e8dae8-94a9-426d-b728-85aa61581d32",
   "metadata": {},
   "outputs": [],
   "source": [
    "prediction.to_csv('gender_submissionDecisionTree.csv')"
   ]
  },
  {
   "cell_type": "markdown",
   "id": "5de95e14-4015-4333-abc7-31731f682bc2",
   "metadata": {},
   "source": [
    "# Random Forrest"
   ]
  },
  {
   "cell_type": "code",
   "execution_count": 55,
   "id": "b60071cb-9b5f-413f-bb45-8af844ef5249",
   "metadata": {},
   "outputs": [],
   "source": [
    "# Random Forrest\n",
    "from sklearn.ensemble import RandomForestClassifier\n",
    "rf=RandomForestClassifier()\n",
    "model=rf.fit(x_train,y_train)\n",
    "y_test=model.predict(x_test)"
   ]
  },
  {
   "cell_type": "code",
   "execution_count": 56,
   "id": "4370d41d-f33d-4f08-aac6-ac563fed23ea",
   "metadata": {},
   "outputs": [],
   "source": [
    "prediction=pd.DataFrame(y_test,test.PassengerId).reset_index()"
   ]
  },
  {
   "cell_type": "code",
   "execution_count": 57,
   "id": "7dd7775c-9de6-4f9e-9d98-e490262b4e4d",
   "metadata": {},
   "outputs": [],
   "source": [
    "prediction.to_csv('gender_submissionRandomForrest.csv')"
   ]
  },
  {
   "cell_type": "markdown",
   "id": "fde9f363-129b-4f07-8806-a375f09f3a74",
   "metadata": {},
   "source": [
    "# Light GBM"
   ]
  },
  {
   "cell_type": "code",
   "execution_count": 58,
   "id": "ed59a04b-9192-4563-8f27-1316e143f8db",
   "metadata": {},
   "outputs": [],
   "source": [
    "# LightGBM\n",
    "from lightgbm import LGBMClassifier\n",
    "lgb=LGBMClassifier()\n",
    "model=lgb.fit(x_train,y_train)\n",
    "y_test=model.predict(x_test)"
   ]
  },
  {
   "cell_type": "code",
   "execution_count": 59,
   "id": "5197f52a-23d9-42b1-b583-a4c7d7eb173d",
   "metadata": {},
   "outputs": [],
   "source": [
    "prediction=pd.DataFrame(y_test,test.PassengerId).reset_index()"
   ]
  },
  {
   "cell_type": "code",
   "execution_count": 60,
   "id": "0f1e9868-597e-43f6-8bd4-207162f2e6a9",
   "metadata": {},
   "outputs": [],
   "source": [
    "prediction.to_csv('gender_submissionLGBM.csv')"
   ]
  }
 ],
 "metadata": {
  "kernelspec": {
   "display_name": "Python 3 (ipykernel)",
   "language": "python",
   "name": "python3"
  },
  "language_info": {
   "codemirror_mode": {
    "name": "ipython",
    "version": 3
   },
   "file_extension": ".py",
   "mimetype": "text/x-python",
   "name": "python",
   "nbconvert_exporter": "python",
   "pygments_lexer": "ipython3",
   "version": "3.9.7"
  }
 },
 "nbformat": 4,
 "nbformat_minor": 5
}
